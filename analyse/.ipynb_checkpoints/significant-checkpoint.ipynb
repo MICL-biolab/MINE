{
 "cells": [
  {
   "cell_type": "code",
   "execution_count": 77,
   "id": "d2142c78",
   "metadata": {},
   "outputs": [],
   "source": [
    "import os\n",
    "import numpy as np\n",
    "import matplotlib.pyplot as plt\n",
    "from tools import merge_matrix, hic_norm, clean_matrix"
   ]
  },
  {
   "cell_type": "code",
   "execution_count": 132,
   "id": "cb4b2b34",
   "metadata": {},
   "outputs": [
    {
     "name": "stdout",
     "output_type": "stream",
     "text": [
      "(338, 5, 400, 400)\n",
      "62625.0\n",
      "(338, 5, 400, 400)\n",
      "199.4227294921875\n"
     ]
    }
   ],
   "source": [
    "cell_line, chr = 'IMR90', 10\n",
    "chr_file_name = 'chr{}_1000b.npz'.format(chr)\n",
    "analyse_path = '/data1/lmh_data/MMSR_complete/analyse/'\n",
    "hr_path = os.path.join(analyse_path, cell_line, 'use_data', 'hr', chr_file_name)\n",
    "result_path = os.path.join(analyse_path, cell_line, 'validation', chr_file_name)\n",
    "\n",
    "hr = np.load(hr_path)['hic']\n",
    "print(hr.shape)\n",
    "print(hr.max())\n",
    "\n",
    "result = np.load(result_path)['out']\n",
    "print(result.shape)\n",
    "print(result.max())\n",
    "\n",
    "hr[hr!=0] = 1\n",
    "result[result!=0] = 1\n",
    "hr = hr.astype(np.uint8)\n",
    "result = result.astype(np.uint8)\n",
    "\n",
    "hr = merge_matrix(hr)\n",
    "hr = np.triu(hr).T + np.triu(hr)\n",
    "\n",
    "result = merge_matrix(result)\n",
    "result = np.triu(result).T + np.triu(result)"
   ]
  },
  {
   "cell_type": "code",
   "execution_count": 133,
   "id": "be983e3c",
   "metadata": {},
   "outputs": [
    {
     "name": "stdout",
     "output_type": "stream",
     "text": [
      "82\n"
     ]
    }
   ],
   "source": [
    "chrom = 'chr{}'.format(chr)\n",
    "significants = []\n",
    "\n",
    "import csv\n",
    "from enum import Enum\n",
    "\n",
    "\n",
    "class Position(Enum):\n",
    "    enhancer_chrom = 1\n",
    "    enhancer_end = 3\n",
    "    enhancer_start = 5\n",
    "    label = 6\n",
    "    promoter_chrom = 7\n",
    "    promoter_end = 8\n",
    "    promoter_start = 10\n",
    "\n",
    "\n",
    "with open(os.path.join(analyse_path, 'EPI_DLMH', 'data', '{}.csv'.format(cell_line)), 'r') as f:\n",
    "    reader = csv.reader(f)\n",
    "#     print(type(reader))\n",
    "    headers = next(reader)\n",
    "#     print(headers)\n",
    "    \n",
    "    for row in reader:\n",
    "        if row[Position.label.value] == \"0\":\n",
    "            continue\n",
    "        if row[Position.enhancer_chrom.value] != row[Position.promoter_chrom.value]:\n",
    "            continue\n",
    "        if row[Position.enhancer_chrom.value] != chrom:\n",
    "            continue\n",
    "\n",
    "        enhancer_start = int(int(row[Position.enhancer_start.value]) / 1000)\n",
    "        enhancer_end = int(int(row[Position.enhancer_end.value]) / 1000)\n",
    "        promoter_start = int(int(row[Position.promoter_start.value]) / 1000)\n",
    "        promoter_end = int(int(row[Position.promoter_end.value]) / 1000)\n",
    "\n",
    "        for enhancer_position in range(enhancer_start, enhancer_end + 1):\n",
    "            for promoter_position in range(promoter_start, promoter_end + 1):\n",
    "                significants.append((enhancer_position, promoter_position))\n",
    "\n",
    "print(len(significants))"
   ]
  },
  {
   "cell_type": "code",
   "execution_count": 134,
   "id": "03ba8763",
   "metadata": {},
   "outputs": [
    {
     "name": "stdout",
     "output_type": "stream",
     "text": [
      "82\n",
      "64\n"
     ]
    }
   ],
   "source": [
    "hr_significant, result_significant = [], []\n",
    "for significant in significants:\n",
    "    if significant[0] >= hr.shape[0] or significant[1] >= hr.shape[1]:\n",
    "        print(str(significant[0]) + \" \" + str(significant[1]))\n",
    "        continue\n",
    "    y, x = significant[0], significant[1]\n",
    "    radius = 1\n",
    "    y_min, x_min = max(y - radius, 0), max(x - radius, 0)\n",
    "    y_max, x_max = min(y + radius, hr.shape[0]), max(x + radius, hr.shape[1])\n",
    "    if hr[y_min:y_max, x_min:x_max].mean() > 0:\n",
    "        hr_significant.append((y, x))\n",
    "    if result[y_min:y_max, x_min:x_max].mean() > 0:\n",
    "        result_significant.append((y, x))\n",
    "\n",
    "print(len(hr_significant))\n",
    "print(len(result_significant))\n",
    "\n",
    "save_path = os.path.join(analyse_path, cell_line, 'significant', 'chr{}_1000b'.format(chr))\n",
    "np.savez_compressed(save_path, all=np.array(significants), hr=np.array(hr_significant), result=np.array(result_significant))"
   ]
  },
  {
   "cell_type": "code",
   "execution_count": 135,
   "id": "6846bc8b",
   "metadata": {},
   "outputs": [
    {
     "name": "stdout",
     "output_type": "stream",
     "text": [
      "82/11610776\n",
      "64/5869345\n"
     ]
    }
   ],
   "source": [
    "print('{}/{}'.format(len(hr_significant), np.count_nonzero(hr)))\n",
    "print('{}/{}'.format(len(result_significant), np.count_nonzero(result)))"
   ]
  },
  {
   "cell_type": "code",
   "execution_count": null,
   "id": "faddaf68",
   "metadata": {},
   "outputs": [],
   "source": []
  },
  {
   "cell_type": "code",
   "execution_count": 136,
   "id": "014b4034",
   "metadata": {},
   "outputs": [
    {
     "name": "stdout",
     "output_type": "stream",
     "text": [
      "['Gene stable ID', 'Gene stable ID version', 'Chromosome/scaffold name', 'Gene start (bp)', 'Gene end (bp)']\n",
      "84567.0\n",
      "135200\n"
     ]
    }
   ],
   "source": [
    "def is_number(s):\n",
    "    try:\n",
    "        float(s)\n",
    "        return True\n",
    "    except ValueError:\n",
    "        pass\n",
    " \n",
    "    try:\n",
    "        import unicodedata\n",
    "        unicodedata.numeric(s)\n",
    "        return True\n",
    "    except (TypeError, ValueError):\n",
    "        pass\n",
    " \n",
    "    return False\n",
    "\n",
    "gene_location_file_path = os.path.join(analyse_path, 'gene_location', 'mart_export.txt')\n",
    "\n",
    "class Position(Enum):\n",
    "    gene_stable_ID = 0\n",
    "    gene_stable_ID_version = 1\n",
    "    chromosome = 2\n",
    "    gene_start = 3\n",
    "    gene_end = 4\n",
    "\n",
    "gene_location = np.zeros(result.shape[0])\n",
    "with open(gene_location_file_path, 'r') as f:\n",
    "    reader = csv.reader(f)\n",
    "    headers = next(reader)\n",
    "    print(headers)\n",
    "\n",
    "    for row in reader:\n",
    "        if not is_number(row[Position.chromosome.value]):\n",
    "            continue\n",
    "        _chr = int(row[Position.chromosome.value])\n",
    "        if _chr != chr:\n",
    "            continue\n",
    "        _start = int(int(row[Position.gene_start.value])/1000)\n",
    "        _end = int(int(row[Position.gene_end.value])/1000)\n",
    "        for i in range(_start, _end+1):\n",
    "            gene_location[i] = 1\n",
    "\n",
    "print(gene_location.sum())\n",
    "print(len(gene_location))"
   ]
  },
  {
   "cell_type": "code",
   "execution_count": 137,
   "id": "2b7ed5dc",
   "metadata": {},
   "outputs": [
    {
     "name": "stdout",
     "output_type": "stream",
     "text": [
      "[63.  0.  2.  2.  2.  2.  1.  0.  0.  0.]\n",
      "[51.  0.  2.  2.  2.  2.  1.  0.  0.  0.]\n"
     ]
    }
   ],
   "source": [
    "attention = 10\n",
    "\n",
    "def find_length(gene_location, promoter_location):\n",
    "    length = 0\n",
    "    while True:\n",
    "        if length >= attention:\n",
    "            return -1\n",
    "        if gene_location[promoter_location+length] or gene_location[promoter_location-length]:\n",
    "            return length\n",
    "        length += 1\n",
    "\n",
    "hr_nums = np.zeros(attention)\n",
    "for significant in hr_significant:\n",
    "    promoter = significant[1]\n",
    "    num = find_length(gene_location, promoter)\n",
    "    if num >= 0:\n",
    "        hr_nums[num] += 1\n",
    "print(hr_nums)\n",
    "\n",
    "result_nums = np.zeros(attention)\n",
    "for significant in result_significant:\n",
    "    promoter = significant[1]\n",
    "    num = find_length(gene_location, promoter)\n",
    "    if num >= 0:\n",
    "        result_nums[num] += 1\n",
    "print(result_nums)"
   ]
  },
  {
   "cell_type": "code",
   "execution_count": 138,
   "id": "03b9c870",
   "metadata": {},
   "outputs": [
    {
     "data": {
      "image/png": "[encoded data removed]",
      "text/plain": [
       "<Figure size 432x288 with 1 Axes>"
      ]
     },
     "metadata": {
      "needs_background": "light"
     },
     "output_type": "display_data"
    },
    {
     "name": "stdout",
     "output_type": "stream",
     "text": [
      "[63.  0.  2.  2.  2.  2.  1.  0.  0.  0.]\n",
      "[51.  0.  2.  2.  2.  2.  1.  0.  0.  0.]\n"
     ]
    }
   ],
   "source": [
    "x = range(attention)\n",
    "\n",
    "hr_y, result_y = hr_nums/len(hr_significant), result_nums/len(result_significant)\n",
    "plt.plot(x, hr_nums)\n",
    "plt.plot(x, result_nums)\n",
    "plt.show()\n",
    "\n",
    "print(hr_nums)\n",
    "print(result_nums)"
   ]
  },
  {
   "cell_type": "code",
   "execution_count": null,
   "id": "23254db5",
   "metadata": {},
   "outputs": [],
   "source": []
  }
 ],
 "metadata": {
  "kernelspec": {
   "display_name": "MMSR",
   "language": "python",
   "name": "mmsr"
  },
  "language_info": {
   "codemirror_mode": {
    "name": "ipython",
    "version": 3
   },
   "file_extension": ".py",
   "mimetype": "text/x-python",
   "name": "python",
   "nbconvert_exporter": "python",
   "pygments_lexer": "ipython3",
   "version": "3.6.13"
  }
 },
 "nbformat": 4,
 "nbformat_minor": 5
}
