{
 "cells": [
  {
   "cell_type": "code",
   "execution_count": 1,
   "id": "168257b4",
   "metadata": {},
   "outputs": [],
   "source": [
    "import numpy as np"
   ]
  },
  {
   "cell_type": "code",
   "execution_count": 2,
   "id": "52acc960",
   "metadata": {},
   "outputs": [],
   "source": [
    "input_file = '/home/lmh/work/repos/MINE/analyse/fig3/tss/temp/HepG2_ATAC_H3K27ac_H3K4me3_2_100_all_enhanced_sig.npy'"
   ]
  },
  {
   "cell_type": "code",
   "execution_count": 3,
   "id": "c36dcb1e",
   "metadata": {},
   "outputs": [
    {
     "name": "stdout",
     "output_type": "stream",
     "text": [
      "{73090.0, 73091.0, 73095.0, 73103.0, 73104.0, 73109.0, 73111.0, 73116.0, 73127.0, 73128.0, 73131.0, 73132.0, 73136.0, 73138.0, 73139.0, 73141.0, 73144.0, 73145.0, 73157.0, 73169.0, 73170.0, 73195.0, 73073.0, 73079.0, 73083.0}\n"
     ]
    }
   ],
   "source": [
    "TAD_start, TAD_end = 73070, 73260\n",
    "anchors, loops = set(), set()\n",
    "active_sigs = np.load(input_file, allow_pickle=True).item()[4]\n",
    "for active_sig in active_sigs:\n",
    "    if active_sig[0] < TAD_end and active_sig[0] > TAD_start:\n",
    "        anchors.add(active_sig[0])\n",
    "    if active_sig[1] < TAD_end and active_sig[1] > TAD_start:\n",
    "        anchors.add(active_sig[1])\n",
    "    if active_sig[0] < TAD_end and active_sig[0] > TAD_start and active_sig[1] < TAD_end and active_sig[1] > TAD_start:\n",
    "        loops.add((active_sig[0], active_sig[1]))\n",
    "print(anchors)\n",
    "print(loops)\n"
   ]
  }
 ],
 "metadata": {
  "kernelspec": {
   "display_name": "MMSR",
   "language": "python",
   "name": "mmsr"
  },
  "language_info": {
   "codemirror_mode": {
    "name": "ipython",
    "version": 3
   },
   "file_extension": ".py",
   "mimetype": "text/x-python",
   "name": "python",
   "nbconvert_exporter": "python",
   "pygments_lexer": "ipython3",
   "version": "3.6.13"
  }
 },
 "nbformat": 4,
 "nbformat_minor": 5
}
