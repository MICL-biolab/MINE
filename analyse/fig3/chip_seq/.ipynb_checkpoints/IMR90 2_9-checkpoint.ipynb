{
 "cells": [
  {
   "cell_type": "code",
   "execution_count": 1,
   "id": "75b99003",
   "metadata": {},
   "outputs": [],
   "source": [
    "import os\n",
    "import sys\n",
    "import numpy as np\n",
    "import matplotlib.pyplot as plt\n",
    "import seaborn as sns\n",
    "from matplotlib_venn import venn2"
   ]
  },
  {
   "cell_type": "code",
   "execution_count": 2,
   "id": "0b3b3d6b",
   "metadata": {},
   "outputs": [],
   "source": [
    "def get_significant(file_path):\n",
    "    significants = []\n",
    "    with open(file_path, \"r\") as f:\n",
    "        datas = f.readlines()\n",
    "        for data in datas[1:]:\n",
    "            data = data.split()\n",
    "            x, y = int(int(data[1])/1000), int(int(data[3])/1000)\n",
    "            p_value, q_value = float(data[5]), float(data[6])\n",
    "            concat = int(data[4])\n",
    "            significants.append((x, y, p_value, q_value, concat))\n",
    "    return significants\n",
    "\n",
    "def cal_significant(significants, proportion):\n",
    "    test = np.array(significants)\n",
    "    \n",
    "    def _filter(_values, max_nums, test):\n",
    "        values_sort_index = _values.argsort()\n",
    "        values_min_numbers_index = values_sort_index[max_nums-1]\n",
    "        p = max_nums\n",
    "        values_min_indexs = _values.argsort()[:p-1]\n",
    "        _test = test[values_min_indexs, :]\n",
    "        return _test\n",
    "\n",
    "    _p_values = test[:, 2]\n",
    "    _test = _filter(_p_values, int(_p_values.shape[0]*proportion), test)\n",
    "    _q_values = _test[:, 3]\n",
    "    _test = _filter(_q_values, int(_q_values.shape[0]*proportion), _test)\n",
    "    return _test\n",
    "\n",
    "def show_venn(enhanced_sig_set, hr_sig_set):\n",
    "    venn2(subsets = [hr_sig_set, enhanced_sig_set], set_labels = ('1kb', 'enhanced'), set_colors=((247/255, 129/255, 191/255), (51/255, 160/255, 44/255)))\n",
    "    plt.show()"
   ]
  },
  {
   "cell_type": "code",
   "execution_count": 3,
   "id": "ce6bdc41",
   "metadata": {},
   "outputs": [
    {
     "name": "stdout",
     "output_type": "stream",
     "text": [
      "> \u001b[0;32m<ipython-input-3-a82cc2e4ef48>\u001b[0m(19)\u001b[0;36m<module>\u001b[0;34m()\u001b[0m\n",
      "\u001b[0;32m     17 \u001b[0;31m    \u001b[0;32mimport\u001b[0m \u001b[0mpdb\u001b[0m\u001b[0;34m;\u001b[0m \u001b[0mpdb\u001b[0m\u001b[0;34m.\u001b[0m\u001b[0mset_trace\u001b[0m\u001b[0;34m(\u001b[0m\u001b[0;34m)\u001b[0m\u001b[0;34m\u001b[0m\u001b[0;34m\u001b[0m\u001b[0m\n",
      "\u001b[0m\u001b[0;32m     18 \u001b[0;31m\u001b[0;34m\u001b[0m\u001b[0m\n",
      "\u001b[0m\u001b[0;32m---> 19 \u001b[0;31m    \u001b[0m_enhanced_sig\u001b[0m \u001b[0;34m=\u001b[0m \u001b[0mset\u001b[0m\u001b[0;34m(\u001b[0m\u001b[0mlist\u001b[0m\u001b[0;34m(\u001b[0m\u001b[0mmap\u001b[0m\u001b[0;34m(\u001b[0m\u001b[0mtuple\u001b[0m\u001b[0;34m,\u001b[0m \u001b[0mnp\u001b[0m\u001b[0;34m.\u001b[0m\u001b[0marray\u001b[0m\u001b[0;34m(\u001b[0m\u001b[0menhanced_sig\u001b[0m\u001b[0;34m)\u001b[0m\u001b[0;34m[\u001b[0m\u001b[0;34m:\u001b[0m\u001b[0;34m,\u001b[0m \u001b[0;34m:\u001b[0m\u001b[0;36m2\u001b[0m\u001b[0;34m]\u001b[0m\u001b[0;34m)\u001b[0m\u001b[0;34m)\u001b[0m\u001b[0;34m)\u001b[0m\u001b[0;34m\u001b[0m\u001b[0;34m\u001b[0m\u001b[0m\n",
      "\u001b[0m\u001b[0;32m     20 \u001b[0;31m    \u001b[0m_hr_sig\u001b[0m \u001b[0;34m=\u001b[0m \u001b[0mset\u001b[0m\u001b[0;34m(\u001b[0m\u001b[0mlist\u001b[0m\u001b[0;34m(\u001b[0m\u001b[0mmap\u001b[0m\u001b[0;34m(\u001b[0m\u001b[0mtuple\u001b[0m\u001b[0;34m,\u001b[0m \u001b[0mnp\u001b[0m\u001b[0;34m.\u001b[0m\u001b[0marray\u001b[0m\u001b[0;34m(\u001b[0m\u001b[0mhr_sig\u001b[0m\u001b[0;34m)\u001b[0m\u001b[0;34m[\u001b[0m\u001b[0;34m:\u001b[0m\u001b[0;34m,\u001b[0m \u001b[0;34m:\u001b[0m\u001b[0;36m2\u001b[0m\u001b[0;34m]\u001b[0m\u001b[0;34m)\u001b[0m\u001b[0;34m)\u001b[0m\u001b[0;34m)\u001b[0m\u001b[0;34m\u001b[0m\u001b[0;34m\u001b[0m\u001b[0m\n",
      "\u001b[0m\u001b[0;32m     21 \u001b[0;31m    \u001b[0mshow_venn\u001b[0m\u001b[0;34m(\u001b[0m\u001b[0m_enhanced_sig\u001b[0m\u001b[0;34m,\u001b[0m \u001b[0m_hr_sig\u001b[0m\u001b[0;34m)\u001b[0m\u001b[0;34m\u001b[0m\u001b[0;34m\u001b[0m\u001b[0m\n",
      "\u001b[0m\n",
      "ipdb> q\n"
     ]
    },
    {
     "ename": "BdbQuit",
     "evalue": "",
     "output_type": "error",
     "traceback": [
      "\u001b[0;31m---------------------------------------------------------------------------\u001b[0m",
      "\u001b[0;31mBdbQuit\u001b[0m                                   Traceback (most recent call last)",
      "\u001b[0;32m<ipython-input-3-a82cc2e4ef48>\u001b[0m in \u001b[0;36m<module>\u001b[0;34m\u001b[0m\n\u001b[1;32m     17\u001b[0m     \u001b[0;32mimport\u001b[0m \u001b[0mpdb\u001b[0m\u001b[0;34m;\u001b[0m \u001b[0mpdb\u001b[0m\u001b[0;34m.\u001b[0m\u001b[0mset_trace\u001b[0m\u001b[0;34m(\u001b[0m\u001b[0;34m)\u001b[0m\u001b[0;34m\u001b[0m\u001b[0;34m\u001b[0m\u001b[0m\n\u001b[1;32m     18\u001b[0m \u001b[0;34m\u001b[0m\u001b[0m\n\u001b[0;32m---> 19\u001b[0;31m     \u001b[0m_enhanced_sig\u001b[0m \u001b[0;34m=\u001b[0m \u001b[0mset\u001b[0m\u001b[0;34m(\u001b[0m\u001b[0mlist\u001b[0m\u001b[0;34m(\u001b[0m\u001b[0mmap\u001b[0m\u001b[0;34m(\u001b[0m\u001b[0mtuple\u001b[0m\u001b[0;34m,\u001b[0m \u001b[0mnp\u001b[0m\u001b[0;34m.\u001b[0m\u001b[0marray\u001b[0m\u001b[0;34m(\u001b[0m\u001b[0menhanced_sig\u001b[0m\u001b[0;34m)\u001b[0m\u001b[0;34m[\u001b[0m\u001b[0;34m:\u001b[0m\u001b[0;34m,\u001b[0m \u001b[0;34m:\u001b[0m\u001b[0;36m2\u001b[0m\u001b[0;34m]\u001b[0m\u001b[0;34m)\u001b[0m\u001b[0;34m)\u001b[0m\u001b[0;34m)\u001b[0m\u001b[0;34m\u001b[0m\u001b[0;34m\u001b[0m\u001b[0m\n\u001b[0m\u001b[1;32m     20\u001b[0m     \u001b[0m_hr_sig\u001b[0m \u001b[0;34m=\u001b[0m \u001b[0mset\u001b[0m\u001b[0;34m(\u001b[0m\u001b[0mlist\u001b[0m\u001b[0;34m(\u001b[0m\u001b[0mmap\u001b[0m\u001b[0;34m(\u001b[0m\u001b[0mtuple\u001b[0m\u001b[0;34m,\u001b[0m \u001b[0mnp\u001b[0m\u001b[0;34m.\u001b[0m\u001b[0marray\u001b[0m\u001b[0;34m(\u001b[0m\u001b[0mhr_sig\u001b[0m\u001b[0;34m)\u001b[0m\u001b[0;34m[\u001b[0m\u001b[0;34m:\u001b[0m\u001b[0;34m,\u001b[0m \u001b[0;34m:\u001b[0m\u001b[0;36m2\u001b[0m\u001b[0;34m]\u001b[0m\u001b[0;34m)\u001b[0m\u001b[0;34m)\u001b[0m\u001b[0;34m)\u001b[0m\u001b[0;34m\u001b[0m\u001b[0;34m\u001b[0m\u001b[0m\n\u001b[1;32m     21\u001b[0m     \u001b[0mshow_venn\u001b[0m\u001b[0;34m(\u001b[0m\u001b[0m_enhanced_sig\u001b[0m\u001b[0;34m,\u001b[0m \u001b[0m_hr_sig\u001b[0m\u001b[0;34m)\u001b[0m\u001b[0;34m\u001b[0m\u001b[0;34m\u001b[0m\u001b[0m\n",
      "\u001b[0;32m<ipython-input-3-a82cc2e4ef48>\u001b[0m in \u001b[0;36m<module>\u001b[0;34m\u001b[0m\n\u001b[1;32m     17\u001b[0m     \u001b[0;32mimport\u001b[0m \u001b[0mpdb\u001b[0m\u001b[0;34m;\u001b[0m \u001b[0mpdb\u001b[0m\u001b[0;34m.\u001b[0m\u001b[0mset_trace\u001b[0m\u001b[0;34m(\u001b[0m\u001b[0;34m)\u001b[0m\u001b[0;34m\u001b[0m\u001b[0;34m\u001b[0m\u001b[0m\n\u001b[1;32m     18\u001b[0m \u001b[0;34m\u001b[0m\u001b[0m\n\u001b[0;32m---> 19\u001b[0;31m     \u001b[0m_enhanced_sig\u001b[0m \u001b[0;34m=\u001b[0m \u001b[0mset\u001b[0m\u001b[0;34m(\u001b[0m\u001b[0mlist\u001b[0m\u001b[0;34m(\u001b[0m\u001b[0mmap\u001b[0m\u001b[0;34m(\u001b[0m\u001b[0mtuple\u001b[0m\u001b[0;34m,\u001b[0m \u001b[0mnp\u001b[0m\u001b[0;34m.\u001b[0m\u001b[0marray\u001b[0m\u001b[0;34m(\u001b[0m\u001b[0menhanced_sig\u001b[0m\u001b[0;34m)\u001b[0m\u001b[0;34m[\u001b[0m\u001b[0;34m:\u001b[0m\u001b[0;34m,\u001b[0m \u001b[0;34m:\u001b[0m\u001b[0;36m2\u001b[0m\u001b[0;34m]\u001b[0m\u001b[0;34m)\u001b[0m\u001b[0;34m)\u001b[0m\u001b[0;34m)\u001b[0m\u001b[0;34m\u001b[0m\u001b[0;34m\u001b[0m\u001b[0m\n\u001b[0m\u001b[1;32m     20\u001b[0m     \u001b[0m_hr_sig\u001b[0m \u001b[0;34m=\u001b[0m \u001b[0mset\u001b[0m\u001b[0;34m(\u001b[0m\u001b[0mlist\u001b[0m\u001b[0;34m(\u001b[0m\u001b[0mmap\u001b[0m\u001b[0;34m(\u001b[0m\u001b[0mtuple\u001b[0m\u001b[0;34m,\u001b[0m \u001b[0mnp\u001b[0m\u001b[0;34m.\u001b[0m\u001b[0marray\u001b[0m\u001b[0;34m(\u001b[0m\u001b[0mhr_sig\u001b[0m\u001b[0;34m)\u001b[0m\u001b[0;34m[\u001b[0m\u001b[0;34m:\u001b[0m\u001b[0;34m,\u001b[0m \u001b[0;34m:\u001b[0m\u001b[0;36m2\u001b[0m\u001b[0;34m]\u001b[0m\u001b[0;34m)\u001b[0m\u001b[0;34m)\u001b[0m\u001b[0;34m)\u001b[0m\u001b[0;34m\u001b[0m\u001b[0;34m\u001b[0m\u001b[0m\n\u001b[1;32m     21\u001b[0m     \u001b[0mshow_venn\u001b[0m\u001b[0;34m(\u001b[0m\u001b[0m_enhanced_sig\u001b[0m\u001b[0;34m,\u001b[0m \u001b[0m_hr_sig\u001b[0m\u001b[0;34m)\u001b[0m\u001b[0;34m\u001b[0m\u001b[0;34m\u001b[0m\u001b[0m\n",
      "\u001b[0;32m~/anaconda3/envs/MMSR/lib/python3.6/bdb.py\u001b[0m in \u001b[0;36mtrace_dispatch\u001b[0;34m(self, frame, event, arg)\u001b[0m\n\u001b[1;32m     49\u001b[0m             \u001b[0;32mreturn\u001b[0m \u001b[0;31m# None\u001b[0m\u001b[0;34m\u001b[0m\u001b[0;34m\u001b[0m\u001b[0m\n\u001b[1;32m     50\u001b[0m         \u001b[0;32mif\u001b[0m \u001b[0mevent\u001b[0m \u001b[0;34m==\u001b[0m \u001b[0;34m'line'\u001b[0m\u001b[0;34m:\u001b[0m\u001b[0;34m\u001b[0m\u001b[0;34m\u001b[0m\u001b[0m\n\u001b[0;32m---> 51\u001b[0;31m             \u001b[0;32mreturn\u001b[0m \u001b[0mself\u001b[0m\u001b[0;34m.\u001b[0m\u001b[0mdispatch_line\u001b[0m\u001b[0;34m(\u001b[0m\u001b[0mframe\u001b[0m\u001b[0;34m)\u001b[0m\u001b[0;34m\u001b[0m\u001b[0;34m\u001b[0m\u001b[0m\n\u001b[0m\u001b[1;32m     52\u001b[0m         \u001b[0;32mif\u001b[0m \u001b[0mevent\u001b[0m \u001b[0;34m==\u001b[0m \u001b[0;34m'call'\u001b[0m\u001b[0;34m:\u001b[0m\u001b[0;34m\u001b[0m\u001b[0;34m\u001b[0m\u001b[0m\n\u001b[1;32m     53\u001b[0m             \u001b[0;32mreturn\u001b[0m \u001b[0mself\u001b[0m\u001b[0;34m.\u001b[0m\u001b[0mdispatch_call\u001b[0m\u001b[0;34m(\u001b[0m\u001b[0mframe\u001b[0m\u001b[0;34m,\u001b[0m \u001b[0marg\u001b[0m\u001b[0;34m)\u001b[0m\u001b[0;34m\u001b[0m\u001b[0;34m\u001b[0m\u001b[0m\n",
      "\u001b[0;32m~/anaconda3/envs/MMSR/lib/python3.6/bdb.py\u001b[0m in \u001b[0;36mdispatch_line\u001b[0;34m(self, frame)\u001b[0m\n\u001b[1;32m     68\u001b[0m         \u001b[0;32mif\u001b[0m \u001b[0mself\u001b[0m\u001b[0;34m.\u001b[0m\u001b[0mstop_here\u001b[0m\u001b[0;34m(\u001b[0m\u001b[0mframe\u001b[0m\u001b[0;34m)\u001b[0m \u001b[0;32mor\u001b[0m \u001b[0mself\u001b[0m\u001b[0;34m.\u001b[0m\u001b[0mbreak_here\u001b[0m\u001b[0;34m(\u001b[0m\u001b[0mframe\u001b[0m\u001b[0;34m)\u001b[0m\u001b[0;34m:\u001b[0m\u001b[0;34m\u001b[0m\u001b[0;34m\u001b[0m\u001b[0m\n\u001b[1;32m     69\u001b[0m             \u001b[0mself\u001b[0m\u001b[0;34m.\u001b[0m\u001b[0muser_line\u001b[0m\u001b[0;34m(\u001b[0m\u001b[0mframe\u001b[0m\u001b[0;34m)\u001b[0m\u001b[0;34m\u001b[0m\u001b[0;34m\u001b[0m\u001b[0m\n\u001b[0;32m---> 70\u001b[0;31m             \u001b[0;32mif\u001b[0m \u001b[0mself\u001b[0m\u001b[0;34m.\u001b[0m\u001b[0mquitting\u001b[0m\u001b[0;34m:\u001b[0m \u001b[0;32mraise\u001b[0m \u001b[0mBdbQuit\u001b[0m\u001b[0;34m\u001b[0m\u001b[0;34m\u001b[0m\u001b[0m\n\u001b[0m\u001b[1;32m     71\u001b[0m         \u001b[0;32mreturn\u001b[0m \u001b[0mself\u001b[0m\u001b[0;34m.\u001b[0m\u001b[0mtrace_dispatch\u001b[0m\u001b[0;34m\u001b[0m\u001b[0;34m\u001b[0m\u001b[0m\n\u001b[1;32m     72\u001b[0m \u001b[0;34m\u001b[0m\u001b[0m\n",
      "\u001b[0;31mBdbQuit\u001b[0m: "
     ]
    }
   ],
   "source": [
    "analyse_path = '/data1/lmh_data/MMSR_complete/analyse/IMR90/analyse'\n",
    "enhanced_path = os.path.join(analyse_path, 'experiment_diff_loop', 'loop', 'enhanced')\n",
    "hr_path = os.path.join(analyse_path, 'experiment_diff_loop', 'loop', 'hr')\n",
    "proportion = 0.015\n",
    "\n",
    "# 未去交集的全部sig\n",
    "enhanced_sigs = set()\n",
    "hr_sigs = set()\n",
    "# 去交集的全部sig\n",
    "all_enhanced_sig = dict()\n",
    "all_hr_sig = dict()\n",
    "for chr in range(1, 23):\n",
    "    enhanced_file_path = os.path.join(enhanced_path, 'chr{}_1000b'.format(chr), 'outputs_2_9', 'FitHiC.spline_pass1.res1000.significances.txt')\n",
    "    hr_file_path = os.path.join(hr_path, 'chr{}_1000b'.format(chr), 'outputs_2_9', 'FitHiC.spline_pass1.res1000.significances.txt')\n",
    "    enhanced_sig = cal_significant(get_significant(enhanced_file_path), proportion)\n",
    "    hr_sig = cal_significant(get_significant(hr_file_path), proportion)\n",
    "    \n",
    "    _enhanced_sig = set(list(map(tuple, np.array(enhanced_sig)[:, :2])))\n",
    "    _hr_sig = set(list(map(tuple, np.array(hr_sig)[:, :2])))\n",
    "    show_venn(_enhanced_sig, _hr_sig)\n",
    "    # 去交集\n",
    "    new_enhanced_sig = _enhanced_sig - _hr_sig\n",
    "    new_hr_sig = _hr_sig - _enhanced_sig\n",
    "    \n",
    "    all_enhanced_sig[chr] = new_enhanced_sig\n",
    "    all_hr_sig[chr] = new_hr_sig\n",
    "    \n",
    "    for sig in _enhanced_sig:\n",
    "        _sig = list(sig)\n",
    "        _sig.append('chr{}'.format(chr))\n",
    "        enhanced_sigs.add(tuple(_sig))\n",
    "    for sig in _hr_sig:\n",
    "        _sig = list(sig)\n",
    "        _sig.append('chr{}'.format(chr))\n",
    "        hr_sigs.add(tuple(_sig))"
   ]
  },
  {
   "cell_type": "code",
   "execution_count": null,
   "id": "544c6694",
   "metadata": {
    "scrolled": false
   },
   "outputs": [],
   "source": [
    "show_venn(enhanced_sigs, hr_sigs)\n",
    "\n",
    "_enhanced_sigs = enhanced_sigs.copy()\n",
    "_hr_sigs = set()\n",
    "for _hr_sig in hr_sigs:\n",
    "    flag = False\n",
    "    for _enhanced_sig in _enhanced_sigs:\n",
    "        if abs(_hr_sig[0]-_enhanced_sig[0])<3 and abs(_hr_sig[1]-_enhanced_sig[1])<3:\n",
    "            _hr_sigs.add(_enhanced_sig)\n",
    "            flag = True\n",
    "    _hr_sigs.add(_hr_sig)\n",
    "    if flag:\n",
    "        _enhanced_sigs.add(_hr_sig)\n",
    "\n",
    "show_venn(_enhanced_sigs, _hr_sigs)"
   ]
  },
  {
   "cell_type": "code",
   "execution_count": null,
   "id": "ea911919",
   "metadata": {},
   "outputs": [],
   "source": [
    "attentions = 50\n",
    "center = attentions - 1\n",
    "\n",
    "def read_chiqseq_file(path):\n",
    "    _peaks = dict()\n",
    "    with open(path)as f:\n",
    "        for line in f:\n",
    "            datas = line.strip().split()\n",
    "            left, right = int(int(datas[1])/1000), int(int(datas[2])/1000)\n",
    "            peaks = list(range(left, right+1))\n",
    "            if datas[0] not in _peaks.keys():\n",
    "                _peaks[datas[0]] = set()\n",
    "            for i in peaks:\n",
    "                _peaks[datas[0]].add(i)\n",
    "    return _peaks\n",
    "\n",
    "def get_hit_indicators(significants, peaks):\n",
    "    distance = np.zeros(attentions*2-1)\n",
    "    \n",
    "    for sig in significants:\n",
    "        x, y = int(sig[0]), int(sig[1])\n",
    "        for i in range(attentions):\n",
    "            if (x+i) in peaks or (y+i) in peaks:\n",
    "                distance[center-i] += 1\n",
    "            if i != 0 and((x-i) in peaks or (y-i) in peaks):\n",
    "                distance[center+i] += 1\n",
    "            if (x+i) in peaks or (x-i) in peaks or (y+i) in peaks or (y-i) in peaks:\n",
    "                break\n",
    "    return distance\n",
    "\n",
    "def show(x, mine_result, hr_result):\n",
    "    sns.set_style(\"whitegrid\") \n",
    "    fig, axes = plt.subplots(nrows=1, ncols=1, figsize=(5, 5), sharey=True)\n",
    "    axes.grid(False)\n",
    "    axes.plot(x, mine_result, color=(51/255, 160/255, 44/255), label='mine')\n",
    "    axes.plot(x, hr_result, color=(177/255, 89/255, 40/255), label='hr')\n",
    "\n",
    "    plt.xlabel('distance')\n",
    "    plt.ylabel('nums')\n",
    "    plt.legend()\n",
    "    plt.show()\n",
    "\n",
    "def figure(chip_seq_path):\n",
    "    all_enhanced_result = np.zeros(attentions*2-1)\n",
    "    all_hr_result = np.zeros(attentions*2-1)\n",
    "\n",
    "    for chr in range(1, 23):\n",
    "        _peaks = read_chiqseq_file(chip_seq_path)\n",
    "        enhanced_result = get_hit_indicators(all_enhanced_sig[chr], _peaks['chr{}'.format(chr)])\n",
    "        hr_result = get_hit_indicators(all_hr_sig[chr], _peaks['chr{}'.format(chr)])\n",
    "\n",
    "        all_enhanced_result += enhanced_result\n",
    "        all_hr_result += hr_result\n",
    "\n",
    "    show(list(range(-attentions+1, attentions)), all_enhanced_result, all_hr_result)"
   ]
  },
  {
   "cell_type": "code",
   "execution_count": null,
   "id": "5ed92a66",
   "metadata": {},
   "outputs": [],
   "source": [
    "chip_seq_path = os.path.join(analyse_path, 'experiment_diff_loop', 'auxiliary_files', 'CTCF_peaks.bed')\n",
    "figure(chip_seq_path)"
   ]
  },
  {
   "cell_type": "code",
   "execution_count": null,
   "id": "8466aced",
   "metadata": {},
   "outputs": [],
   "source": [
    "chip_seq_path = os.path.join(analyse_path, 'experiment_diff_loop', 'auxiliary_files', 'RAD21_peaks.bed')\n",
    "figure(chip_seq_path)"
   ]
  },
  {
   "cell_type": "code",
   "execution_count": null,
   "id": "a82d6c1e",
   "metadata": {},
   "outputs": [],
   "source": [
    "chip_seq_path = os.path.join(analyse_path, 'experiment_diff_loop', 'auxiliary_files', 'SMC3_peaks.bed')\n",
    "figure(chip_seq_path)"
   ]
  },
  {
   "cell_type": "code",
   "execution_count": null,
   "id": "a114c881",
   "metadata": {
    "scrolled": false
   },
   "outputs": [],
   "source": [
    "chip_seq_path = os.path.join(analyse_path, 'experiment_diff_loop', 'auxiliary_files', 'POLR2A_peaks.bed')\n",
    "figure(chip_seq_path)"
   ]
  }
 ],
 "metadata": {
  "kernelspec": {
   "display_name": "MMSR",
   "language": "python",
   "name": "mmsr"
  },
  "language_info": {
   "codemirror_mode": {
    "name": "ipython",
    "version": 3
   },
   "file_extension": ".py",
   "mimetype": "text/x-python",
   "name": "python",
   "nbconvert_exporter": "python",
   "pygments_lexer": "ipython3",
   "version": "3.6.13"
  }
 },
 "nbformat": 4,
 "nbformat_minor": 5
}
