{
 "cells": [
  {
   "cell_type": "code",
   "execution_count": 1,
   "id": "f54c65fd",
   "metadata": {},
   "outputs": [],
   "source": [
    "import os\n",
    "import sys\n",
    "import numpy as np\n",
    "import matplotlib.pyplot as plt\n",
    "import seaborn as sns\n",
    "\n",
    "sys.path.append(os.path.dirname(os.path.dirname(os.path.realpath(os.getcwd()))))\n",
    "from tools import merge_matrix, hic_norm"
   ]
  },
  {
   "cell_type": "code",
   "execution_count": 2,
   "id": "1dd4ef46",
   "metadata": {},
   "outputs": [],
   "source": [
    "analyse_path = '/data1/lmh_data/MMSR_complete/analyse/'\n",
    "train_path = '/data1/lmh_data/MMSR_complete/train/'\n",
    "length = 100"
   ]
  },
  {
   "cell_type": "code",
   "execution_count": 3,
   "id": "c8a399ce",
   "metadata": {},
   "outputs": [],
   "source": [
    "def statistic_info(cell_line):\n",
    "    all_hr_y = np.zeros((22, length))\n",
    "    all_result_y = np.zeros((22, length))\n",
    "    for chr in range(1, 23):\n",
    "        print(chr)\n",
    "        chr_file_name = 'chr{}_1000b.npz'.format(chr)\n",
    "        hr_path = os.path.join(train_path, 'hr', chr_file_name)\n",
    "        result_path = os.path.join(analyse_path, cell_line, 'predict_GM12878', chr_file_name)\n",
    "\n",
    "        hr = np.load(hr_path)['hic']\n",
    "        result = np.load(result_path)['out']\n",
    "\n",
    "        hr = hic_norm(hr)\n",
    "        result[result>255] = 255\n",
    "\n",
    "        hr = hr.astype(np.uint8)\n",
    "        result = result.astype(np.uint8)\n",
    "\n",
    "        hr = merge_matrix(hr)\n",
    "        result = merge_matrix(result)\n",
    "\n",
    "        hr_y = np.zeros(length)\n",
    "        result_y = np.zeros(length)\n",
    "        for i in range(length):\n",
    "            hr_diagonal = hr.diagonal(offset=i)\n",
    "            hr_y[i] = hr_diagonal.sum() / hr_diagonal.shape[0]\n",
    "            result_diagonal = result.diagonal(offset=i)\n",
    "            result_y[i] = result_diagonal.sum() / result_diagonal.shape[0]\n",
    "\n",
    "        all_hr_y[chr-1] = hr_y\n",
    "        all_result_y[chr-1] = result_y\n",
    "    return all_hr_y, all_result_y\n",
    "\n",
    "def show(cell_line, all_hr_y, all_result_y):\n",
    "    sns.set_style(\"whitegrid\") \n",
    "    fig, axes = plt.subplots(nrows=1, ncols=1, figsize=(5, 5), sharey=True)\n",
    "    axes.grid(False)\n",
    "    axes.plot(list(range(length)), all_hr_y.mean(axis=0), color=(166/255, 206/255, 227/255), label='hr')\n",
    "    axes.plot(list(range(length)), all_result_y.mean(axis=0), color=(51/255, 160/255, 44/255), label='mine')\n",
    "\n",
    "    # plt.ylim(0, 1)\n",
    "    plt.xlabel('Genomic distance(1kb)')\n",
    "    plt.ylabel('IF')\n",
    "    plt.xlim(0, length)\n",
    "    plt.legend()\n",
    "#     plt.savefig('IntersectionLocation_{}.pdf'.format(cell_line))\n",
    "    plt.show()\n",
    "\n",
    "def calculate_intersection_location(all_hr_y, all_result_y, is_all=True):\n",
    "    hr_y_mean, result_y_mean = all_hr_y, all_result_y\n",
    "    if is_all:\n",
    "        hr_y_mean = all_hr_y.mean(axis=0)\n",
    "        result_y_mean = all_result_y.mean(axis=0)\n",
    "    for i in range(length):\n",
    "        for j in range(5):\n",
    "            if result_y_mean[i+j] > hr_y_mean[i+j]:\n",
    "                break\n",
    "        if j == 4:\n",
    "            print('交叉点: {}'.format(i))\n",
    "            return i"
   ]
  },
  {
   "cell_type": "code",
   "execution_count": 4,
   "id": "a4ec75bf",
   "metadata": {},
   "outputs": [
    {
     "name": "stdout",
     "output_type": "stream",
     "text": [
      "1\n",
      "2\n",
      "3\n",
      "4\n",
      "5\n",
      "6\n",
      "7\n",
      "8\n",
      "9\n",
      "10\n",
      "11\n",
      "12\n",
      "13\n",
      "14\n",
      "15\n",
      "16\n",
      "17\n",
      "18\n",
      "19\n",
      "20\n",
      "21\n",
      "22\n"
     ]
    },
    {
     "data": {
      "image/png": "[encoded data removed]",
      "text/plain": [
       "<Figure size 360x360 with 1 Axes>"
      ]
     },
     "metadata": {},
     "output_type": "display_data"
    },
    {
     "name": "stdout",
     "output_type": "stream",
     "text": [
      "交叉点: 7\n"
     ]
    },
    {
     "data": {
      "text/plain": [
       "7"
      ]
     },
     "execution_count": 4,
     "metadata": {},
     "output_type": "execute_result"
    }
   ],
   "source": [
    "# a\n",
    "cell_line = 'GM12878_IMR90_K562'\n",
    "\n",
    "GM12878_all_hr_y, GM12878_all_result_y = statistic_info(cell_line)\n",
    "show(cell_line, GM12878_all_hr_y, GM12878_all_result_y)\n",
    "calculate_intersection_location(GM12878_all_hr_y, GM12878_all_result_y)"
   ]
  },
  {
   "cell_type": "code",
   "execution_count": null,
   "id": "cf73b378",
   "metadata": {},
   "outputs": [],
   "source": []
  },
  {
   "cell_type": "code",
   "execution_count": 5,
   "id": "27db08f7",
   "metadata": {},
   "outputs": [
    {
     "name": "stdout",
     "output_type": "stream",
     "text": [
      "交叉点: 11\n",
      "交叉点: 7\n",
      "交叉点: 7\n",
      "交叉点: 7\n",
      "交叉点: 7\n",
      "交叉点: 7\n",
      "交叉点: 7\n",
      "交叉点: 7\n",
      "交叉点: 6\n",
      "交叉点: 7\n",
      "交叉点: 8\n",
      "交叉点: 7\n",
      "交叉点: 6\n",
      "交叉点: 8\n",
      "交叉点: 8\n",
      "交叉点: 8\n",
      "交叉点: 8\n",
      "交叉点: 5\n",
      "交叉点: 4\n",
      "交叉点: 7\n",
      "交叉点: 8\n",
      "交叉点: 15\n"
     ]
    },
    {
     "data": {
      "image/png": "[encoded data removed]",
      "text/plain": [
       "<Figure size 360x360 with 1 Axes>"
      ]
     },
     "metadata": {},
     "output_type": "display_data"
    }
   ],
   "source": [
    "# d\n",
    "GM12878 = [calculate_intersection_location(GM12878_all_hr_y[i], GM12878_all_result_y[i], is_all=False) for i in range(22)]\n",
    "\n",
    "x = list(range(22))\n",
    "\n",
    "sns.set_style(\"whitegrid\") \n",
    "fig, axes = plt.subplots(nrows=1, ncols=1, figsize=(5, 5), sharey=True)\n",
    "axes.grid(False)\n",
    "\n",
    "axes.plot(x, GM12878, color=(51/255, 160/255, 44/255), label='GM12878')\n",
    "\n",
    "plt.ylim(0, 50)\n",
    "plt.xlabel('Chromosomes')\n",
    "plt.ylabel('IntersectionLocation(1kb)')\n",
    "plt.xlim(0, len(x))\n",
    "plt.legend()\n",
    "# plt.savefig('IntersectionLocation_1.pdf')\n",
    "plt.show()"
   ]
  },
  {
   "cell_type": "code",
   "execution_count": null,
   "id": "9c2bf649",
   "metadata": {},
   "outputs": [],
   "source": []
  }
 ],
 "metadata": {
  "kernelspec": {
   "display_name": "MMSR",
   "language": "python",
   "name": "mmsr"
  },
  "language_info": {
   "codemirror_mode": {
    "name": "ipython",
    "version": 3
   },
   "file_extension": ".py",
   "mimetype": "text/x-python",
   "name": "python",
   "nbconvert_exporter": "python",
   "pygments_lexer": "ipython3",
   "version": "3.6.13"
  }
 },
 "nbformat": 4,
 "nbformat_minor": 5
}
