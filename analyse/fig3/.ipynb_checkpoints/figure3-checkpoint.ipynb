{
 "cells": [
  {
   "cell_type": "code",
   "execution_count": 1,
   "id": "49abd9b9",
   "metadata": {},
   "outputs": [],
   "source": [
    "import os\n",
    "import copy\n",
    "import numpy as np\n",
    "import matplotlib as mpl\n",
    "import matplotlib.pyplot as plt\n",
    "import seaborn as sns"
   ]
  },
  {
   "cell_type": "code",
   "execution_count": 2,
   "id": "03e37e61",
   "metadata": {},
   "outputs": [
    {
     "ename": "NameError",
     "evalue": "name 'mpl' is not defined",
     "output_type": "error",
     "traceback": [
      "\u001b[0;31m---------------------------------------------------------------------------\u001b[0m",
      "\u001b[0;31mNameError\u001b[0m                                 Traceback (most recent call last)",
      "\u001b[0;32m<ipython-input-2-054d09fe4763>\u001b[0m in \u001b[0;36m<module>\u001b[0;34m\u001b[0m\n\u001b[0;32m----> 1\u001b[0;31m \u001b[0mmpl\u001b[0m\u001b[0;34m.\u001b[0m\u001b[0mrcParams\u001b[0m\u001b[0;34m[\u001b[0m\u001b[0;34m'pdf.fonttype'\u001b[0m\u001b[0;34m]\u001b[0m \u001b[0;34m=\u001b[0m \u001b[0;36m42\u001b[0m\u001b[0;34m\u001b[0m\u001b[0;34m\u001b[0m\u001b[0m\n\u001b[0m\u001b[1;32m      2\u001b[0m \u001b[0mmpl\u001b[0m\u001b[0;34m.\u001b[0m\u001b[0mrcParams\u001b[0m\u001b[0;34m[\u001b[0m\u001b[0;34m'ps.fonttype'\u001b[0m\u001b[0;34m]\u001b[0m \u001b[0;34m=\u001b[0m \u001b[0;36m42\u001b[0m\u001b[0;34m\u001b[0m\u001b[0;34m\u001b[0m\u001b[0m\n\u001b[1;32m      3\u001b[0m \u001b[0;34m\u001b[0m\u001b[0m\n\u001b[1;32m      4\u001b[0m figure_size = dict(\n\u001b[1;32m      5\u001b[0m     \u001b[0multra\u001b[0m\u001b[0;34m=\u001b[0m\u001b[0;36m45\u001b[0m\u001b[0;34m,\u001b[0m\u001b[0;34m\u001b[0m\u001b[0;34m\u001b[0m\u001b[0m\n",
      "\u001b[0;31mNameError\u001b[0m: name 'mpl' is not defined"
     ]
    }
   ],
   "source": [
    "mpl.rcParams['pdf.fonttype'] = 42\n",
    "mpl.rcParams['ps.fonttype'] = 42\n",
    "\n",
    "figure_size = dict(\n",
    "    ultra=45,\n",
    "    large=35,\n",
    "    middle=20,\n",
    "    small=10,\n",
    "    very_small=5\n",
    ")\n",
    "\n",
    "def set_plt(figsize=(10, 10)):\n",
    "    params = {'axes.titlesize': figure_size['ultra'],\n",
    "              'legend.fontsize': figure_size['middle'],\n",
    "              'figure.figsize': figsize,\n",
    "              'axes.labelsize': figure_size['ultra'],\n",
    "              'xtick.labelsize': figure_size['ultra'],\n",
    "              'ytick.labelsize': figure_size['ultra'],\n",
    "              'figure.titlesize': figure_size['ultra'],\n",
    "              'lines.linewidth': figure_size['very_small']}\n",
    "    plt.rcParams.update(params)\n",
    "\n",
    "    font = {'family': 'sans-serif', 'sans-serif': 'Arial'}\n",
    "    plt.rc('font', **font)\n",
    "\n",
    "def set_Border(axes):\n",
    "    axes.spines['top'].set_color('none')\n",
    "    axes.spines['right'].set_color('none')\n",
    "    axes.spines['bottom'].set_color('black')\n",
    "    axes.spines['left'].set_color('black')\n",
    "    axes.spines['bottom'].set_linewidth(figure_size['very_small'])\n",
    "    axes.spines['left'].set_linewidth(figure_size['very_small'])\n",
    "    axes.tick_params(axis='both', width=figure_size['very_small'], length=figure_size['small'])"
   ]
  },
  {
   "cell_type": "code",
   "execution_count": null,
   "id": "86b09997",
   "metadata": {},
   "outputs": [],
   "source": [
    "all_hr_sig = np.load('temp/IMR90_ATAC_H3K27ac_H3K4me3_2_100_all_hr_sig.npy', allow_pickle=True).item()\n",
    "\n",
    "IMR90_ATAC_H3K27ac_H3K4me3_2_100_all_enhanced_sig = np.load('temp/IMR90_ATAC_H3K27ac_H3K4me3_2_100_all_enhanced_sig.npy', allow_pickle=True).item()\n",
    "IMR90_ATAC_H3K27ac_2_100_all_enhanced_sig = np.load('temp/IMR90_ATAC_H3K27ac_2_100_all_enhanced_sig.npy', allow_pickle=True).item()\n",
    "IMR90_ATAC_H3K4me3_2_100_all_enhanced_sig = np.load('temp/IMR90_ATAC_H3K4me3_2_100_all_enhanced_sig.npy', allow_pickle=True).item()\n",
    "\n",
    "colors = [\n",
    "    (0, 159/255, 232/255),\n",
    "    (222/255, 28/255, 38/255),\n",
    "    (0, 191/255, 82/255),\n",
    "    (255/255, 122/255, 23/255)\n",
    "]\n"
   ]
  },
  {
   "cell_type": "code",
   "execution_count": null,
   "id": "ca980738",
   "metadata": {},
   "outputs": [],
   "source": [
    "attentions = 50\n",
    "center = attentions - 1\n",
    "\n",
    "def read_chiqseq_file(path):\n",
    "    _peaks = dict()\n",
    "    with open(path)as f:\n",
    "        for line in f:\n",
    "            datas = line.strip().split()\n",
    "            left, right = int(int(datas[1])/1000), int(int(datas[2])/1000)\n",
    "            peaks = list(range(left, right+1))\n",
    "            if datas[0] not in _peaks.keys():\n",
    "                _peaks[datas[0]] = set()\n",
    "            for i in peaks:\n",
    "                _peaks[datas[0]].add(i)\n",
    "    return _peaks\n",
    "\n",
    "def get_hit_indicators(significants, peaks):\n",
    "    distance = np.zeros(attentions*2-1)\n",
    "    \n",
    "    for sig in significants:\n",
    "        x, y = int(sig[0]), int(sig[1])\n",
    "        for i in range(attentions):\n",
    "            if (x+i) in peaks or (y+i) in peaks:\n",
    "                distance[center-i] += 1\n",
    "            if i != 0 and((x-i) in peaks or (y-i) in peaks):\n",
    "                distance[center+i] += 1\n",
    "            if (x+i) in peaks or (x-i) in peaks or (y+i) in peaks or (y-i) in peaks:\n",
    "                break\n",
    "    return distance\n",
    "\n",
    "def show(x, mine_results: dict, hr_result, colors_map, title):\n",
    "    set_plt()\n",
    "    \n",
    "    fig, axes = plt.subplots(nrows=1, ncols=1, sharey=True)\n",
    "    axes.grid(False)\n",
    "    for key in mine_results.keys():\n",
    "        axes.plot(x, mine_results[key], color=colors_map[key], label=key)\n",
    "    axes.plot(x, hr_result, color=colors[3], label='Raw high resolution')\n",
    "    \n",
    "    set_Border(axes)\n",
    "    axes.set_xticks([-40, 0, 40])\n",
    "    axes.set_xticklabels(['-40K', 'Loop anchor', '40K'])\n",
    "\n",
    "    plt.ylabel('Number of Peaks')\n",
    "    plt.legend(\n",
    "        facecolor='white', loc='upper right', framealpha=0, handletextpad=1, borderpad=0, borderaxespad=0\n",
    "    ).get_frame().set_linewidth(0.0)\n",
    "#     plt.title(title)\n",
    "    plt.savefig('figure_file/{}.pdf'.format(title), format='pdf', bbox_inches='tight')\n",
    "    plt.show()\n",
    "\n",
    "def figure(chip_seq_path, colors_map, title):\n",
    "    all_enhanced_results = copy.deepcopy(colors_map)\n",
    "    for key in all_enhanced_results.keys():\n",
    "        all_enhanced_results[key] = np.zeros(attentions*2-1)\n",
    "    all_hr_result = np.zeros(attentions*2-1)\n",
    "\n",
    "    _peaks = read_chiqseq_file(chip_seq_path)\n",
    "    for chr in range(1, 23):\n",
    "        if 'chr{}'.format(chr) not in _peaks.keys():\n",
    "            continue\n",
    "        hr_result = get_hit_indicators(all_hr_sig[chr], _peaks['chr{}'.format(chr)])\n",
    "        for key in all_enhanced_results.keys():\n",
    "            enhanced_result = get_hit_indicators(all_enhanced_sig[key][chr], _peaks['chr{}'.format(chr)])\n",
    "            all_enhanced_results[key] += enhanced_result\n",
    "        all_hr_result += hr_result\n",
    "\n",
    "    show(list(range(-attentions+1, attentions)), all_enhanced_results, all_hr_result, colors_map, title)"
   ]
  },
  {
   "cell_type": "code",
   "execution_count": null,
   "id": "8cbdc68a",
   "metadata": {},
   "outputs": [],
   "source": [
    "all_enhanced_sig = dict(\n",
    "    H3K27ac_H3K4me3=IMR90_ATAC_H3K27ac_H3K4me3_2_100_all_enhanced_sig,\n",
    "    H3K27ac=IMR90_ATAC_H3K27ac_2_100_all_enhanced_sig,\n",
    "    H3K4me3=IMR90_ATAC_H3K4me3_2_100_all_enhanced_sig\n",
    ")\n",
    "auxiliary_files_path = '/data1/lmh_data/MINE/source/IMR90'"
   ]
  },
  {
   "cell_type": "code",
   "execution_count": null,
   "id": "c41a4d7f",
   "metadata": {},
   "outputs": [],
   "source": [
    "colors_map = dict(\n",
    "    H3K27ac_H3K4me3=colors[0],\n",
    "    H3K27ac=colors[1],\n",
    "    H3K4me3=colors[2]\n",
    ")"
   ]
  },
  {
   "cell_type": "code",
   "execution_count": null,
   "id": "70354be8",
   "metadata": {
    "scrolled": false
   },
   "outputs": [],
   "source": [
    "chip_seq_path = os.path.join(auxiliary_files_path, 'CTCF_peaks.bed')\n",
    "figure(chip_seq_path, colors_map, 'CTCF overlap in IMR90')"
   ]
  },
  {
   "cell_type": "code",
   "execution_count": null,
   "id": "c46e5635",
   "metadata": {},
   "outputs": [],
   "source": [
    "chip_seq_path = os.path.join(auxiliary_files_path, 'RAD21_peaks.bed')\n",
    "figure(chip_seq_path, colors_map, 'RAD21 overlap in IMR90')"
   ]
  },
  {
   "cell_type": "code",
   "execution_count": null,
   "id": "620920d0",
   "metadata": {},
   "outputs": [],
   "source": [
    "chip_seq_path = os.path.join(auxiliary_files_path, 'SMC3_peaks.bed')\n",
    "figure(chip_seq_path, colors_map, 'SMC3 overlap in IMR90')"
   ]
  },
  {
   "cell_type": "code",
   "execution_count": null,
   "id": "1d02b4c5",
   "metadata": {
    "scrolled": false
   },
   "outputs": [],
   "source": [
    "chip_seq_path = os.path.join(auxiliary_files_path, 'POLR2A_peaks.bed')\n",
    "figure(chip_seq_path, colors_map, 'POLR2A overlap in IMR90')"
   ]
  }
 ],
 "metadata": {
  "kernelspec": {
   "display_name": "Python 3",
   "language": "python",
   "name": "python3"
  },
  "language_info": {
   "codemirror_mode": {
    "name": "ipython",
    "version": 3
   },
   "file_extension": ".py",
   "mimetype": "text/x-python",
   "name": "python",
   "nbconvert_exporter": "python",
   "pygments_lexer": "ipython3",
   "version": "3.8.8"
  }
 },
 "nbformat": 4,
 "nbformat_minor": 5
}
