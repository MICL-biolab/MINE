{
 "cells": [
  {
   "cell_type": "code",
   "execution_count": 24,
   "id": "ce476d5a",
   "metadata": {
    "scrolled": false
   },
   "outputs": [
    {
     "name": "stdout",
     "output_type": "stream",
     "text": [
      "['NC_000001.11', 'BestRefSeq', 'gene', '26225320', '26229840', '.', '+', '.', 'ID=gene-ZPLD2P;Dbxref=GeneID:101928303,HGNC:HGNC:54510;Name=ZPLD2P;description=zona pellucida like domain containing 2%2C pseudogene;gbkey=Gene;gene=ZPLD2P;gene_biotype=lncRNA\\n']\n",
      "['NC_000001.11', 'BestRefSeq', 'gene', '34975699', '34978706', '.', '-', '.', 'ID=gene-GPR199P;Dbxref=GeneID:653160,HGNC:HGNC:55170;Name=GPR199P;description=G protein-coupled receptor 199%2C pseudogene;gbkey=Gene;gene=GPR199P;gene_biotype=lncRNA\\n']\n",
      "['NC_000002.12', 'Curated Genomic', 'gene', '89045990', '89046466', '.', '-', '.', 'ID=gene-IGKV1-13;Dbxref=GeneID:28939,HGNC:HGNC:5731,IMGT/GENE-DB:IGKV1-13;Name=IGKV1-13;description=immunoglobulin kappa variable 1-13 (gene/pseudogene);gbkey=Gene;gene=IGKV1-13;gene_biotype=V_segment;gene_synonym=IGKV113,L18\\n']\n",
      "['NC_000002.12', 'Curated Genomic', 'gene', '89319625', '89320099', '.', '-', '.', 'ID=gene-IGKV1-39;Dbxref=GeneID:28930,HGNC:HGNC:5740,IMGT/GENE-DB:IGKV1-39;Name=IGKV1-39;description=immunoglobulin kappa variable 1-39 (gene/pseudogene);end_range=89320099,.;gbkey=Gene;gene=IGKV1-39;gene_biotype=V_segment;gene_synonym=IGKV139,O12,O12a;partial=true;start_range=.,89319625\\n']\n",
      "['NC_000002.12', 'Curated Genomic', 'gene', '90114887', '90115400', '.', '+', '.', 'ID=gene-IGKV3D-15;Dbxref=GeneID:28875,HGNC:HGNC:5824,IMGT/GENE-DB:IGKV3D-15;Name=IGKV3D-15;description=immunoglobulin kappa variable 3D-15 (gene/pseudogene);end_range=90115400,.;gbkey=Gene;gene=IGKV3D-15;gene_biotype=V_segment;gene_synonym=IGKV3D15,L16,L16a,L16b,L16c;partial=true\\n']\n",
      "['NC_000002.12', 'BestRefSeq', 'gene', '131794961', '131801661', '.', '-', '.', 'ID=gene-CDRT15P3;Dbxref=GeneID:408029,HGNC:HGNC:33824;Name=CDRT15P3;description=CDRT15 pseudogene 3;gbkey=Gene;gene=CDRT15P3;gene_biotype=lncRNA;gene_synonym=C2orf27B\\n']\n",
      "['NC_000006.12', 'BestRefSeq', 'gene', '29417065', '29418396', '.', '+', '.', 'ID=gene-OR12D1;Dbxref=GeneID:26530,HGNC:HGNC:8177;Name=OR12D1;description=olfactory receptor family 12 subfamily D member 1 (gene/pseudogene);gbkey=Gene;gene=OR12D1;gene_biotype=misc_RNA;gene_synonym=hs6M1-19,OR12D1P\\n']\n",
      "['NC_000006.12', 'BestRefSeq', 'gene', '31053449', '31059849', '.', '+', '.', 'ID=gene-HCG22;Dbxref=GeneID:285834,HGNC:HGNC:27780,MIM:613918;Name=HCG22;description=HLA complex group 22 (gene/pseudogene);gbkey=Gene;gene=HCG22;gene_biotype=misc_RNA;gene_synonym=PBMUCL2\\n']\n",
      "['NC_000007.14', 'BestRefSeq', 'gene', '72862757', '72871506', '.', '-', '.', 'ID=gene-SPDYE7P;Dbxref=GeneID:441251,HGNC:HGNC:35466;Name=SPDYE7P;description=speedy/RINGO cell cycle regulator family member E7%2C pseudogene;gbkey=Gene;gene=SPDYE7P;gene_biotype=protein_coding\\n']\n",
      "['NC_000007.14', 'BestRefSeq%2CGnomon', 'gene', '73104008', '73155431', '.', '-', '.', 'ID=gene-SPDYE10P;Dbxref=GeneID:643862,HGNC:HGNC:51506;Name=SPDYE10P;description=speedy/RINGO cell cycle regulator family member E10%2C pseudogene;gbkey=Gene;gene=SPDYE10P;gene_biotype=protein_coding\\n']\n",
      "['NC_000007.14', 'BestRefSeq%2CGnomon', 'gene', '74904302', '74915078', '.', '-', '.', 'ID=gene-SPDYE12P;Dbxref=GeneID:100101268,HGNC:HGNC:51508;Name=SPDYE12P;description=speedy/RINGO cell cycle regulator family member E12%2C pseudogene;gbkey=Gene;gene=SPDYE12P;gene_biotype=protein_coding\\n']\n",
      "['NC_000007.14', 'Curated Genomic', 'gene', '142399928', '142400377', '.', '+', '.', 'ID=gene-TRBV10-1;Dbxref=GeneID:28585,HGNC:HGNC:12177,IMGT/GENE-DB:TRBV10-1;Name=TRBV10-1;description=T cell receptor beta variable 10-1(gene/pseudogene);end_range=142400377,.;gbkey=Gene;gene=TRBV10-1;gene_biotype=V_segment;gene_synonym=TCRBV10S1,TCRBV12S2,TCRBV12S2A1T,TRBV101;partial=true\\n']\n",
      "['NC_000007.14', 'Curated Genomic', 'gene', '142455174', '142455635', '.', '+', '.', 'ID=gene-TRBV7-4;Dbxref=GeneID:28594,HGNC:HGNC:12238,IMGT/GENE-DB:TRBV7-4;Name=TRBV7-4;description=T cell receptor beta variable 7-4 (gene/pseudogene);end_range=142455635,.;gbkey=Gene;gene=TRBV7-4;gene_biotype=V_segment;gene_synonym=TCRBV6S8A2T,TCRBV7S4,TRBV74;partial=true\\n']\n",
      "['NC_000007.14', 'Curated Genomic', 'gene', '142812586', '142813287', '.', '-', '.', 'ID=gene-TRBV30;Dbxref=GeneID:28557,HGNC:HGNC:12214,IMGT/GENE-DB:TRBV30;Name=TRBV30;description=T cell receptor beta variable 30 (gene/pseudogene);gbkey=Gene;gene=TRBV30;gene_biotype=V_segment;gene_synonym=TCRBV20S1A1N2,TCRBV30S1;partial=true;start_range=.,142812586\\n']\n",
      "['NC_000007.14', 'BestRefSeq', 'gene', '143510867', '143512011', '.', '-', '.', 'ID=gene-OR10AC1;Dbxref=GeneID:392133,HGNC:HGNC:14758;Name=OR10AC1;description=olfactory receptor family 10 subfamily AC member 1 (gene/pseudogene);gbkey=Gene;gene=OR10AC1;gene_biotype=misc_RNA;gene_synonym=OR10AC1P\\n']\n",
      "['NC_000011.10', 'BestRefSeq', 'gene', '7924592', '7931268', '.', '-', '.', 'ID=gene-OR10A6;Dbxref=GeneID:390093,HGNC:HGNC:15132;Name=OR10A6;description=olfactory receptor family 10 subfamily A member 6 (gene/pseudogene);gbkey=Gene;gene=OR10A6;gene_biotype=protein_coding;gene_synonym=OR11-96\\n']\n",
      "['NC_000011.10', 'BestRefSeq', 'gene', '56315144', '56320639', '.', '+', '.', 'ID=gene-OR8K3;Dbxref=GeneID:219473,HGNC:HGNC:15313;Name=OR8K3;description=olfactory receptor family 8 subfamily K member 3 (gene/pseudogene);gbkey=Gene;gene=OR8K3;gene_biotype=protein_coding;gene_synonym=OR11-181\\n']\n",
      "['NC_000011.10', 'BestRefSeq', 'gene', '71405746', '71423354', '.', '-', '.', 'ID=gene-ACTE1P;Dbxref=GeneID:399923,HGNC:HGNC:51491;Name=ACTE1P;description=actin epsilon 1%2C pseudogene;gbkey=Gene;gene=ACTE1P;gene_biotype=lncRNA\\n']\n",
      "['NC_000014.9', 'BestRefSeq', 'gene', '19868197', '19869173', '.', '-', '.', 'ID=gene-OR4K3;Dbxref=GeneID:283617,HGNC:HGNC:14731;Name=OR4K3;description=olfactory receptor family 4 subfamily K member 3 (gene/pseudogene);gbkey=Gene;gene=OR4K3;gene_biotype=protein_coding;gene_synonym=OR14-10,OR4K3P\\n']\n",
      "['NC_000014.9', 'BestRefSeq', 'gene', '20002062', '20003192', '.', '+', '.', 'ID=gene-OR4Q2;Dbxref=GeneID:390432,HGNC:HGNC:15359;Name=OR4Q2;description=olfactory receptor family 4 subfamily Q member 2 (gene/pseudogene);gbkey=Gene;gene=OR4Q2;gene_biotype=misc_RNA;gene_synonym=OR4Q2P\\n']\n",
      "['NC_000014.9', 'Curated Genomic', 'gene', '22132553', '22133034', '.', '+', '.', 'ID=gene-TRAV8-7;Dbxref=GeneID:28679,HGNC:HGNC:12152,IMGT/GENE-DB:TRAV8-7;Name=TRAV8-7;description=T cell receptor alpha variable 8-7 (pseudogene);end_range=22133034,.;gbkey=Gene;gene=TRAV8-7;gene_biotype=V_segment;gene_synonym=TCRAV8S7,TRAV87;partial=true\\n']\n",
      "['NC_000014.9', 'BestRefSeq', 'gene', '85271932', '85272061', '.', '+', '.', 'ID=gene-SNORD3P3;Dbxref=GeneID:26843,HGNC:HGNC:10177;Name=SNORD3P3;description=small nucleolar RNA%2C C/D box 3 pseudogene 3;gbkey=Gene;gene=SNORD3P3;gene_biotype=snoRNA;gene_synonym=RNU3P3,U3,U3.5,u3.7\\n']\n",
      "['NC_000016.10', 'BestRefSeq', 'gene', '29863683', '29868053', '.', '+', '.', 'ID=gene-CDIPTOSP;Dbxref=GeneID:440356,HGNC:HGNC:48609;Name=CDIPTOSP;description=CDIP transferase opposite strand%2C pseudogene;gbkey=Gene;gene=CDIPTOSP;gene_biotype=lncRNA;gene_synonym=CDIPT-AS1\\n']\n",
      "['NC_000016.10', 'BestRefSeq', 'gene', '81100875', '81220394', '.', '-', '.', 'ID=gene-PKD1L2;Dbxref=GeneID:114780,HGNC:HGNC:21715,MIM:607894;Name=PKD1L2;description=polycystin 1 like 2 (gene/pseudogene);gbkey=Gene;gene=PKD1L2;gene_biotype=protein_coding;gene_synonym=PC1L2\\n']\n",
      "['NC_000017.11', 'BestRefSeq%2CGnomon', 'gene', '74557229', '74567512', '.', '-', '.', 'ID=gene-CD300H;Dbxref=GeneID:100130520,HGNC:HGNC:52292,MIM:616560;Name=CD300H;description=CD300H molecule (gene/pseudogene);gbkey=Gene;gene=CD300H;gene_biotype=protein_coding;gene_synonym=CD300Hs\\n']\n",
      "['NC_000019.10', 'BestRefSeq', 'gene', '23758496', '23871188', '.', '+', '.', 'ID=gene-RPSAP58;Dbxref=GeneID:388524,HGNC:HGNC:36809;Name=RPSAP58;description=ribosomal protein SA pseudogene 58;gbkey=Gene;gene=RPSAP58;gene_biotype=protein_coding;gene_synonym=RPSA_30_1642\\n']\n",
      "['NC_000019.10', 'BestRefSeq', 'gene', '37823722', '37855196', '.', '-', '.', 'ID=gene-WDR87BP;Dbxref=GeneID:100631378,HGNC:HGNC:55125;Name=WDR87BP;description=WD repeat domain 87B%2C pseudogene;gbkey=Gene;gene=WDR87BP;gene_biotype=lncRNA\\n']\n",
      "['NC_000022.11', 'Curated Genomic', 'gene', '22369648', '22370087', '.', '+', '.', 'ID=gene-IGLV7-46;Dbxref=GeneID:28775,HGNC:HGNC:5930,IMGT/GENE-DB:IGLV7-46;Name=IGLV7-46;description=immunoglobulin lambda variable 7-46 (gene/pseudogene);gbkey=Gene;gene=IGLV7-46;gene_biotype=V_segment;gene_synonym=IGLV746,V3-3\\n']\n",
      "['NC_000022.11', 'Curated Genomic', 'gene', '22704329', '22704818', '.', '+', '.', 'ID=gene-IGLV3-22;Dbxref=GeneID:28795,HGNC:HGNC:5906,IMGT/GENE-DB:IGLV3-22;Name=IGLV3-22;description=immunoglobulin lambda variable 3-22 (gene/pseudogene);gbkey=Gene;gene=IGLV3-22;gene_biotype=V_segment;gene_synonym=IGLV322,V2-15\\n']\n",
      "['NC_000022.11', 'Curated Genomic', 'gene', '22819125', '22819752', '.', '+', '.', 'ID=gene-IGLV3-9;Dbxref=GeneID:28804,HGNC:HGNC:5918,IMGT/GENE-DB:IGLV3-9;Name=IGLV3-9;description=immunoglobulin lambda variable 3-9 (gene/pseudogene);gbkey=Gene;gene=IGLV3-9;gene_biotype=V_segment;gene_synonym=IGLV39,V2-6\\n']\n",
      "['NW_012132915.1', 'Curated Genomic', 'gene', '154816', '155292', '.', '-', '.', 'ID=gene-IGKV1-13-2;Dbxref=GeneID:28939,HGNC:HGNC:5731,IMGT/GENE-DB:IGKV1-13;Name=IGKV1-13;description=immunoglobulin kappa variable 1-13 (gene/pseudogene);gbkey=Gene;gene=IGKV1-13;gene_biotype=V_segment;gene_synonym=IGKV113,L18\\n']\n",
      "['NW_012132915.1', 'Curated Genomic', 'gene', '428451', '428925', '.', '-', '.', 'ID=gene-IGKV1-39-2;Dbxref=GeneID:28930,HGNC:HGNC:5740,IMGT/GENE-DB:IGKV1-39;Name=IGKV1-39;description=immunoglobulin kappa variable 1-39 (gene/pseudogene);end_range=428925,.;gbkey=Gene;gene=IGKV1-39;gene_biotype=V_segment;gene_synonym=IGKV139,O12,O12a;partial=true;start_range=.,428451\\n']\n",
      "['NW_018654714.1', 'BestRefSeq', 'gene', '130231', '131375', '.', '-', '.', 'ID=gene-OR10AC1-2;Dbxref=GeneID:392133,HGNC:HGNC:14758;Name=OR10AC1;description=olfactory receptor family 10 subfamily AC member 1 (gene/pseudogene);gbkey=Gene;gene=OR10AC1;gene_biotype=protein_coding;gene_synonym=OR10AC1P\\n']\n",
      "['NW_011332695.1', 'BestRefSeq', 'gene', '155586', '162262', '.', '-', '.', 'ID=gene-OR10A6-2;Dbxref=GeneID:390093,HGNC:HGNC:15132;Name=OR10A6;description=olfactory receptor family 10 subfamily A member 6 (gene/pseudogene);gbkey=Gene;gene=OR10A6;gene_biotype=protein_coding;gene_synonym=OR11-96\\n']\n",
      "['NW_017363816.1', 'BestRefSeq', 'gene', '74500', '75420', '.', '+', '.', 'ID=gene-OR4C45-2;Dbxref=GeneID:403257,HGNC:HGNC:31270;Name=OR4C45;description=olfactory receptor family 4 subfamily C member 45 (gene/pseudogene);gbkey=Gene;gene=OR4C45;gene_biotype=protein_coding\\n']\n",
      "['NT_187528.1', 'BestRefSeq', 'gene', '98954', '105653', '.', '-', '.', 'ID=gene-CDRT15P3-2;Dbxref=GeneID:408029,HGNC:HGNC:33824;Name=CDRT15P3;description=CDRT15 pseudogene 3;gbkey=Gene;gene=CDRT15P3;gene_biotype=lncRNA;gene_synonym=C2orf27B\\n']\n",
      "['NT_167244.2', 'BestRefSeq', 'gene', '2386019', '2392420', '.', '+', '.', 'ID=gene-HCG22-2;Dbxref=GeneID:285834,HGNC:HGNC:27780,MIM:613918;Name=HCG22;description=HLA complex group 22 (gene/pseudogene);gbkey=Gene;gene=HCG22;gene_biotype=misc_RNA;gene_synonym=PBMUCL2\\n']\n",
      "['NT_187562.1', 'Curated Genomic', 'gene', '311143', '311575', '.', '+', '.', 'ID=gene-TRBV6-2;Dbxref=GeneID:28605,HGNC:HGNC:12227,IMGT/GENE-DB:TRBV6-2;Name=TRBV6-2;description=T cell receptor beta variable 6-2 (gene/pseudogene);end_range=311575,.;gbkey=Gene;gene=TRBV6-2;gene_biotype=V_segment;gene_synonym=TCRBV13S2,TCRBV13S2A1T,TCRBV6S2,TRBV62;partial=true\\n']\n",
      "['NT_187562.1', 'Curated Genomic', 'gene', '383521', '383970', '.', '+', '.', 'ID=gene-TRBV10-1-2;Dbxref=GeneID:28585,HGNC:HGNC:12177,IMGT/GENE-DB:TRBV10-1;Name=TRBV10-1;description=T cell receptor beta variable 10-1(gene/pseudogene);end_range=383970,.;gbkey=Gene;gene=TRBV10-1;gene_biotype=V_segment;gene_synonym=TCRBV10S1,TCRBV12S2,TCRBV12S2A1T,TRBV101;partial=true\\n']\n",
      "['NT_187562.1', 'Curated Genomic', 'gene', '438753', '439214', '.', '+', '.', 'ID=gene-TRBV7-4-2;Dbxref=GeneID:28594,HGNC:HGNC:12238,IMGT/GENE-DB:TRBV7-4;Name=TRBV7-4;description=T cell receptor beta variable 7-4 (gene/pseudogene);end_range=439214,.;gbkey=Gene;gene=TRBV7-4;gene_biotype=V_segment;gene_synonym=TCRBV6S8A2T,TCRBV7S4,TRBV74;partial=true\\n']\n",
      "['NT_187562.1', 'Curated Genomic', 'gene', '835559', '836260', '.', '-', '.', 'ID=gene-TRBV30-2;Dbxref=GeneID:28557,HGNC:HGNC:12214,IMGT/GENE-DB:TRBV30;Name=TRBV30;description=T cell receptor beta variable 30 (gene/pseudogene);gbkey=Gene;gene=TRBV30;gene_biotype=V_segment;gene_synonym=TCRBV20S1A1N2,TCRBV30S1;partial=true;start_range=.,835559\\n']\n",
      "['NT_187583.1', 'BestRefSeq', 'gene', '156093', '162769', '.', '-', '.', 'ID=gene-OR10A6-3;Dbxref=GeneID:390093,HGNC:HGNC:15132;Name=OR10A6;description=olfactory receptor family 10 subfamily A member 6 (gene/pseudogene);gbkey=Gene;gene=OR10A6;gene_biotype=protein_coding;gene_synonym=OR11-96\\n']\n",
      "['NW_003871073.1', 'BestRefSeq', 'gene', '125893', '131388', '.', '+', '.', 'ID=gene-OR8K3-2;Dbxref=GeneID:219473,HGNC:HGNC:15313;Name=OR8K3;description=olfactory receptor family 8 subfamily K member 3 (gene/pseudogene);gbkey=Gene;gene=OR8K3;gene_biotype=protein_coding;gene_synonym=OR11-181\\n']\n",
      "['NT_187601.1', 'BestRefSeq', 'gene', '1478202', '1483289', '.', '-', '.', 'ID=gene-SERPINA2-2;Dbxref=GeneID:390502,HGNC:HGNC:8985,MIM:107410;Name=SERPINA2;description=serpin family A member 2 (gene/pseudogene);gbkey=Gene;gene=SERPINA2;gene_biotype=protein_coding;gene_synonym=ARGS,ATR,PIL,psiATR,SERPINA2P\\n']\n",
      "['NT_187633.1', 'BestRefSeq', 'gene', '216394', '220281', '.', '+', '.', 'ID=gene-GSTT2-2;Dbxref=GeneID:2953,HGNC:HGNC:4642,MIM:600437;Name=GSTT2;description=glutathione S-transferase theta 2 (gene/pseudogene);gbkey=Gene;gene=GSTT2;gene_biotype=protein_coding\\n']\n",
      "['NT_113891.3', 'BestRefSeq', 'gene', '903516', '904847', '.', '+', '.', 'ID=gene-OR12D1-2;Dbxref=GeneID:26530,HGNC:HGNC:8177;Name=OR12D1;description=olfactory receptor family 12 subfamily D member 1 (gene/pseudogene);gbkey=Gene;gene=OR12D1;gene_biotype=misc_RNA;gene_synonym=hs6M1-19,OR12D1P\\n']\n",
      "['NT_113891.3', 'BestRefSeq', 'gene', '2535826', '2542227', '.', '+', '.', 'ID=gene-HCG22-3;Dbxref=GeneID:285834,HGNC:HGNC:27780,MIM:613918;Name=HCG22;description=HLA complex group 22 (gene/pseudogene);gbkey=Gene;gene=HCG22;gene_biotype=misc_RNA;gene_synonym=PBMUCL2\\n']\n"
     ]
    },
    {
     "name": "stdout",
     "output_type": "stream",
     "text": [
      "['NT_167245.2', 'BestRefSeq', 'gene', '682579', '683926', '.', '+', '.', 'ID=gene-OR12D1-3;Dbxref=GeneID:26530,HGNC:HGNC:8177;Name=OR12D1;description=olfactory receptor family 12 subfamily D member 1 (gene/pseudogene);gbkey=Gene;gene=OR12D1;gene_biotype=protein_coding;gene_synonym=hs6M1-19,OR12D1P\\n']\n",
      "['NT_167245.2', 'BestRefSeq', 'gene', '2312820', '2319221', '.', '+', '.', 'ID=gene-HCG22-4;Dbxref=GeneID:285834,HGNC:HGNC:27780,MIM:613918;Name=HCG22;description=HLA complex group 22 (gene/pseudogene);gbkey=Gene;gene=HCG22;gene_biotype=misc_RNA;gene_synonym=PBMUCL2\\n']\n",
      "['NT_167246.2', 'BestRefSeq', 'gene', '682203', '683534', '.', '+', '.', 'ID=gene-OR12D1-4;Dbxref=GeneID:26530,HGNC:HGNC:8177;Name=OR12D1;description=olfactory receptor family 12 subfamily D member 1 (gene/pseudogene);gbkey=Gene;gene=OR12D1;gene_biotype=misc_RNA;gene_synonym=hs6M1-19,OR12D1P\\n']\n",
      "['NT_167246.2', 'BestRefSeq', 'gene', '2363961', '2370356', '.', '+', '.', 'ID=gene-HCG22-5;Dbxref=GeneID:285834,HGNC:HGNC:27780,MIM:613918;Name=HCG22;description=HLA complex group 22 (gene/pseudogene);gbkey=Gene;gene=HCG22;gene_biotype=misc_RNA;gene_synonym=PBMUCL2\\n']\n",
      "['NT_167247.2', 'BestRefSeq', 'gene', '682433', '683764', '.', '+', '.', 'ID=gene-OR12D1-5;Dbxref=GeneID:26530,HGNC:HGNC:8177;Name=OR12D1;description=olfactory receptor family 12 subfamily D member 1 (gene/pseudogene);gbkey=Gene;gene=OR12D1;gene_biotype=misc_RNA;gene_synonym=hs6M1-19,OR12D1P\\n']\n",
      "['NT_167247.2', 'BestRefSeq', 'gene', '2397574', '2403965', '.', '+', '.', 'ID=gene-HCG22-6;Dbxref=GeneID:285834,HGNC:HGNC:27780,MIM:613918;Name=HCG22;description=HLA complex group 22 (gene/pseudogene);gbkey=Gene;gene=HCG22;gene_biotype=misc_RNA;gene_synonym=PBMUCL2\\n']\n",
      "['NT_167248.2', 'BestRefSeq', 'gene', '682537', '683868', '.', '+', '.', 'ID=gene-OR12D1-6;Dbxref=GeneID:26530,HGNC:HGNC:8177;Name=OR12D1;description=olfactory receptor family 12 subfamily D member 1 (gene/pseudogene);gbkey=Gene;gene=OR12D1;gene_biotype=misc_RNA;gene_synonym=hs6M1-19,OR12D1P\\n']\n",
      "['NT_167248.2', 'BestRefSeq', 'gene', '2311781', '2317853', '.', '+', '.', 'ID=gene-HCG22-7;Dbxref=GeneID:285834,HGNC:HGNC:27780,MIM:613918;Name=HCG22;description=HLA complex group 22 (gene/pseudogene);gbkey=Gene;gene=HCG22;gene_biotype=protein_coding;gene_synonym=PBMUCL2;partial=true\\n']\n",
      "['NT_167249.2', 'BestRefSeq', 'gene', '726078', '727409', '.', '+', '.', 'ID=gene-OR12D1-7;Dbxref=GeneID:26530,HGNC:HGNC:8177;Name=OR12D1;description=olfactory receptor family 12 subfamily D member 1 (gene/pseudogene);gbkey=Gene;gene=OR12D1;gene_biotype=misc_RNA;gene_synonym=hs6M1-19,OR12D1P\\n']\n",
      "['NT_167249.2', 'BestRefSeq', 'gene', '2356909', '2363339', '.', '+', '.', 'ID=gene-HCG22-8;Dbxref=GeneID:285834,HGNC:HGNC:27780,MIM:613918;Name=HCG22;description=HLA complex group 22 (gene/pseudogene);gbkey=Gene;gene=HCG22;gene_biotype=protein_coding;gene_synonym=PBMUCL2\\n']\n"
     ]
    }
   ],
   "source": [
    "tss_file_path = '/data1/lmh_data/MMSR_complete/analyse/GM12878/analyse/experiment_diff_loop/auxiliary_files/GRCh38_latest_genomic.gff'\n",
    "\n",
    "with open(tss_file_path, \"r\") as f:\n",
    "    datas = f.readlines()\n",
    "    nums = 0\n",
    "    for data in datas[9:]:\n",
    "        data = data.split('\\t')\n",
    "        if len(data) < 9:\n",
    "            continue\n",
    "        if data[2] != 'gene' or data[8].find('pseudogene') == -1:\n",
    "            continue\n",
    "        if data[6] == '+':\n",
    "            _location = data[3]\n",
    "        elif data[6] == '-':\n",
    "            _location = data[4]\n",
    "        else:\n",
    "            print('error')\n",
    "#         print(data)\n",
    "#         break\n",
    "        nums += 1\n",
    "nums"
   ]
  },
  {
   "cell_type": "code",
   "execution_count": null,
   "id": "5b7fd669",
   "metadata": {},
   "outputs": [],
   "source": []
  }
 ],
 "metadata": {
  "kernelspec": {
   "display_name": "MMSR",
   "language": "python",
   "name": "mmsr"
  },
  "language_info": {
   "codemirror_mode": {
    "name": "ipython",
    "version": 3
   },
   "file_extension": ".py",
   "mimetype": "text/x-python",
   "name": "python",
   "nbconvert_exporter": "python",
   "pygments_lexer": "ipython3",
   "version": "3.6.13"
  }
 },
 "nbformat": 4,
 "nbformat_minor": 5
}
