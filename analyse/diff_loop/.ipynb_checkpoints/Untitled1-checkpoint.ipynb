{
 "cells": [
  {
   "cell_type": "code",
   "execution_count": 55,
   "id": "e39c80e4",
   "metadata": {
    "scrolled": false
   },
   "outputs": [],
   "source": [
    "tss_file_path = '/data1/lmh_data/MMSR_complete/analyse/GM12878/analyse/experiment_diff_loop/auxiliary_files/Homo_sapiens.GRCh38.104.chr.gff3'\n",
    "\n",
    "def get_tss_gene_info(gene_biotype='protein_coding'):\n",
    "    gene_location = dict()\n",
    "    gene_info = dict()\n",
    "    with open(tss_file_path, \"r\") as f:\n",
    "        datas = f.readlines()\n",
    "        for data in datas[9:]:\n",
    "            data = data.split('\\t')\n",
    "            if len(data) < 9:\n",
    "                continue\n",
    "            if data[2] != 'gene' or data[8].find(gene_biotype) == -1:\n",
    "                continue\n",
    "            if data[6] == '+':\n",
    "                _location = data[3]\n",
    "            elif data[6] == '-':\n",
    "                _location = data[4]\n",
    "            else:\n",
    "                print('error')\n",
    "            if not data[0].isdigit():\n",
    "                continue\n",
    "            chromosome = int(data[0])\n",
    "            if chromosome not in gene_location:\n",
    "                gene_location[chromosome] = set()\n",
    "            gene_location[chromosome].add(int(int(_location)/1000))\n",
    "            \n",
    "            _tmp = data[-1].split('Name=')\n",
    "            if len(_tmp) < 2:\n",
    "                continue\n",
    "            gene_names = _tmp[1].split(';')[0]\n",
    "            gene_ids = data[-1].split('ID=')[1].split(',')[0].split(';')[0]\n",
    "            \n",
    "            if chromosome not in gene_info:\n",
    "                gene_info[chromosome] = set()\n",
    "            gene_info[chromosome].add(gene_names)\n",
    "    return gene_location, gene_info"
   ]
  },
  {
   "cell_type": "code",
   "execution_count": 56,
   "id": "ee618035",
   "metadata": {},
   "outputs": [],
   "source": [
    "gene_info = get_tss_gene_info()[1]\n",
    "genes = set()\n",
    "for i in range(1, 23):\n",
    "    genes = genes | gene_info[i]"
   ]
  },
  {
   "cell_type": "code",
   "execution_count": 57,
   "id": "a14b40e5",
   "metadata": {},
   "outputs": [
    {
     "data": {
      "text/plain": [
       "18452"
      ]
     },
     "execution_count": 57,
     "metadata": {},
     "output_type": "execute_result"
    }
   ],
   "source": [
    "len(genes)"
   ]
  },
  {
   "cell_type": "code",
   "execution_count": null,
   "id": "bc4964be",
   "metadata": {},
   "outputs": [],
   "source": []
  }
 ],
 "metadata": {
  "kernelspec": {
   "display_name": "MMSR",
   "language": "python",
   "name": "mmsr"
  },
  "language_info": {
   "codemirror_mode": {
    "name": "ipython",
    "version": 3
   },
   "file_extension": ".py",
   "mimetype": "text/x-python",
   "name": "python",
   "nbconvert_exporter": "python",
   "pygments_lexer": "ipython3",
   "version": "3.6.13"
  }
 },
 "nbformat": 4,
 "nbformat_minor": 5
}
