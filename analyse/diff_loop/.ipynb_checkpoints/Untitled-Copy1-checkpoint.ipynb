{
 "cells": [
  {
   "cell_type": "code",
   "execution_count": 15,
   "id": "05f8a2c2",
   "metadata": {},
   "outputs": [],
   "source": [
    "import os\n",
    "import sys\n",
    "import numpy as np\n",
    "import matplotlib.pyplot as plt\n",
    "import seaborn as sns"
   ]
  },
  {
   "cell_type": "code",
   "execution_count": 16,
   "id": "495d9ef2",
   "metadata": {},
   "outputs": [],
   "source": [
    "def calculate_significant(file_path, cut):\n",
    "    significants = []\n",
    "    with open(file_path, \"r\") as f:\n",
    "        datas = f.readlines()\n",
    "        for data in datas[1:]:\n",
    "            data = data.split()\n",
    "            x, y = int(int(data[1])/1000), int(int(data[3])/1000)\n",
    "            q_value = float(data[6])\n",
    "            if q_value>cut:\n",
    "                continue\n",
    "            significants.append((x, y))\n",
    "    return significants"
   ]
  },
  {
   "cell_type": "code",
   "execution_count": 17,
   "id": "3da708ca",
   "metadata": {
    "scrolled": true
   },
   "outputs": [
    {
     "name": "stdout",
     "output_type": "stream",
     "text": [
      "7966\n"
     ]
    }
   ],
   "source": [
    "enhanced_cut = 4.3788876311750525e-07\n",
    "enhanced_chr1_path = '/data1/lmh_data/MMSR_complete/analyse/GM12878/analyse/experiment_diff_loop/loop/enhanced/chr1_1000b/outputs/FitHiC.spline_pass1.res1000.significances.txt'\n",
    "enhanced_chr1_significants = calculate_significant(enhanced_chr1_path, enhanced_cut)\n",
    "print(len(enhanced_chr1_significants))"
   ]
  },
  {
   "cell_type": "code",
   "execution_count": 18,
   "id": "3d0aa4e6",
   "metadata": {
    "scrolled": true
   },
   "outputs": [
    {
     "name": "stdout",
     "output_type": "stream",
     "text": [
      "25316\n"
     ]
    }
   ],
   "source": [
    "hr_cut = 4.4189422377965387e-07\n",
    "hr_chr1_path = '/data1/lmh_data/MMSR_complete/analyse/GM12878/analyse/experiment_diff_loop/loop/hr/chr1_1000b/outputs/FitHiC.spline_pass1.res1000.significances.txt'\n",
    "hr_chr1_nums = calculate_significant(hr_chr1_path, hr_cut)\n",
    "print(len(hr_chr1_nums))"
   ]
  },
  {
   "cell_type": "code",
   "execution_count": 19,
   "id": "0213ded2",
   "metadata": {},
   "outputs": [
    {
     "data": {
      "image/png": "[encoded data removed]",
      "text/plain": [
       "<Figure size 432x288 with 1 Axes>"
      ]
     },
     "metadata": {},
     "output_type": "display_data"
    }
   ],
   "source": [
    "from matplotlib_venn import venn2\n",
    "venn2(subsets = [set(hr_chr1_nums), set(enhanced_chr1_significants)], set_labels = ('1kb', 'enhanced'), set_colors=((247/255, 129/255, 191/255), (51/255, 160/255, 44/255)))\n",
    "plt.show()"
   ]
  },
  {
   "cell_type": "code",
   "execution_count": 24,
   "id": "58c0fedf",
   "metadata": {},
   "outputs": [],
   "source": [
    "def _calculate_significant(file_path, cut):\n",
    "    significants = []\n",
    "    with open(file_path, \"r\") as f:\n",
    "        datas = f.readlines()\n",
    "        for data in datas[1:]:\n",
    "            data = data.split()\n",
    "            x, y = int(int(data[1])/1000), int(int(data[3])/1000)\n",
    "            q_value = float(data[6])\n",
    "            if q_value>cut:\n",
    "                continue\n",
    "            significants.append((x, y, q_value))\n",
    "    return significants\n",
    "\n",
    "def test(path):\n",
    "    cut = 1\n",
    "    significants = _calculate_significant(path, cut)\n",
    "    significants = np.array(significants)\n",
    "    nums = significants.shape[0]\n",
    "    while True:\n",
    "        cut /= 10\n",
    "        _q_values = significants[:, 2] < cut\n",
    "        _nums = np.sum(_q_values)\n",
    "        if abs(nums - _nums) / _nums < 0.001:\n",
    "            return significants[np.where(_q_values)[0], :]\n",
    "        nums = _nums\n",
    "        print(nums)"
   ]
  },
  {
   "cell_type": "code",
   "execution_count": 25,
   "id": "525f6608",
   "metadata": {},
   "outputs": [
    {
     "name": "stdout",
     "output_type": "stream",
     "text": [
      "109634\n",
      "64420\n",
      "46834\n",
      "36427\n",
      "30166\n",
      "25756\n",
      "23568\n",
      "20826\n",
      "18818\n",
      "17583\n",
      "16126\n",
      "15147\n",
      "14280\n",
      "13540\n",
      "12744\n",
      "12198\n",
      "11455\n",
      "10997\n",
      "10553\n",
      "10134\n",
      "9742\n",
      "9382\n",
      "9053\n",
      "8741\n",
      "8504\n",
      "8169\n",
      "7940\n",
      "7726\n",
      "7471\n",
      "7311\n",
      "7122\n",
      "6936\n",
      "6767\n",
      "6608\n",
      "6430\n",
      "6246\n",
      "6082\n",
      "5939\n",
      "5796\n",
      "5677\n",
      "5585\n",
      "5480\n",
      "5350\n",
      "5269\n",
      "5133\n",
      "5038\n",
      "4918\n",
      "4830\n",
      "4742\n",
      "4666\n",
      "4588\n",
      "4489\n",
      "4398\n",
      "4328\n",
      "4275\n",
      "4202\n",
      "4151\n",
      "4087\n",
      "4024\n",
      "3962\n",
      "3911\n",
      "3854\n",
      "3794\n",
      "3730\n",
      "3700\n",
      "3653\n",
      "3592\n",
      "3537\n",
      "3503\n",
      "3466\n",
      "3431\n",
      "3387\n",
      "3333\n",
      "3304\n",
      "3271\n",
      "3216\n",
      "3186\n",
      "3136\n",
      "3097\n",
      "3055\n",
      "3023\n",
      "2988\n",
      "2940\n",
      "2904\n",
      "2856\n",
      "2822\n",
      "2796\n",
      "2781\n",
      "2755\n",
      "2730\n",
      "2710\n",
      "2684\n",
      "2662\n",
      "2639\n",
      "2609\n",
      "2591\n",
      "2556\n",
      "2533\n",
      "2504\n",
      "2492\n",
      "2471\n",
      "2453\n",
      "2422\n",
      "2394\n",
      "2372\n",
      "2350\n",
      "2328\n",
      "2303\n",
      "2278\n",
      "2262\n",
      "2244\n",
      "2222\n",
      "2207\n",
      "2188\n",
      "2167\n",
      "2142\n",
      "2118\n",
      "2087\n",
      "2070\n",
      "2048\n",
      "2035\n",
      "2018\n",
      "2004\n",
      "1991\n",
      "1981\n",
      "1961\n",
      "1948\n",
      "1923\n",
      "1906\n",
      "1890\n",
      "1880\n",
      "1863\n",
      "1852\n",
      "1838\n",
      "1825\n",
      "1818\n",
      "1809\n",
      "1794\n",
      "1786\n",
      "1773\n",
      "1751\n",
      "1746\n",
      "1742\n",
      "1734\n",
      "1731\n",
      "1726\n",
      "1719\n",
      "1709\n",
      "1703\n",
      "1682\n",
      "1680\n",
      "1671\n",
      "1661\n",
      "1645\n",
      "1627\n",
      "1618\n",
      "1605\n",
      "1595\n",
      "1588\n",
      "1582\n",
      "1572\n",
      "1566\n",
      "1562\n",
      "1554\n",
      "1551\n",
      "1536\n",
      "1528\n",
      "1517\n",
      "1506\n",
      "1502\n",
      "1494\n",
      "1485\n",
      "1476\n",
      "1467\n",
      "1460\n",
      "(1459, 2)\n"
     ]
    }
   ],
   "source": [
    "hr_result = test(hr_chr1_path)[:, :2]\n",
    "print(hr_result.shape)"
   ]
  },
  {
   "cell_type": "code",
   "execution_count": 124,
   "id": "dd26df6c",
   "metadata": {},
   "outputs": [],
   "source": [
    "hr_significants = list(map(tuple, hr_result))"
   ]
  },
  {
   "cell_type": "code",
   "execution_count": 125,
   "id": "97dedb1f",
   "metadata": {},
   "outputs": [
    {
     "data": {
      "image/png": "[encoded data removed]",
      "text/plain": [
       "<Figure size 432x288 with 1 Axes>"
      ]
     },
     "metadata": {},
     "output_type": "display_data"
    }
   ],
   "source": [
    "from matplotlib_venn import venn2\n",
    "venn2(subsets = [set(hr_significants), set(enhanced_chr1_significants)], set_labels = ('1kb', 'enhanced'), set_colors=((247/255, 129/255, 191/255), (51/255, 160/255, 44/255)))\n",
    "plt.show()"
   ]
  },
  {
   "cell_type": "code",
   "execution_count": null,
   "id": "bfd788cc",
   "metadata": {},
   "outputs": [],
   "source": []
  }
 ],
 "metadata": {
  "kernelspec": {
   "display_name": "MMSR",
   "language": "python",
   "name": "mmsr"
  },
  "language_info": {
   "codemirror_mode": {
    "name": "ipython",
    "version": 3
   },
   "file_extension": ".py",
   "mimetype": "text/x-python",
   "name": "python",
   "nbconvert_exporter": "python",
   "pygments_lexer": "ipython3",
   "version": "3.6.13"
  }
 },
 "nbformat": 4,
 "nbformat_minor": 5
}
