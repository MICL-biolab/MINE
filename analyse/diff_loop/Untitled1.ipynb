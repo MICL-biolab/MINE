{
 "cells": [
  {
   "cell_type": "code",
   "execution_count": 25,
   "id": "e39c80e4",
   "metadata": {
    "scrolled": false
   },
   "outputs": [
    {
     "data": {
      "text/plain": [
       "57"
      ]
     },
     "execution_count": 25,
     "metadata": {},
     "output_type": "execute_result"
    }
   ],
   "source": [
    "tss_file_path = '/data1/lmh_data/MMSR_complete/analyse/GM12878/analyse/experiment_diff_loop/auxiliary_files/GRCh38_latest_genomic.gff'\n",
    "\n",
    "with open(tss_file_path, \"r\") as f:\n",
    "    datas = f.readlines()\n",
    "    nums = 0\n",
    "    for data in datas[9:]:\n",
    "        data = data.split('\\t')\n",
    "        if len(data) < 9:\n",
    "            continue\n",
    "        if data[2] != 'gene' or data[8].find('pseudogene') == -1:\n",
    "            continue\n",
    "        if data[6] == '+':\n",
    "            _location = data[3]\n",
    "        elif data[6] == '-':\n",
    "            _location = data[4]\n",
    "        else:\n",
    "            print('error')\n",
    "#         print(data)\n",
    "#         break\n",
    "        nums += 1\n",
    "nums"
   ]
  },
  {
   "cell_type": "code",
   "execution_count": null,
   "id": "ee618035",
   "metadata": {},
   "outputs": [],
   "source": []
  }
 ],
 "metadata": {
  "kernelspec": {
   "display_name": "MMSR",
   "language": "python",
   "name": "mmsr"
  },
  "language_info": {
   "codemirror_mode": {
    "name": "ipython",
    "version": 3
   },
   "file_extension": ".py",
   "mimetype": "text/x-python",
   "name": "python",
   "nbconvert_exporter": "python",
   "pygments_lexer": "ipython3",
   "version": "3.6.13"
  }
 },
 "nbformat": 4,
 "nbformat_minor": 5
}
