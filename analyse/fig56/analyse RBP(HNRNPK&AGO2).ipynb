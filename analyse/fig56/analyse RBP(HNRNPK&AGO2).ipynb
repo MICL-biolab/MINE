{
 "cells": [
  {
   "cell_type": "code",
   "execution_count": 1,
   "id": "d27322f2",
   "metadata": {},
   "outputs": [],
   "source": [
    "import math\n",
    "import matplotlib as mpl\n",
    "import matplotlib.pyplot as plt\n",
    "import seaborn as sns\n",
    "import pandas as pd\n",
    "import numpy as np"
   ]
  },
  {
   "cell_type": "code",
   "execution_count": 2,
   "id": "855fe5d7",
   "metadata": {},
   "outputs": [
    {
     "data": {
      "text/html": [
       "<div>\n",
       "<style scoped>\n",
       "    .dataframe tbody tr th:only-of-type {\n",
       "        vertical-align: middle;\n",
       "    }\n",
       "\n",
       "    .dataframe tbody tr th {\n",
       "        vertical-align: top;\n",
       "    }\n",
       "\n",
       "    .dataframe thead th {\n",
       "        text-align: right;\n",
       "    }\n",
       "</style>\n",
       "<table border=\"1\" class=\"dataframe\">\n",
       "  <thead>\n",
       "    <tr style=\"text-align: right;\">\n",
       "      <th></th>\n",
       "      <th>0</th>\n",
       "      <th>1</th>\n",
       "      <th>2</th>\n",
       "      <th>3</th>\n",
       "      <th>4</th>\n",
       "      <th>5</th>\n",
       "    </tr>\n",
       "  </thead>\n",
       "  <tbody>\n",
       "    <tr>\n",
       "      <th>0</th>\n",
       "      <td>chr1</td>\n",
       "      <td>2190000</td>\n",
       "      <td>3430000</td>\n",
       "      <td>10</td>\n",
       "      <td>0.437330</td>\n",
       "      <td>0.614114</td>\n",
       "    </tr>\n",
       "    <tr>\n",
       "      <th>1</th>\n",
       "      <td>chr1</td>\n",
       "      <td>3430000</td>\n",
       "      <td>5990000</td>\n",
       "      <td>0</td>\n",
       "      <td>1.050111</td>\n",
       "      <td>-0.520215</td>\n",
       "    </tr>\n",
       "    <tr>\n",
       "      <th>2</th>\n",
       "      <td>chr1</td>\n",
       "      <td>5990000</td>\n",
       "      <td>6040000</td>\n",
       "      <td>0</td>\n",
       "      <td>0.003852</td>\n",
       "      <td>-0.520215</td>\n",
       "    </tr>\n",
       "    <tr>\n",
       "      <th>3</th>\n",
       "      <td>chr1</td>\n",
       "      <td>6040000</td>\n",
       "      <td>6700000</td>\n",
       "      <td>3</td>\n",
       "      <td>0.203751</td>\n",
       "      <td>0.525532</td>\n",
       "    </tr>\n",
       "    <tr>\n",
       "      <th>4</th>\n",
       "      <td>chr1</td>\n",
       "      <td>6700000</td>\n",
       "      <td>7660000</td>\n",
       "      <td>0</td>\n",
       "      <td>0.222518</td>\n",
       "      <td>-0.520215</td>\n",
       "    </tr>\n",
       "    <tr>\n",
       "      <th>...</th>\n",
       "      <td>...</td>\n",
       "      <td>...</td>\n",
       "      <td>...</td>\n",
       "      <td>...</td>\n",
       "      <td>...</td>\n",
       "      <td>...</td>\n",
       "    </tr>\n",
       "    <tr>\n",
       "      <th>2637</th>\n",
       "      <td>chr9</td>\n",
       "      <td>136730000</td>\n",
       "      <td>136790000</td>\n",
       "      <td>0</td>\n",
       "      <td>0.006576</td>\n",
       "      <td>-0.520215</td>\n",
       "    </tr>\n",
       "    <tr>\n",
       "      <th>2638</th>\n",
       "      <td>chr9</td>\n",
       "      <td>136790000</td>\n",
       "      <td>136940000</td>\n",
       "      <td>34</td>\n",
       "      <td>0.024912</td>\n",
       "      <td>2.321254</td>\n",
       "    </tr>\n",
       "    <tr>\n",
       "      <th>2639</th>\n",
       "      <td>chr9</td>\n",
       "      <td>136940000</td>\n",
       "      <td>137120000</td>\n",
       "      <td>0</td>\n",
       "      <td>0.046040</td>\n",
       "      <td>-0.520215</td>\n",
       "    </tr>\n",
       "    <tr>\n",
       "      <th>2640</th>\n",
       "      <td>chr9</td>\n",
       "      <td>137120000</td>\n",
       "      <td>137280000</td>\n",
       "      <td>0</td>\n",
       "      <td>0.032555</td>\n",
       "      <td>-0.520215</td>\n",
       "    </tr>\n",
       "    <tr>\n",
       "      <th>2641</th>\n",
       "      <td>chr9</td>\n",
       "      <td>137280000</td>\n",
       "      <td>137550000</td>\n",
       "      <td>2</td>\n",
       "      <td>0.048803</td>\n",
       "      <td>0.775974</td>\n",
       "    </tr>\n",
       "  </tbody>\n",
       "</table>\n",
       "<p>2642 rows × 6 columns</p>\n",
       "</div>"
      ],
      "text/plain": [
       "         0          1          2   3         4         5\n",
       "0     chr1    2190000    3430000  10  0.437330  0.614114\n",
       "1     chr1    3430000    5990000   0  1.050111 -0.520215\n",
       "2     chr1    5990000    6040000   0  0.003852 -0.520215\n",
       "3     chr1    6040000    6700000   3  0.203751  0.525532\n",
       "4     chr1    6700000    7660000   0  0.222518 -0.520215\n",
       "...    ...        ...        ...  ..       ...       ...\n",
       "2637  chr9  136730000  136790000   0  0.006576 -0.520215\n",
       "2638  chr9  136790000  136940000  34  0.024912  2.321254\n",
       "2639  chr9  136940000  137120000   0  0.046040 -0.520215\n",
       "2640  chr9  137120000  137280000   0  0.032555 -0.520215\n",
       "2641  chr9  137280000  137550000   2  0.048803  0.775974\n",
       "\n",
       "[2642 rows x 6 columns]"
      ]
     },
     "execution_count": 2,
     "metadata": {},
     "output_type": "execute_result"
    }
   ],
   "source": [
    "active_input_file = '../fig4/HepG2_SDOC_active_result.tsv'\n",
    "active_infos = pd.read_csv(active_input_file, sep=\"\\t\", header=None)\n",
    "active_infos"
   ]
  },
  {
   "cell_type": "code",
   "execution_count": 3,
   "id": "42fea5f1",
   "metadata": {},
   "outputs": [
    {
     "data": {
      "text/html": [
       "<div>\n",
       "<style scoped>\n",
       "    .dataframe tbody tr th:only-of-type {\n",
       "        vertical-align: middle;\n",
       "    }\n",
       "\n",
       "    .dataframe tbody tr th {\n",
       "        vertical-align: top;\n",
       "    }\n",
       "\n",
       "    .dataframe thead th {\n",
       "        text-align: right;\n",
       "    }\n",
       "</style>\n",
       "<table border=\"1\" class=\"dataframe\">\n",
       "  <thead>\n",
       "    <tr style=\"text-align: right;\">\n",
       "      <th></th>\n",
       "      <th>0</th>\n",
       "      <th>1</th>\n",
       "      <th>2</th>\n",
       "      <th>3</th>\n",
       "      <th>4</th>\n",
       "      <th>5</th>\n",
       "    </tr>\n",
       "  </thead>\n",
       "  <tbody>\n",
       "    <tr>\n",
       "      <th>0</th>\n",
       "      <td>chr1</td>\n",
       "      <td>2190000</td>\n",
       "      <td>3430000</td>\n",
       "      <td>2</td>\n",
       "      <td>0.437330</td>\n",
       "      <td>0.945192</td>\n",
       "    </tr>\n",
       "    <tr>\n",
       "      <th>1</th>\n",
       "      <td>chr1</td>\n",
       "      <td>3430000</td>\n",
       "      <td>5990000</td>\n",
       "      <td>2</td>\n",
       "      <td>1.050111</td>\n",
       "      <td>0.838495</td>\n",
       "    </tr>\n",
       "    <tr>\n",
       "      <th>2</th>\n",
       "      <td>chr1</td>\n",
       "      <td>5990000</td>\n",
       "      <td>6040000</td>\n",
       "      <td>0</td>\n",
       "      <td>0.003852</td>\n",
       "      <td>-0.270799</td>\n",
       "    </tr>\n",
       "    <tr>\n",
       "      <th>3</th>\n",
       "      <td>chr1</td>\n",
       "      <td>6040000</td>\n",
       "      <td>6700000</td>\n",
       "      <td>0</td>\n",
       "      <td>0.203751</td>\n",
       "      <td>-0.270799</td>\n",
       "    </tr>\n",
       "    <tr>\n",
       "      <th>4</th>\n",
       "      <td>chr1</td>\n",
       "      <td>6700000</td>\n",
       "      <td>7660000</td>\n",
       "      <td>0</td>\n",
       "      <td>0.222518</td>\n",
       "      <td>-0.270799</td>\n",
       "    </tr>\n",
       "    <tr>\n",
       "      <th>...</th>\n",
       "      <td>...</td>\n",
       "      <td>...</td>\n",
       "      <td>...</td>\n",
       "      <td>...</td>\n",
       "      <td>...</td>\n",
       "      <td>...</td>\n",
       "    </tr>\n",
       "    <tr>\n",
       "      <th>2637</th>\n",
       "      <td>chr9</td>\n",
       "      <td>136730000</td>\n",
       "      <td>136790000</td>\n",
       "      <td>6</td>\n",
       "      <td>0.006576</td>\n",
       "      <td>3.025970</td>\n",
       "    </tr>\n",
       "    <tr>\n",
       "      <th>2638</th>\n",
       "      <td>chr9</td>\n",
       "      <td>136790000</td>\n",
       "      <td>136940000</td>\n",
       "      <td>0</td>\n",
       "      <td>0.024912</td>\n",
       "      <td>-0.270799</td>\n",
       "    </tr>\n",
       "    <tr>\n",
       "      <th>2639</th>\n",
       "      <td>chr9</td>\n",
       "      <td>136940000</td>\n",
       "      <td>137120000</td>\n",
       "      <td>6</td>\n",
       "      <td>0.046040</td>\n",
       "      <td>2.029849</td>\n",
       "    </tr>\n",
       "    <tr>\n",
       "      <th>2640</th>\n",
       "      <td>chr9</td>\n",
       "      <td>137120000</td>\n",
       "      <td>137280000</td>\n",
       "      <td>9</td>\n",
       "      <td>0.032555</td>\n",
       "      <td>2.376643</td>\n",
       "    </tr>\n",
       "    <tr>\n",
       "      <th>2641</th>\n",
       "      <td>chr9</td>\n",
       "      <td>137280000</td>\n",
       "      <td>137550000</td>\n",
       "      <td>9</td>\n",
       "      <td>0.048803</td>\n",
       "      <td>2.177283</td>\n",
       "    </tr>\n",
       "  </tbody>\n",
       "</table>\n",
       "<p>2642 rows × 6 columns</p>\n",
       "</div>"
      ],
      "text/plain": [
       "         0          1          2  3         4         5\n",
       "0     chr1    2190000    3430000  2  0.437330  0.945192\n",
       "1     chr1    3430000    5990000  2  1.050111  0.838495\n",
       "2     chr1    5990000    6040000  0  0.003852 -0.270799\n",
       "3     chr1    6040000    6700000  0  0.203751 -0.270799\n",
       "4     chr1    6700000    7660000  0  0.222518 -0.270799\n",
       "...    ...        ...        ... ..       ...       ...\n",
       "2637  chr9  136730000  136790000  6  0.006576  3.025970\n",
       "2638  chr9  136790000  136940000  0  0.024912 -0.270799\n",
       "2639  chr9  136940000  137120000  6  0.046040  2.029849\n",
       "2640  chr9  137120000  137280000  9  0.032555  2.376643\n",
       "2641  chr9  137280000  137550000  9  0.048803  2.177283\n",
       "\n",
       "[2642 rows x 6 columns]"
      ]
     },
     "execution_count": 3,
     "metadata": {},
     "output_type": "execute_result"
    }
   ],
   "source": [
    "repress_input_file = '../fig4/HepG2_SDOC_represses_result.tsv'\n",
    "repress_infos = pd.read_csv(repress_input_file, sep=\"\\t\", header=None)\n",
    "repress_infos"
   ]
  },
  {
   "cell_type": "code",
   "execution_count": 4,
   "id": "49e0877e",
   "metadata": {},
   "outputs": [
    {
     "name": "stdout",
     "output_type": "stream",
     "text": [
      "[23561, 13434]\n"
     ]
    }
   ],
   "source": [
    "scores = [0, 0]\n",
    "RBM25_chipseq_file_path = '/data1/lmh_data/MINE/source/HepG2/GSM3393550_RBM25_ChIP_HepG2_OPTIMAL_ppr.IDR0.02.filt.narrowPeak'\n",
    "with open(RBM25_chipseq_file_path, 'r')as f:\n",
    "    for line in f:\n",
    "        datas = line.strip().split()\n",
    "        _chrom, _start, _end = datas[0], datas[1], datas[2]\n",
    "        active_tad = active_infos.loc[active_infos[3]>0].loc[active_infos[0]==_chrom].loc[active_infos[1]<=int(_start)].loc[active_infos[2]>=int(_end)]\n",
    "        repress_tad = repress_infos.loc[repress_infos[3]>0].loc[repress_infos[0]==_chrom].loc[repress_infos[1]<=int(_start)].loc[repress_infos[2]>=int(_end)]\n",
    "        if active_tad.loc[:,5].mean() > 0:\n",
    "            scores[0] += 1\n",
    "        if repress_tad.loc[:,5].mean() > 0:\n",
    "            scores[1] += 1\n",
    "\n",
    "print(scores)"
   ]
  },
  {
   "cell_type": "code",
   "execution_count": 5,
   "id": "09bf284b",
   "metadata": {},
   "outputs": [
    {
     "name": "stdout",
     "output_type": "stream",
     "text": [
      "[16199, 11281]\n"
     ]
    }
   ],
   "source": [
    "scores = [0, 0]\n",
    "RBM25_chipseq_file_path = '/data1/lmh_data/MINE/source/HepG2/GSM3393550_RBM25_ChIP_HepG2_OPTIMAL_ppr.IDR0.02.filt.narrowPeak'\n",
    "with open(RBM25_chipseq_file_path, 'r')as f:\n",
    "    for line in f:\n",
    "        datas = line.strip().split()\n",
    "        _chrom, _start, _end = datas[0], datas[1], datas[2]\n",
    "        active_tad = active_infos.loc[active_infos[3]>0].loc[active_infos[0]==_chrom].loc[active_infos[1]<=int(_start)].loc[active_infos[2]>=int(_end)]\n",
    "        repress_tad = repress_infos.loc[repress_infos[3]>0].loc[repress_infos[0]==_chrom].loc[repress_infos[1]<=int(_start)].loc[repress_infos[2]>=int(_end)]\n",
    "        _active_mean = active_tad.loc[:,5].mean() if len(active_tad.loc[:,5]) != 0 else 0\n",
    "        _repress_mean = repress_tad.loc[:,5].mean() if len(repress_tad.loc[:,5]) != 0 else 0\n",
    "        if _active_mean > _repress_mean:\n",
    "            scores[0] += 1\n",
    "        elif _active_mean < _repress_mean:\n",
    "            scores[1] += 1\n",
    "\n",
    "print(scores)"
   ]
  },
  {
   "cell_type": "code",
   "execution_count": null,
   "id": "0586390d",
   "metadata": {},
   "outputs": [],
   "source": []
  },
  {
   "cell_type": "code",
   "execution_count": 6,
   "id": "b3ba4b6c",
   "metadata": {},
   "outputs": [
    {
     "name": "stdout",
     "output_type": "stream",
     "text": [
      "[9146, 7310]\n"
     ]
    }
   ],
   "source": [
    "scores = [0, 0]\n",
    "HNRNPK_chipseq_file_path = '/data1/lmh_data/MINE/source/HepG2/HNRNPK_peaks.bed'\n",
    "with open(HNRNPK_chipseq_file_path)as f:\n",
    "    for line in f:\n",
    "        datas = line.strip().split()\n",
    "        _chrom, _start, _end = datas[0], datas[1], datas[2]\n",
    "        active_tad = active_infos.loc[active_infos[3]>0].loc[active_infos[0]==_chrom].loc[active_infos[1]<=int(_start)].loc[active_infos[2]>=int(_end)]\n",
    "        repress_tad = repress_infos.loc[repress_infos[3]>0].loc[repress_infos[0]==_chrom].loc[repress_infos[1]<=int(_start)].loc[repress_infos[2]>=int(_end)]\n",
    "        _active_mean = active_tad.loc[:,5].mean() if len(active_tad.loc[:,5]) != 0 else 0\n",
    "        _repress_mean = repress_tad.loc[:,5].mean() if len(repress_tad.loc[:,5]) != 0 else 0\n",
    "        if _active_mean > _repress_mean:\n",
    "            scores[0] += 1\n",
    "        elif _active_mean < _repress_mean:\n",
    "            scores[1] += 1\n",
    "        \n",
    "print(scores)"
   ]
  },
  {
   "cell_type": "code",
   "execution_count": 7,
   "id": "31ee55c7",
   "metadata": {},
   "outputs": [
    {
     "name": "stdout",
     "output_type": "stream",
     "text": [
      "[17936, 11076]\n"
     ]
    }
   ],
   "source": [
    "scores = [0, 0]\n",
    "AGO2_chipseq_file_path = '/data1/lmh_data/MINE/source/HepG2/AGO2_peaks.bed'\n",
    "with open(AGO2_chipseq_file_path)as f:\n",
    "    for line in f:\n",
    "        datas = line.strip().split()\n",
    "        _chrom, _start, _end = datas[0], datas[1], datas[2]\n",
    "        active_tad = active_infos.loc[active_infos[3]>0].loc[active_infos[0]==_chrom].loc[active_infos[1]<=int(_start)].loc[active_infos[2]>=int(_end)]\n",
    "        repress_tad = repress_infos.loc[repress_infos[3]>0].loc[repress_infos[0]==_chrom].loc[repress_infos[1]<=int(_start)].loc[repress_infos[2]>=int(_end)]\n",
    "        _active_mean = active_tad.loc[:,5].mean() if len(active_tad.loc[:,5]) != 0 else 0\n",
    "        _repress_mean = repress_tad.loc[:,5].mean() if len(repress_tad.loc[:,5]) != 0 else 0\n",
    "        if _active_mean > _repress_mean:\n",
    "            scores[0] += 1\n",
    "        elif _active_mean < _repress_mean:\n",
    "            scores[1] += 1\n",
    "print(scores)"
   ]
  },
  {
   "cell_type": "code",
   "execution_count": 8,
   "id": "1e64c7d0",
   "metadata": {},
   "outputs": [
    {
     "name": "stdout",
     "output_type": "stream",
     "text": [
      "[791, 529]\n"
     ]
    }
   ],
   "source": [
    "nums = [0, 0]\n",
    "for index in active_infos.index:\n",
    "    if active_infos.loc[index, 5] > 0 or repress_infos.loc[index, 5] > 0:\n",
    "        if active_infos.loc[index, 5] > repress_infos.loc[index, 5]:\n",
    "            nums[0] += 1\n",
    "        elif active_infos.loc[index, 5] < repress_infos.loc[index, 5]:\n",
    "            nums[1] += 1\n",
    "print(nums)"
   ]
  },
  {
   "cell_type": "code",
   "execution_count": 9,
   "id": "9ef3b33c",
   "metadata": {},
   "outputs": [
    {
     "data": {
      "text/plain": [
       "[11.562579013906447, 13.818525519848771]"
      ]
     },
     "execution_count": 9,
     "metadata": {},
     "output_type": "execute_result"
    }
   ],
   "source": [
    "[9146/791, 7310/529]"
   ]
  },
  {
   "cell_type": "code",
   "execution_count": 10,
   "id": "57f9bc06",
   "metadata": {},
   "outputs": [
    {
     "data": {
      "text/plain": [
       "[22.675094816687736, 20.937618147448013]"
      ]
     },
     "execution_count": 10,
     "metadata": {},
     "output_type": "execute_result"
    }
   ],
   "source": [
    "[17936/791, 11076/529]"
   ]
  }
 ],
 "metadata": {
  "kernelspec": {
   "display_name": "Python 3",
   "language": "python",
   "name": "python3"
  },
  "language_info": {
   "codemirror_mode": {
    "name": "ipython",
    "version": 3
   },
   "file_extension": ".py",
   "mimetype": "text/x-python",
   "name": "python",
   "nbconvert_exporter": "python",
   "pygments_lexer": "ipython3",
   "version": "3.8.8"
  }
 },
 "nbformat": 4,
 "nbformat_minor": 5
}
