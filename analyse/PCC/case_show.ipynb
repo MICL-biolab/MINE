{
 "cells": [
  {
   "cell_type": "code",
   "execution_count": 1,
   "id": "43ee2179",
   "metadata": {},
   "outputs": [],
   "source": [
    "import os\n",
    "import sys\n",
    "import argparse\n",
    "import numpy as np\n",
    "import numba as nb\n",
    "import scipy.stats\n",
    "import matplotlib.pyplot as plt\n",
    "from skimage.metrics import structural_similarity, peak_signal_noise_ratio\n",
    "from tools import merge_matrix, hic_norm, clean_matrix"
   ]
  },
  {
   "cell_type": "code",
   "execution_count": 28,
   "id": "a844ad39",
   "metadata": {},
   "outputs": [
    {
     "name": "stdout",
     "output_type": "stream",
     "text": [
      "(147, 5, 400, 400)\n",
      "(147, 5, 400, 400)\n",
      "(147, 5, 400, 400)\n"
     ]
    }
   ],
   "source": [
    "cell_line, chr = 'K562', 19\n",
    "chr_file_name = 'chr{}_1000b.npz'.format(chr)\n",
    "analyse_path = '/data1/lmh_data/MMSR_complete/analyse/'\n",
    "hr_path = os.path.join(analyse_path, cell_line, 'use_data', 'hr', chr_file_name)\n",
    "replaced_path = os.path.join(analyse_path, cell_line, 'use_data', 'replaced', chr_file_name)\n",
    "result_path = os.path.join(analyse_path, cell_line, 'validation', chr_file_name)\n",
    "\n",
    "hr = np.load(hr_path)['hic']\n",
    "print(hr.shape)\n",
    "\n",
    "replaced = np.load(replaced_path)['hic']\n",
    "print(replaced.shape)\n",
    "\n",
    "result = np.load(result_path)['out']\n",
    "print(result.shape)"
   ]
  },
  {
   "cell_type": "code",
   "execution_count": 29,
   "id": "2e996b2b",
   "metadata": {},
   "outputs": [],
   "source": [
    "hr = hic_norm(hr)\n",
    "replaced = hic_norm(replaced)\n",
    "result[result>255] = 255\n",
    "\n",
    "hr = hr.astype(np.uint8)\n",
    "replaced = replaced.astype(np.uint8)\n",
    "result = result.astype(np.uint8)"
   ]
  },
  {
   "cell_type": "code",
   "execution_count": 30,
   "id": "23797c4e",
   "metadata": {},
   "outputs": [],
   "source": [
    "hr = merge_matrix(hr)\n",
    "hr = np.triu(hr).T + np.triu(hr)\n",
    "\n",
    "replaced = merge_matrix(replaced)\n",
    "replaced = np.triu(replaced).T + np.triu(replaced)\n",
    "\n",
    "result = merge_matrix(result)\n",
    "result = np.triu(result).T + np.triu(result)"
   ]
  },
  {
   "cell_type": "code",
   "execution_count": null,
   "id": "1e075ab8",
   "metadata": {},
   "outputs": [],
   "source": []
  },
  {
   "cell_type": "code",
   "execution_count": 31,
   "id": "85227080",
   "metadata": {},
   "outputs": [
    {
     "data": {
      "image/png": "[encoded data removed]",
      "text/plain": [
       "<Figure size 360x360 with 1 Axes>"
      ]
     },
     "metadata": {},
     "output_type": "display_data"
    },
    {
     "name": "stdout",
     "output_type": "stream",
     "text": [
      "complete_y: 0.26640540955594266\n",
      "enhanced: 0.14541063136999643\n"
     ]
    }
   ],
   "source": [
    "# 1kb PCC\n",
    "distance_all = [[0, chr]]\n",
    "dic_norm = {}\n",
    "length = 100 # 100kb\n",
    "for i in range(length):\n",
    "    dic_norm[i]=[[], [], []]\n",
    "for i in range(len(distance_all)):\n",
    "    for j in range(-length+1, length, 1):\n",
    "        dis = distance_all[i][0] - j\n",
    "        dic_norm[abs(dis)][0]+=hr.diagonal(offset=j).tolist()\n",
    "        dic_norm[abs(dis)][1]+=replaced.diagonal(offset=j).tolist()\n",
    "        dic_norm[abs(dis)][2]+=result.diagonal(offset=j).tolist()\n",
    "\n",
    "complete_y, result_y = [], []\n",
    "for i in range(length):\n",
    "    complete_y.append(scipy.stats.pearsonr(dic_norm[i][0], dic_norm[i][1])[0])\n",
    "    result_y.append(scipy.stats.pearsonr(dic_norm[i][0], dic_norm[i][2])[0])\n",
    "\n",
    "import seaborn as sns\n",
    "sns.set_style(\"whitegrid\") \n",
    "fig, axes = plt.subplots(nrows=1, ncols=1, figsize=(5, 5), sharey=True)\n",
    "axes.grid(False)\n",
    "axes.plot(list(range(100)), complete_y, color=(166/255, 206/255, 227/255), label='complete')\n",
    "axes.plot(list(range(100)), result_y, color=(51/255, 160/255, 44/255), label='enhanced')\n",
    "\n",
    "plt.ylim(0, 1)\n",
    "plt.xlabel('Genomic distance(1kb)')\n",
    "plt.ylabel('Pearson')\n",
    "plt.xlim(0, length)\n",
    "plt.legend()\n",
    "# plt.savefig('fig/fig4_10kb_PCC.pdf')\n",
    "plt.show()\n",
    "\n",
    "print(\"complete_y: {}\".format(np.mean(complete_y)))\n",
    "print(\"enhanced: {}\".format(np.mean(result_y)))"
   ]
  },
  {
   "cell_type": "code",
   "execution_count": null,
   "id": "98efc8b6",
   "metadata": {},
   "outputs": [],
   "source": []
  }
 ],
 "metadata": {
  "kernelspec": {
   "display_name": "MMSR",
   "language": "python",
   "name": "mmsr"
  },
  "language_info": {
   "codemirror_mode": {
    "name": "ipython",
    "version": 3
   },
   "file_extension": ".py",
   "mimetype": "text/x-python",
   "name": "python",
   "nbconvert_exporter": "python",
   "pygments_lexer": "ipython3",
   "version": "3.6.13"
  }
 },
 "nbformat": 4,
 "nbformat_minor": 5
}
