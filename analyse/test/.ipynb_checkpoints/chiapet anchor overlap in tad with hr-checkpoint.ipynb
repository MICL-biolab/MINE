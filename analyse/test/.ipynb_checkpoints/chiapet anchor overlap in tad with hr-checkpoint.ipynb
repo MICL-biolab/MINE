{
 "cells": [
  {
   "cell_type": "code",
   "execution_count": 1,
   "id": "ddb6e3c1",
   "metadata": {},
   "outputs": [],
   "source": [
    "import os\n",
    "import pandas as pd\n",
    "import numpy as np\n",
    "import seaborn as sns\n",
    "import matplotlib.pyplot as plt"
   ]
  },
  {
   "cell_type": "code",
   "execution_count": 2,
   "id": "9c994904",
   "metadata": {},
   "outputs": [],
   "source": [
    "auxiliary_files_path = '/data1/lmh_data/MINE/source/HepG2'\n",
    "\n",
    "all_hr_sig = np.load('../fig3/tss/temp/HepG2_ATAC_H3K27ac_H3K4me3_2_100_all_hr_sig.npy', allow_pickle=True).item()"
   ]
  },
  {
   "cell_type": "code",
   "execution_count": 3,
   "id": "8384ed35",
   "metadata": {},
   "outputs": [],
   "source": [
    "def read_bed_file(path):\n",
    "    _peaks = dict()\n",
    "    with open(path)as f:\n",
    "        for line in f:\n",
    "            datas = line.strip().split()\n",
    "            left, right = int(int(datas[1])/1000), int(int(datas[2])/1000)\n",
    "            peaks = list(range(left, right+1))\n",
    "            if datas[0] not in _peaks.keys():\n",
    "                _peaks[datas[0]] = set()\n",
    "            for i in peaks:\n",
    "                _peaks[datas[0]].add(i)\n",
    "    return _peaks\n",
    "\n",
    "attentions = 50\n",
    "center = attentions - 1\n",
    "\n",
    "def get_hit_indicators(significants, peaks):\n",
    "    distance = np.zeros(attentions*2-1)\n",
    "    \n",
    "    for sig in significants:\n",
    "        x, y = int(sig[0]), int(sig[1])\n",
    "        for i in range(attentions):\n",
    "            if (x+i) in peaks or (y+i) in peaks:\n",
    "                distance[center-i] += 1\n",
    "            if i != 0 and((x-i) in peaks or (y-i) in peaks):\n",
    "                distance[center+i] += 1\n",
    "            if (x+i) in peaks or (x-i) in peaks or (y+i) in peaks or (y-i) in peaks:\n",
    "                break\n",
    "    return distance\n",
    "\n",
    "def show(x, hr_result):\n",
    "    sns.set_style(\"whitegrid\") \n",
    "    fig, axes = plt.subplots(nrows=1, ncols=1, figsize=(5, 5), sharey=True)\n",
    "    axes.grid(False)\n",
    "    axes.plot(x, hr_result, color=(177/255, 89/255, 40/255), label='hr')\n",
    "\n",
    "    plt.xlabel('distance')\n",
    "    plt.ylabel('nums')\n",
    "    plt.legend()\n",
    "    plt.show()\n",
    "\n",
    "def test(all_hr_sig, chia_pet_peaks):\n",
    "    screen_hr_sigs, screen_chia_pet_peaks = dict(), dict()\n",
    "    for index in infos.index:\n",
    "        _chr, _start, _end = infos.loc[index][0], int(int(infos.loc[index][1])/1000), int(int(infos.loc[index][2])/1000)\n",
    "        for interaction in all_hr_sig[int(_chr[3:])]:\n",
    "            if interaction[0] < _start or interaction[0] > _end:\n",
    "                continue\n",
    "            if interaction[1] < _start or interaction[1] > _end:\n",
    "                continue\n",
    "            if int(_chr[3:]) not in screen_hr_sigs.keys():\n",
    "                screen_hr_sigs[int(_chr[3:])] = set()\n",
    "            screen_hr_sigs[int(_chr[3:])].add((int(interaction[0]), int(interaction[1])))\n",
    "        for peak in chia_pet_peaks[_chr]:\n",
    "            if peak < _start or peak > _end:\n",
    "                continue\n",
    "            if int(_chr[3:]) not in screen_chia_pet_peaks.keys():\n",
    "                screen_chia_pet_peaks[int(_chr[3:])] = set()\n",
    "            screen_chia_pet_peaks[int(_chr[3:])].add((int(peak)))\n",
    "\n",
    "    all_hr_result = np.zeros(attentions*2-1)\n",
    "    for chr in range(1, 23):\n",
    "        if chr not in screen_hr_sigs.keys():\n",
    "            continue\n",
    "        if chr not in screen_chia_pet_peaks.keys():\n",
    "            continue\n",
    "        all_hr_result += get_hit_indicators(screen_hr_sigs[chr], screen_chia_pet_peaks[chr])\n",
    "\n",
    "    show(list(range(-attentions+1, attentions)), all_hr_result)\n"
   ]
  },
  {
   "cell_type": "code",
   "execution_count": 4,
   "id": "5b37f320",
   "metadata": {
    "scrolled": false
   },
   "outputs": [
    {
     "ename": "NameError",
     "evalue": "name 'all_active_sig' is not defined",
     "output_type": "error",
     "traceback": [
      "\u001b[0;31m---------------------------------------------------------------------------\u001b[0m",
      "\u001b[0;31mNameError\u001b[0m                                 Traceback (most recent call last)",
      "\u001b[0;32m<ipython-input-4-597ce93539c6>\u001b[0m in \u001b[0;36m<module>\u001b[0;34m\u001b[0m\n\u001b[1;32m      5\u001b[0m \u001b[0mchia_pet_path\u001b[0m \u001b[0;34m=\u001b[0m \u001b[0mos\u001b[0m\u001b[0;34m.\u001b[0m\u001b[0mpath\u001b[0m\u001b[0;34m.\u001b[0m\u001b[0mjoin\u001b[0m\u001b[0;34m(\u001b[0m\u001b[0mauxiliary_files_path\u001b[0m\u001b[0;34m,\u001b[0m \u001b[0;34m'CTCF_chiapet_peaks.bed'\u001b[0m\u001b[0;34m)\u001b[0m\u001b[0;34m\u001b[0m\u001b[0;34m\u001b[0m\u001b[0m\n\u001b[1;32m      6\u001b[0m \u001b[0mchia_pet_peaks\u001b[0m \u001b[0;34m=\u001b[0m \u001b[0mread_bed_file\u001b[0m\u001b[0;34m(\u001b[0m\u001b[0mchia_pet_path\u001b[0m\u001b[0;34m)\u001b[0m\u001b[0;34m\u001b[0m\u001b[0;34m\u001b[0m\u001b[0m\n\u001b[0;32m----> 7\u001b[0;31m \u001b[0mtest\u001b[0m\u001b[0;34m(\u001b[0m\u001b[0mall_hr_sig\u001b[0m\u001b[0;34m,\u001b[0m \u001b[0mall_active_sig\u001b[0m\u001b[0;34m,\u001b[0m \u001b[0mchia_pet_peaks\u001b[0m\u001b[0;34m)\u001b[0m\u001b[0;34m\u001b[0m\u001b[0;34m\u001b[0m\u001b[0m\n\u001b[0m\u001b[1;32m      8\u001b[0m \u001b[0;34m\u001b[0m\u001b[0m\n\u001b[1;32m      9\u001b[0m \u001b[0mchia_pet_path\u001b[0m \u001b[0;34m=\u001b[0m \u001b[0mos\u001b[0m\u001b[0;34m.\u001b[0m\u001b[0mpath\u001b[0m\u001b[0;34m.\u001b[0m\u001b[0mjoin\u001b[0m\u001b[0;34m(\u001b[0m\u001b[0mauxiliary_files_path\u001b[0m\u001b[0;34m,\u001b[0m \u001b[0;34m'POLR2A_chiapet_peaks.bed'\u001b[0m\u001b[0;34m)\u001b[0m\u001b[0;34m\u001b[0m\u001b[0;34m\u001b[0m\u001b[0m\n",
      "\u001b[0;31mNameError\u001b[0m: name 'all_active_sig' is not defined"
     ]
    }
   ],
   "source": [
    "active_middle_sred_tad_csv_path = '../fig4/active_small.csv'\n",
    "infos = pd.read_csv(active_middle_sred_tad_csv_path, sep=\",\", index_col=0)\n",
    "infos\n",
    "\n",
    "chia_pet_path = os.path.join(auxiliary_files_path, 'CTCF_chiapet_peaks.bed')\n",
    "chia_pet_peaks = read_bed_file(chia_pet_path)\n",
    "test(all_hr_sig, chia_pet_peaks)\n",
    "\n",
    "chia_pet_path = os.path.join(auxiliary_files_path, 'POLR2A_chiapet_peaks.bed')\n",
    "chia_pet_peaks = read_bed_file(chia_pet_path)\n",
    "test(all_hr_sig, chia_pet_peaks)"
   ]
  },
  {
   "cell_type": "code",
   "execution_count": null,
   "id": "69d8daf6",
   "metadata": {},
   "outputs": [],
   "source": [
    "active_middle_sred_tad_csv_path = '../fig4/active_middle.csv'\n",
    "infos = pd.read_csv(active_middle_sred_tad_csv_path, sep=\",\", index_col=0)\n",
    "infos\n",
    "\n",
    "chia_pet_path = os.path.join(auxiliary_files_path, 'CTCF_chiapet_peaks.bed')\n",
    "chia_pet_peaks = read_bed_file(chia_pet_path)\n",
    "test(all_hr_sig, chia_pet_peaks)\n",
    "\n",
    "chia_pet_path = os.path.join(auxiliary_files_path, 'POLR2A_chiapet_peaks.bed')\n",
    "chia_pet_peaks = read_bed_file(chia_pet_path)\n",
    "test(all_hr_sig, chia_pet_peaks)"
   ]
  },
  {
   "cell_type": "code",
   "execution_count": null,
   "id": "20027f5d",
   "metadata": {},
   "outputs": [],
   "source": [
    "active_middle_sred_tad_csv_path = '../fig4/active_high.csv'\n",
    "infos = pd.read_csv(active_middle_sred_tad_csv_path, sep=\",\", index_col=0)\n",
    "infos\n",
    "\n",
    "chia_pet_path = os.path.join(auxiliary_files_path, 'CTCF_chiapet_peaks.bed')\n",
    "chia_pet_peaks = read_bed_file(chia_pet_path)\n",
    "test(all_hr_sig, chia_pet_peaks)\n",
    "\n",
    "chia_pet_path = os.path.join(auxiliary_files_path, 'POLR2A_chiapet_peaks.bed')\n",
    "chia_pet_peaks = read_bed_file(chia_pet_path)\n",
    "test(all_hr_sig, chia_pet_peaks)"
   ]
  },
  {
   "cell_type": "code",
   "execution_count": null,
   "id": "4ebbe3ad",
   "metadata": {},
   "outputs": [],
   "source": [
    "active_middle_sred_tad_csv_path = '../fig4/active_very_high.csv'\n",
    "infos = pd.read_csv(active_middle_sred_tad_csv_path, sep=\",\", index_col=0)\n",
    "infos\n",
    "\n",
    "chia_pet_path = os.path.join(auxiliary_files_path, 'CTCF_chiapet_peaks.bed')\n",
    "chia_pet_peaks = read_bed_file(chia_pet_path)\n",
    "test(all_hr_sig, chia_pet_peaks)\n",
    "\n",
    "chia_pet_path = os.path.join(auxiliary_files_path, 'POLR2A_chiapet_peaks.bed')\n",
    "chia_pet_peaks = read_bed_file(chia_pet_path)\n",
    "test(all_hr_sig, chia_pet_peaks)"
   ]
  }
 ],
 "metadata": {
  "kernelspec": {
   "display_name": "MMSR",
   "language": "python",
   "name": "mmsr"
  },
  "language_info": {
   "codemirror_mode": {
    "name": "ipython",
    "version": 3
   },
   "file_extension": ".py",
   "mimetype": "text/x-python",
   "name": "python",
   "nbconvert_exporter": "python",
   "pygments_lexer": "ipython3",
   "version": "3.6.13"
  }
 },
 "nbformat": 4,
 "nbformat_minor": 5
}
