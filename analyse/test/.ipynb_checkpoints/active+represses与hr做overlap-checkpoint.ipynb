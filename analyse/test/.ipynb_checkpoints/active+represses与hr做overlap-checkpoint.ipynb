{
 "cells": [
  {
   "cell_type": "code",
   "execution_count": 1,
   "id": "ec4b2a5f",
   "metadata": {},
   "outputs": [],
   "source": [
    "import numpy as np\n",
    "import matplotlib.pyplot as plt\n",
    "from matplotlib_venn import venn2"
   ]
  },
  {
   "cell_type": "code",
   "execution_count": 2,
   "id": "c50b1a03",
   "metadata": {},
   "outputs": [],
   "source": [
    "def show_venn(enhanced_sig_set, hr_sig_set):\n",
    "    venn2(subsets = [hr_sig_set, enhanced_sig_set], set_labels = ('1kb', 'enhanced'), set_colors=((247/255, 129/255, 191/255), (51/255, 160/255, 44/255)))\n",
    "    plt.show()"
   ]
  },
  {
   "cell_type": "code",
   "execution_count": 3,
   "id": "d71b5c08",
   "metadata": {},
   "outputs": [],
   "source": [
    "active = np.load('../fig2/temp/GM12878_ATAC_H3K27ac_H3K4me3_2_100_enhanced_sigs.npy', allow_pickle=True).item()\n",
    "represses = np.load('../fig2/represses/temp/GM12878_H3K9me3_H3K27me3_2_100_enhanced_sigs.npy', allow_pickle=True).item()\n",
    "hr = np.load('../fig2/temp/GM12878_ATAC_H3K27ac_H3K4me3_2_100_hr_sigs.npy', allow_pickle=True).item()\n"
   ]
  },
  {
   "cell_type": "code",
   "execution_count": 4,
   "id": "134556d4",
   "metadata": {},
   "outputs": [
    {
     "data": {
      "image/png": "[encoded data removed]",
      "text/plain": [
       "<Figure size 432x288 with 1 Axes>"
      ]
     },
     "metadata": {},
     "output_type": "display_data"
    }
   ],
   "source": [
    "enhanced_sigs = active | represses\n",
    "hr_sigs = hr.copy()\n",
    "\n",
    "show_venn(enhanced_sigs, hr)\n",
    "\n",
    "_enhanced_sigs = enhanced_sigs.copy()\n",
    "_hr_sigs = set()\n",
    "for _hr_sig in hr_sigs:\n",
    "    flag = False\n",
    "    for _enhanced_sig in _enhanced_sigs:\n",
    "        if abs(_hr_sig[0]-_enhanced_sig[0])<3 and abs(_hr_sig[1]-_enhanced_sig[1])<3:\n",
    "            _hr_sigs.add(_enhanced_sig)\n",
    "            flag = True\n",
    "    _hr_sigs.add(_hr_sig)\n",
    "    if flag:\n",
    "        _enhanced_sigs.add(_hr_sig)\n",
    "\n",
    "show_venn(_enhanced_sigs, _hr_sigs)"
   ]
  }
 ],
 "metadata": {
  "kernelspec": {
   "display_name": "MMSR",
   "language": "python",
   "name": "mmsr"
  },
  "language_info": {
   "codemirror_mode": {
    "name": "ipython",
    "version": 3
   },
   "file_extension": ".py",
   "mimetype": "text/x-python",
   "name": "python",
   "nbconvert_exporter": "python",
   "pygments_lexer": "ipython3",
   "version": "3.6.13"
  }
 },
 "nbformat": 4,
 "nbformat_minor": 5
}
