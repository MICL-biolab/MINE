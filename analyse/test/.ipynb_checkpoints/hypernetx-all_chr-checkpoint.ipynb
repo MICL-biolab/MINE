{
 "cells": [
  {
   "cell_type": "code",
   "execution_count": 4,
   "id": "efcdbe1c",
   "metadata": {},
   "outputs": [],
   "source": [
    "import os\n",
    "import numpy as np\n",
    "import matplotlib.pyplot as plt\n",
    "import hypernetx as hnx"
   ]
  },
  {
   "cell_type": "code",
   "execution_count": 5,
   "id": "12168c11",
   "metadata": {},
   "outputs": [],
   "source": [
    "attentions = 50\n",
    "center = attentions - 1\n",
    "\n",
    "def read_chiqseq_file(path):\n",
    "    _peaks = dict()\n",
    "    with open(path)as f:\n",
    "        for line in f:\n",
    "            datas = line.strip().split()\n",
    "            left, right = int(int(datas[1])/1000), int(int(datas[2])/1000)\n",
    "            peaks = list(range(left, right+1))\n",
    "            if datas[0] not in _peaks.keys():\n",
    "                _peaks[datas[0]] = set()\n",
    "            for i in peaks:\n",
    "                _peaks[datas[0]].add(i)\n",
    "    return _peaks\n",
    "\n",
    "def get_hit_indicators(significants, peaks):\n",
    "    distance = np.zeros(attentions*2-1)\n",
    "    \n",
    "    remove_sigs = set()\n",
    "    for sig in significants:\n",
    "        x, y = int(sig[0]), int(sig[1])\n",
    "        if x not in peaks and y not in peaks:\n",
    "            remove_sigs.add(sig)\n",
    "    significants = significants - remove_sigs\n",
    "    return distance, significants\n",
    "\n",
    "def clear(chip_seq_path, all_enhanced_sig):\n",
    "    enhanced_sigs = dict()\n",
    "    for chr in range(1, 23):\n",
    "        _peaks = read_chiqseq_file(chip_seq_path)\n",
    "        distance, significants = get_hit_indicators(all_enhanced_sig[chr], _peaks['chr{}'.format(chr)])\n",
    "        enhanced_sigs[chr] = significants\n",
    "    return enhanced_sigs"
   ]
  },
  {
   "cell_type": "code",
   "execution_count": 6,
   "id": "c3c9038b",
   "metadata": {},
   "outputs": [
    {
     "name": "stdout",
     "output_type": "stream",
     "text": [
      "7699\n"
     ]
    }
   ],
   "source": [
    "# hr_sigs = np.load('../fig2/temp/GM12878_ATAC_H3K27ac_H3K4me3_2_100_all_hr_sig.npy', allow_pickle=True).item()\n",
    "enhanced_sigs = np.load('../fig2/tss/temp/GM12878_ATAC_H3K27ac_H3K4me3_2_100_all_enhanced_sig.npy', allow_pickle=True).item()\n",
    "\n",
    "auxiliary_files_path = '/data1/lmh_data/MINE/source/GM12878'\n",
    "chip_seq_path = os.path.join(auxiliary_files_path, 'CTCF_peaks.bed')\n",
    "enhanced_sigs = clear(chip_seq_path, enhanced_sigs)\n",
    "\n",
    "enhanced_sig_number, enhanced_sig_numbers = 1, dict()\n",
    "\n",
    "scenes = dict()\n",
    "i = 0\n",
    "for chr in range(1, 23):\n",
    "    for enhanced_sig in enhanced_sigs[chr]:\n",
    "        sig1, sig2 = int(enhanced_sig[0]), int(enhanced_sig[1])\n",
    "        k1, k2 = '{}_{}'.format(chr, sig1), '{}_{}'.format(chr, sig2)\n",
    "        if k1 in enhanced_sig_numbers.keys():\n",
    "            sig1 = enhanced_sig_numbers[k1]\n",
    "        else:\n",
    "            enhanced_sig_numbers[k1] = enhanced_sig_number\n",
    "            sig1 = enhanced_sig_number\n",
    "            enhanced_sig_number += 1\n",
    "        if k2 in enhanced_sig_numbers.keys():\n",
    "            sig2 = enhanced_sig_numbers[k2]\n",
    "        else:\n",
    "            enhanced_sig_numbers[k2] = enhanced_sig_number\n",
    "            sig2 = enhanced_sig_number\n",
    "            enhanced_sig_number += 1\n",
    "\n",
    "        scenes['p_{}'.format(i)] = set()\n",
    "        scenes['p_{}'.format(i)].add(sig1)\n",
    "        scenes['p_{}'.format(i)].add(sig2)\n",
    "        i += 1\n",
    "        \n",
    "print(len(scenes))\n"
   ]
  },
  {
   "cell_type": "code",
   "execution_count": 7,
   "id": "f6133b21",
   "metadata": {},
   "outputs": [],
   "source": [
    "f = open('hypernetx.hgr', 'w')\n",
    "f.write('{} {}\\n'.format(len(scenes.keys()), enhanced_sig_number-1))\n",
    "for key in scenes.keys():\n",
    "    f.write(' '.join(str(s) for s in scenes[key]) + '\\n')\n",
    "f.close()"
   ]
  },
  {
   "cell_type": "code",
   "execution_count": null,
   "id": "4d4bba7a",
   "metadata": {},
   "outputs": [],
   "source": []
  },
  {
   "cell_type": "code",
   "execution_count": 8,
   "id": "5bd9890f",
   "metadata": {},
   "outputs": [],
   "source": [
    "opposite_enhanced_sig_numbers = dict()\n",
    "for key in enhanced_sig_numbers.keys():\n",
    "    opposite_enhanced_sig_numbers[enhanced_sig_numbers[key]] = key"
   ]
  },
  {
   "cell_type": "code",
   "execution_count": 13,
   "id": "5756e9a8",
   "metadata": {},
   "outputs": [],
   "source": [
    "f = open('hypernetx.hgr.part.6', 'r')\n",
    "datas = f.readlines()\n",
    "f.close()\n",
    "\n",
    "parts = dict()\n",
    "for i in range(len(datas)):\n",
    "    part = int(datas[i])\n",
    "    if part not in parts.keys():\n",
    "        parts[part] = dict()\n",
    "    infos = opposite_enhanced_sig_numbers[i+1].split('_')\n",
    "    chr, bin = int(infos[0]), int(infos[1])\n",
    "    if chr not in parts[part].keys():\n",
    "        parts[part][chr] = set()\n",
    "    parts[part][chr].add(bin)"
   ]
  },
  {
   "cell_type": "code",
   "execution_count": 18,
   "id": "37d60cd7",
   "metadata": {},
   "outputs": [],
   "source": [
    "tss_file_path = os.path.join(auxiliary_files_path, 'Homo_sapiens.GRCh38.104.chr.gff3')\n",
    "\n",
    "def get_tss_gene_info(gene_biotype='protein_coding'):\n",
    "    gene_location = dict()\n",
    "    gene_info = dict()\n",
    "    with open(tss_file_path, \"r\") as f:\n",
    "        datas = f.readlines()\n",
    "        for data in datas[9:]:\n",
    "            data = data.split('\\t')\n",
    "            if len(data) < 9:\n",
    "                continue\n",
    "            if data[2] != 'gene' or data[8].find(gene_biotype) == -1:\n",
    "                continue\n",
    "            if data[6] == '+':\n",
    "                _location = data[3]\n",
    "            elif data[6] == '-':\n",
    "                _location = data[4]\n",
    "            else:\n",
    "                print('error')\n",
    "            if not data[0].isdigit():\n",
    "                continue\n",
    "            chromosome = int(data[0])\n",
    "            if chromosome not in gene_location:\n",
    "                gene_location[chromosome] = set()\n",
    "            gene_location[chromosome].add(int(int(_location)/1000))\n",
    "            \n",
    "            _tmp = data[-1].split('Name=')\n",
    "            if len(_tmp) < 2:\n",
    "                continue\n",
    "            gene_names = _tmp[1].split(';')[0]\n",
    "            gene_ids = data[-1].split('ID=')[1].split(',')[0].split(';')[0]\n",
    "            \n",
    "            if chromosome not in gene_info:\n",
    "                gene_info[chromosome] = set()\n",
    "            gene_info[chromosome].add((int(int(_location)/1000), gene_names, gene_ids, data[-1].replace('\\n', '')))\n",
    "    return gene_location, gene_info\n",
    "\n",
    "def get_hit_genes(significants, gene_info, genes_loop_nums):\n",
    "    genes = set()\n",
    "    for sig in significants:\n",
    "        for _info in gene_info:\n",
    "            if abs(sig-_info[0])<3:\n",
    "                if _info[1] not in genes_loop_nums:\n",
    "                    genes_loop_nums[_info[1]] = 1\n",
    "                else:\n",
    "                    genes_loop_nums[_info[1]] += 1\n",
    "                genes.add((_info[1], _info[2], _info[3]))\n",
    "    return genes, genes_loop_nums\n",
    "\n",
    "def get_hit_gene_names(significants, gene_biotype='protein_coding'):\n",
    "    gene_info = get_tss_gene_info(gene_biotype)[1]\n",
    "    all_genes = set()\n",
    "    genes_loop_nums = dict()\n",
    "    for chr in range(1, 23):\n",
    "        if chr not in significants.keys():\n",
    "            continue\n",
    "        genes, genes_loop_nums = get_hit_genes(significants[chr], gene_info[chr], genes_loop_nums)\n",
    "        all_genes = all_genes | genes\n",
    "    return all_genes, genes_loop_nums"
   ]
  },
  {
   "cell_type": "code",
   "execution_count": 19,
   "id": "05d2bdce",
   "metadata": {},
   "outputs": [
    {
     "name": "stdout",
     "output_type": "stream",
     "text": [
      "{'CHIT1': 1, 'NASP': 1, 'RO60': 1, 'SMIM12': 1, 'FCRL6': 1, 'PPM1J': 1, 'HAO2': 1, 'CDC73': 1, 'SH3BGRL3': 1, 'OMA1': 1, 'DAB1': 1, 'INSRR': 1, 'CTSE': 1, 'CRYBG2': 1, 'GPR3': 1, 'AVPR1B': 1, 'GFI1': 1, 'WNT2B': 1, 'THEM4': 1, 'CNR2': 1, 'THRAP3': 1, 'MMACHC': 2, 'CCDC163': 2, 'AHDC1': 1, 'PERM1': 1, 'SEMA4A': 1, 'SLC20A1': 1, 'ACKR3': 1, 'FBXO41': 1, 'BUB1': 1, 'WIPF1': 1, 'INPP4A': 2, 'HDLBP': 1, 'SEPTIN2': 1, 'FARP2': 1, 'ACTR3': 1, 'PLEK': 1, 'CD8A': 1, 'AUP1': 1, 'HTRA2': 1, 'ADRA2B': 1, 'ASTL': 1, 'CFLAR': 1, 'SLC1A4': 1, 'ARL8B': 1, 'FNDC3B': 1, 'RUBCN': 1, 'GOLIM4': 1, 'PARP15': 1, 'IL12A': 1, 'RPL35A': 1, 'IQCG': 1, 'LMLN': 1, 'GBE1': 1, 'IRAK2': 1, 'ALPK1': 1, 'TIFA': 1, 'TMEM175': 1, 'GAK': 1, 'IDUA': 1, 'DGKQ': 1, 'ART3': 1, 'CXCL9': 1, 'CXCL10': 1, 'ATP10D': 1, 'TRIM52': 1, 'MGAT1': 1, 'CSNK1G3': 1, 'ZFP62': 2, 'CCNI2': 1, 'STING1': 1, 'MARVELD2': 1, 'FYB1': 1, 'LIX1': 1, 'OCLN': 1, 'RMND5B': 1, 'TRIM41': 1, 'NHP2': 2, 'VWA7': 1, 'H2BC5': 1, 'H1-4': 1, 'VARS1': 1, 'HSPA1B': 1, 'PNISR': 1, 'ZSCAN26': 1, 'CCDC167': 1, 'CAPN11': 1, 'H3C10': 1, 'H2AC13': 1, 'HLA-DMB': 1, 'ZSCAN31': 1, 'BRD2': 1, 'HLA-DMA': 1, 'NFKBIE': 1, 'TPMT': 1, 'KDM1B': 1, 'HLA-DOA': 1, 'HLA-E': 1, 'HLA-DPB1': 1, 'HLA-DPA1': 2, 'ATP6V1G2-DDX39B': 2, 'NFKBIL1': 2, 'ATP6V1G2': 2, 'AIF1': 1, 'PRRC2A': 1, 'NT5DC1': 1, 'ARMC12': 1, 'SNRPC': 1, 'GPSM3': 1, 'LY6G5C': 1, 'H1-2': 1, 'HFE': 1, 'DDAH2': 1, 'NYAP1': 1, 'AGFG2': 1, 'GAL3ST4': 1, 'PRKRIP1': 1, 'PVRIG': 1, 'SYPL1': 1, 'GSR': 1, 'UTP23': 1, 'EIF3H': 1, 'GINS4': 1, 'PLEC': 1, 'GRINA': 1, 'SPATC1': 1, 'PARP10': 1, 'ZFPM2': 1, 'EGR3': 1, 'OPLAH': 1, 'GSDMD': 1, 'EXOSC4': 2, 'GPAA1': 1, 'CNGB3': 1, 'CYC1': 2, 'RBIS': 2, 'CA13': 2, 'MAF1': 1, 'WDR97': 1, 'PYCR3': 1, 'RAD54B': 1, 'MROH1': 1, 'MTDH': 1, 'IQANK1': 1, 'THEM6': 1, 'PPP1R3B': 1, 'GTF2E2': 1, 'LONRF1': 1, 'IDO1': 1, 'NRBP2': 1, 'DNAJC5B': 1, 'ADCK5': 1, 'TRAF2': 1, 'P4HA1': 1, 'DUSP5': 1, 'ARID5B': 1, 'PIK3AP1': 1, 'ARHGEF12': 1, 'SLC22A8': 1, 'NUDT8': 1, 'MAML2': 1, 'PTS': 1, 'TMEM41B': 1, 'MMP7': 1, 'IPO7': 1, 'KAT5': 1, 'FERMT3': 1, 'RDX': 1, 'UBE2L6': 1, 'RAD9A': 1, 'SPA17': 1, 'ZBTB44': 1, 'STIM1': 1, 'BAD': 1, 'KCNK4': 1, 'TMEM179B': 1, 'NRGN': 1, 'TMEM223': 1, 'ESAM': 1, 'STX5': 1, 'TEX54': 1, 'WDR74': 1, 'CSTF3': 1, 'NUMA1': 1, 'LRTOMT': 1, 'DDB1': 1, 'LAMTOR1': 1, 'SART1': 1, 'ANAPC15': 1, 'CHRM1': 1, 'TMEM216': 1, 'HIPK3': 1, 'MFSD5': 1, 'SH2B3': 1, 'ATP23': 1, 'CLIP1': 1, 'GNPTAB': 1, 'CALCOCO1': 1, 'TMEM253': 1, 'ANKRD9': 1, 'ZNF219': 1, 'MDP1': 1, 'SIPA1L1': 1, 'TINF2': 1, 'ARF6': 2, 'NOP9': 1, 'DHRS1': 1, 'SAMD4A': 1, 'GLRX5': 1, 'SIVA1': 1, 'DAAM1': 1, 'TRAF3': 1, 'MCTP2': 1, 'SNX22': 1, 'IDH3A': 1, 'CIB2': 1, 'UBE3A': 1, 'SNX1': 1, 'IGDCC3': 1, 'ESRP2': 1, 'GDPD3': 1, 'GAS8': 1, 'DBNDD1': 1, 'IGHV3OR16-17': 1, 'ZNF213': 1, 'CARMIL2': 1, 'NFAT5': 1, 'TAF1C': 1, 'SPATA2L': 1, 'MMP25': 1, 'PDZD9': 1, 'GNA13': 1, 'DNAJC7': 1, 'ADORA2B': 1, 'BTBD17': 1, 'DHX58': 1, 'FAM222B': 1, 'ERAL1': 1, 'SLC16A6': 1, 'EFCAB13': 1, 'TVP23B': 1, 'CDC6': 1, 'HOXB4': 1, 'DHX8': 1, 'TSPOAP1': 1, 'UBALD2': 1, 'ZNF575': 2, 'ETHE1': 2, 'TMEM190': 1, 'INSR': 1, 'STK11': 1, 'STRN4': 1, 'FKRP': 1, 'SLC39A3': 1, 'TTC9B': 1, 'FCGRT': 1, 'IQCN': 1, 'SPINT2': 1, 'LSM4': 1, 'PGPEP1': 1, 'YIF1B': 1, 'KCNK6': 1, 'CATSPERG': 1, 'CXCL17': 2, 'ERFL': 1, 'CDS2': 1, 'PCNA': 1, 'MAVS': 1, 'SRXN1': 1, 'TGM2': 1, 'SYS1': 2, 'SYS1-DBNDD2': 2, 'PIGT': 1, 'GPCPD1': 1}\n",
      "{'RBM8A': 2, 'ID3': 1, 'FAM102B': 1, 'SDHC': 1, 'LIX1L': 1, 'POLR3GL': 1, 'ANKRD34A': 1, 'PIK3R3': 1, 'RGS1': 1, 'CFAP126': 1, 'NUDT17': 2, 'SF3A3': 1, 'HAX1': 1, 'GNL2': 1, 'CEP350': 1, 'HIPK1': 1, 'ELF3': 1, 'STMN1': 1, 'CD160': 1, 'GGPS1': 1, 'NOTCH2NLR': 1, 'NBPF26': 1, 'EYA3': 1, 'FCRLB': 1, 'FCER1G': 1, 'APOA2': 2, 'TOMM40L': 2, 'ANKRD35': 1, 'E2F2': 1, 'ITGA10': 1, 'PEX11B': 1, 'PREB': 1, 'KRCC1': 1, 'SMYD1': 1, 'CIAO1': 1, 'TMEM127': 1, 'SPATA3': 1, 'WIPF1': 1, 'NMUR1': 1, 'IKZF2': 1, 'ANKRD44': 1, 'PDCD1': 1, 'FAM240C': 1, 'NEURL3': 1, 'INO80D': 1, 'ANKRD36': 1, 'MAPRE3': 1, 'DUSP2': 1, 'STARD7': 1, 'ABHD1': 1, 'PASK': 1, 'PPP1R7': 1, 'WDR82': 1, 'GLYCTK': 1, 'C3orf33': 1, 'SLC33A1': 1, 'SKIL': 1, 'IMPDH2': 1, 'C3orf18': 1, 'CISH': 1, 'MAPKAPK3': 1, 'CDV3': 1, 'ZIC4': 1, 'TM4SF4': 1, 'LRAT': 3, 'HERC5': 1, 'TMA16': 1, 'FNIP2': 1, 'PLRG1': 1, 'CYP4V2': 1, 'HGFAC': 1, 'FGG': 1, 'RACK1': 1, 'KLHL3': 1, 'SCAMP1': 1, 'ST8SIA4': 1, 'MYOZ3': 1, 'TBC1D9B': 1, 'APBB3': 1, 'SLC35A4': 1, 'CETN3': 1, 'SSBP2': 1, 'CD14': 1, 'MBLAC2': 1, 'NEUROG1': 1, 'ARHGAP26': 1, 'TRIM41': 1, 'TBC1D7': 1, 'FLOT1': 1, 'H1-4': 1, 'MAP3K5': 1, 'PNISR': 1, 'H2BC13': 1, 'H2AC13': 1, 'H2BC14': 1, 'H2AC14': 1, 'USP45': 1, 'TSTD3': 1, 'HSP90AB1': 1, 'SLC35B2': 1, 'H3C11': 1, 'H4C13': 1, 'TCP10L2': 1, 'H3C12': 1, 'H2BC17': 1, 'H2AC17': 1, 'H1-6': 1, 'SERPINB1': 2, 'CDKN1A': 1, 'ECHDC1': 1, 'H2BC3': 1, 'H3C3': 1, 'DHX16': 1, 'H4C3': 1, 'NUP205': 1, 'VPS37D': 1, 'AHCYL2': 1, 'UPP1': 1, 'FAM126A': 1, 'KAT6A': 1, 'MSC': 1, 'FAM167A': 1, 'IKBKB': 1, 'SARAF': 1, 'THEM6': 1, 'PPP3CC': 1, 'EBAG9': 1, 'TFAM': 1, 'ZEB1': 1, 'NPFFR1': 1, 'ARHGAP21': 1, 'USP54': 1, 'KIF11': 1, 'IDE': 1, 'ARID5B': 1, 'SRGN': 1, 'ADM': 1, 'ARFGAP2': 1, 'PPP2R1B': 1, 'PAK1': 1, 'EPS8L2': 1, 'TMEM80': 1, 'FAM111A': 1, 'GATD1': 1, 'HINFP': 1, 'SIK3': 1, 'CCDC153': 1, 'HIPK3': 1, 'PRPF19': 1, 'ZNF10': 1, 'ZNF891': 1, 'ZNF268': 1, 'RNF212B': 1, 'CLBA1': 1, 'ARG2': 1, 'PCNX4': 1, 'CEBPE': 1, 'SUSD6': 1, 'OXA1L': 1, 'TERB2': 1, 'DISP2': 1, 'SEMA4B': 1, 'VPS18': 1, 'PLA2G4E': 1, 'SLC30A4': 1, 'CHD2': 1, 'CD19': 1, 'SH2B1': 1, 'TUFM': 1, 'CTF1': 1, 'ZNF768': 1, 'FBXL19': 2, 'KIF22': 1, 'SEPHS2': 1, 'C17orf67': 1, 'QRICH2': 1, 'DNAJC7': 1, 'SPECC1': 1, 'ADORA2B': 1, 'PRPSAP1': 1, 'ZNF385C': 1, 'KAT2A': 1, 'HSPB9': 1, 'SOST': 1, 'RFFL': 1, 'KSR1': 1, 'SENP3': 1, 'SENP3-EIF4A1': 1, 'GCGR': 1, 'C17orf97': 1, 'METTL2A': 1, 'IGFBP4': 1, 'CCDC124': 1, 'KCNN1': 1, 'GPR42': 1, 'DACT3': 2, 'TJP3': 1, 'BBC3': 1, 'C5AR1': 1, 'HSD17B14': 1, 'OLFM2': 1, 'MAP4K1': 1, 'EIF3K': 1, 'PSG9': 1, 'ITPKC': 1, 'COQ8B': 1, 'RDH8': 1, 'PNMA8C': 1, 'FCGRT': 1, 'SLC5A5': 1, 'GARRE1': 1, 'SEMA6B': 1, 'GSS': 1, 'MYH7B': 1, 'FITM2': 1, 'ACSS2': 1, 'GGT7': 1, 'SNAI1': 1, 'DDX27': 1, 'BCL2L1': 1}\n",
      "{'LRRC8C': 2, 'NPR1': 1, 'TAFA3': 1, 'SCNM1': 1, 'TNFAIP8L2': 1, 'SLC27A3': 1, 'ABCB10': 1, 'BATF3': 1, 'PSRC1': 1, 'TAF5L': 1, 'URB2': 1, 'DIPK1A': 1, 'FCGR3B': 1, 'KMO': 1, 'MYCL': 1, 'GNAI3': 1, 'EGLN1': 1, 'BCL2L11': 1, 'NMUR1': 1, 'RPIA': 1, 'EIF2AK3': 1, 'IKZF2': 1, 'FOXN2': 1, 'HNRNPLL': 1, 'DPYSL5': 1, 'CYS1': 1, 'RRM2': 1, 'GPR155': 1, 'CASP10': 1, 'SLC39A10': 1, 'GNAT1': 1, 'GNAI2': 1, 'GPX1': 1, 'DNAJC19': 1, 'VEGFC': 1, 'TLR1': 1, 'TLR6': 1, 'DAPP1': 1, 'DNAJB14': 2, 'PAICS': 1, 'PPAT': 1, 'TMEM131L': 1, 'SCAMP1': 1, 'LSM11': 1, 'HBEGF': 1, 'STK10': 1, 'LMAN2': 1, 'RGS14': 2, 'CCDC125': 1, 'SLC34A1': 2, 'CNOT8': 1, 'PFN3': 2, 'GRK6': 3, 'F12': 1, 'PRR7': 3, 'TTC33': 1, 'DBN1': 1, 'CARD6': 1, 'F2R': 1, 'RMND5B': 1, 'NDST1': 1, 'AP3B1': 1, 'C5orf52': 1, 'SOX30': 1, 'TNFAIP8': 1, 'HSF2': 1, 'SCAF8': 1, 'TNFAIP3': 1, 'H3C8': 1, 'H2BC10': 1, 'MICA': 1, 'SLC26A8': 1, 'MAPK14': 1, 'BRD2': 1, 'HLA-DMA': 1, 'NFKBIE': 1, 'SFTA2': 1, 'TMEM151B': 1, 'MICB': 1, 'SLC17A3': 1, 'SPATS1': 1, 'TCP11': 1, 'GNL1': 1, 'PRR3': 1, 'GRM4': 1, 'CD2AP': 1, 'SCUBE3': 1, 'RANBP9': 1, 'PSORS1C2': 1, 'SLC2A12': 1, 'H4C2': 1, 'NHSL1': 1, 'NT5E': 1, 'ZKSCAN8': 1, 'MPC1': 1, 'H4C3': 1, 'ADAP1': 1, 'LRWD1': 1, 'ALKBH4': 1, 'FOXK1': 1, 'POLR2J': 2, 'TRIM4': 1, 'SEPTIN7': 1, 'METTL2B': 1, 'TSC22D4': 1, 'ZNF250': 1, 'ZNF16': 1, 'MAFA': 1, 'MTFR1': 1, 'CHRAC1': 1, 'TP53INP1': 1, 'MAF1': 1, 'TTI2': 1, 'WDR97': 1, 'SHARPIN': 1, 'RNF122': 1, 'PSCA': 1, 'FZD3': 1, 'GPIHBP1': 1, 'DOK2': 1, 'XPO7': 1, 'SCRIB': 1, 'SSNA1': 1, 'ANAPC2': 1, 'RNF208': 1, 'TSPAN14': 1, 'ARHGAP21': 1, 'SH2D4B': 1, 'NOC3L': 1, 'SGPL1': 1, 'TBC1D12': 1, 'IFIT2': 1, 'MAP3K8': 1, 'PCBD1': 1, 'TRIM8': 1, 'TACR2': 1, 'CREM': 1, 'GSTO2': 1, 'ITPRIP': 1, 'CFAP58': 1, 'DDX6': 1, 'ZC3H12C': 1, 'PACS1': 1, 'CD6': 1, 'CDCA5': 1, 'ZFPL1': 1, 'RAB38': 1, 'SPTBN2': 1, 'C11orf80': 1, 'AP5B1': 1, 'SPA17': 1, 'CDC42EP2': 1, 'EIF3F': 1, 'CLP1': 1, 'YPEL4': 1, 'C11orf97': 1, 'NRGN': 1, 'SIK3': 1, 'ARL2': 1, 'ARL2-SNX15': 1, 'CLEC6A': 1, 'FMNL3': 1, 'PXN': 1, 'PRKAG1': 1, 'NUDT14': 1, 'KHNYN': 1, 'CBLN3': 1, 'DLGAP5': 1, 'FBXO34': 1, 'LRRK1': 1, 'RSL24D1': 1, 'SLC12A3': 1, 'RAB26': 1, 'MAZ': 1, 'CETP': 1, 'CDIPT': 1, 'SLC7A6': 1, 'ANTKMT': 1, 'ABCA3': 1, 'SLC7A5': 1, 'PSMB10': 1, 'ADAT1': 1, 'MT1X': 1, 'ZFPM1': 1, 'MSRB1': 1, 'PDZD9': 1, 'MOSMO': 1, 'PSMC3IP': 1, 'SLC43A2': 1, 'MYO1D': 1, 'CCR7': 1, 'PLEKHH3': 1, 'EFCAB13': 1, 'SCRN2': 1, 'RNF227': 1, 'PITPNC1': 1, 'SLC16A11': 1, 'STAT3': 1, 'CAVIN1': 1, 'IKZF3': 1, 'SOCS7': 1, 'NME1-NME2': 1, 'NME1': 1, 'METTL2A': 1, 'TRAPPC5': 1, 'GPR42': 1, 'SLC27A5': 1, 'RNF126': 1, 'NFIX': 1, 'FAM174C': 1, 'TULP2': 1, 'EFNA2': 2, 'BAX': 1, 'PWWP3A': 1, 'IQCN': 1, 'NDUFS7': 1, 'PNMA8A': 1, 'POP4': 1, 'CATSPERG': 1, 'TMEM160': 1, 'SPAG4': 1, 'MANBAL': 1, 'BCL2L1': 2}\n"
     ]
    },
    {
     "name": "stdout",
     "output_type": "stream",
     "text": [
      "{'FAM102B': 1, 'PEX19': 1, 'PIGV': 1, 'RASSF5': 2, 'LRRC42': 1, 'HSPB11': 1, 'CDK11A': 1, 'PIK3C2B': 1, 'BSND': 1, 'PRKAB2': 1, 'FCN3': 1, 'CD164L2': 1, 'GPR3': 1, 'RNPEP': 1, 'BTBD19': 1, 'DYNLT4': 1, 'CHD1L': 1, 'FMO5': 1, 'GATAD2B': 1, 'GNB1': 1, 'EYA3': 1, 'S100A10': 1, 'BCL2L11': 1, 'MAT2A': 1, 'ATF2': 1, 'D2HGDH': 1, 'ATP5MC3': 2, 'NT5DC4': 1, 'BUB1': 1, 'GPBAR1': 1, 'SPR': 1, 'SOS1': 1, 'NEURL3': 1, 'SDC1': 1, 'LBX2': 1, 'GFPT1': 1, 'PTMA': 2, 'MERTK': 1, 'CTDSP1': 1, 'AUP1': 1, 'HTRA2': 1, 'NFU1': 1, 'CFLAR': 1, 'IHH': 1, 'PASK': 1, 'PPP1R7': 1, 'PRLH': 1, 'TLR9': 1, 'GNAT1': 1, 'LSMEM2': 1, 'CHST2': 1, 'CCR5': 1, 'C3orf20': 1, 'ABCF3': 1, 'DZIP1L': 1, 'IRAK2': 1, 'EEF1AKMT4': 1, 'EEF1AKMT4-ECE2': 1, 'ALG3': 1, 'RAPGEF2': 1, 'CXCL11': 1, 'GYPB': 1, 'AFF1': 1, 'HNRNPD': 1, 'HNRNPDL': 1, 'ENOPH1': 1, 'IL7R': 1, 'ARL15': 1, 'PCDHGA11': 1, 'PCDHGA12': 1, 'CSNK1G3': 1, 'HCN1': 1, 'PDGFRB': 1, 'MXD3': 1, 'LNPEP': 1, 'DNAJC18': 1, 'ECSCR': 1, 'STING1': 1, 'DUSP1': 1, 'SRA1': 1, 'ERGIC1': 1, 'LMNB1': 2, 'TMCO6': 1, 'RUFY1': 1, 'WNT8A': 1, 'H2AC6': 1, 'H2BC4': 1, 'IL17F': 1, 'LSM2': 1, 'QKI': 1, 'DST': 1, 'BEND6': 1, 'TNFAIP3': 1, 'MICA': 1, 'ZDHHC14': 1, 'HLA-DRB5': 1, 'HLA-E': 1, 'H1-6': 1, 'HLA-DRB1': 1, 'SERPINB9': 1, 'CD2AP': 1, 'PRR18': 1, 'NQO2': 1, 'H2AC4': 1, 'H3C2': 1, 'PPP1R18': 1, 'MPC1': 3, 'MSH5-SAPCD1': 1, 'CLIC1': 1, 'MSH5': 1, 'TUBB': 1, 'MDC1': 1, 'CREB3L2': 1, 'AKR1D1': 1, 'STEAP1': 1, 'SNX10': 1, 'STEAP2': 1, 'SPDYE16': 1, 'SEPTIN7': 1, 'ZNF250': 1, 'GINS4': 1, 'PLEC': 1, 'HNF4G': 1, 'FAM167A': 1, 'PYCR3': 1, 'GFUS': 2, 'RAD54B': 1, 'ZNF707': 1, 'MAPK15': 1, 'MTDH': 1, 'FAM83H': 1, 'ZHX1': 1, 'ZHX1-C8orf76': 1, 'HEY1': 1, 'BRF2': 2, 'PLEKHA2': 1, 'TFAM': 1, 'CALHM3': 1, 'NEURL1': 1, 'ZNF511': 1, 'ZNF511-PRAP1': 1, 'ABI1': 1, 'TRIM8': 1, 'UPF2': 1, 'ANKRD22': 1, 'DHTKD1': 1, 'SEC61A2': 1, 'CUTC': 1, 'ATP5MK': 1, 'PDCD11': 1, 'CD82': 1, 'CCS': 1, 'CCDC87': 1, 'PLAAT4': 1, 'TBX10': 1, 'ARAP1': 1, 'STARD10': 1, 'RBM4B': 1, 'KLHL35': 2, 'UBE2L6': 1, 'OVOL1': 1, 'GDPD5': 3, 'UBASH3B': 1, 'DTX4': 1, 'HPX': 1, 'RNF141': 1, 'TAF6L': 1, 'TBC1D10C': 1, 'MARK2': 1, 'EHD1': 1, 'RNH1': 1, 'DNAJC22': 1, 'IGFBP6': 1, 'GRK1': 1, 'PIGH': 1, 'AHNAK2': 1, 'CDH24': 1, 'VTI1B': 1, 'PTGR2': 1, 'SIPA1L1': 1, 'TINF2': 1, 'ADCY4': 1, 'CCDC88C': 2, 'SAMD4A': 1, 'ACOT1': 1, 'LRP10': 1, 'KHNYN': 1, 'CBLN3': 1, 'TGM5': 1, 'PATL2': 1, 'B2M': 1, 'MAPKBP1': 2, 'SEMA4B': 1, 'EPB42': 1, 'ULK3': 1, 'KARS1': 1, 'TERF2IP': 1, 'CD19': 1, 'CPNE2': 1, 'PLA2G15': 1, 'NFATC2IP': 1, 'TMEM231': 1, 'ABCA3': 1, 'CHD9': 1, 'ATP2A1': 1, 'NTAN1': 1, 'TAF1C': 1, 'WDR59': 1, 'ZNRF1': 1, 'CCNF': 1, 'PDXDC1': 2, 'ICAM2': 1, 'RNF43': 1, 'DCXR': 1, 'GRB2': 1, 'NOS2': 1, 'FASN': 1, 'TOB1': 1, 'SSH2': 1, 'EFCAB5': 1, 'LYRM9': 1, 'RFFL': 1, 'RUNDC3A': 1, 'SLC16A13': 1, 'CAVIN1': 1, 'SUPT4H1': 1, 'OGFOD3': 1, 'HEXD': 1, 'ACE': 1, 'FCER2': 1, 'NANOS3': 1, 'LRFN3': 1, 'DPP9': 1, 'INSR': 1, 'SLC27A5': 1, 'DAND5': 1, 'FEM1A': 1, 'GMIP': 1, 'MZF1': 1, 'CBLC': 1, 'NDUFB7': 1, 'CDKN2D': 2, 'CFD': 1, 'AP1M2': 1, 'R3HDM4': 1, 'KISS1R': 1, 'CD79A': 1, 'ILF3': 1, 'POP4': 1, 'KCNK6': 1, 'YIF1B': 1, 'ERFL': 1, 'C19orf53': 1, 'PLA2G4C': 1, 'ACSBG2': 1, 'NCOA3': 1, 'BHLHE23': 1, 'RBM38': 1, 'ABHD12': 1}\n",
      "{'ZFP69B': 1, 'MATN1': 1, 'GABPB2': 1, 'CDC42SE1': 1, 'VPS45': 1, 'PMF1': 1, 'PMF1-BGLAP': 1, 'RGS1': 1, 'ILF2': 1, 'NPR1': 1, 'FMOD': 1, 'SCNM1': 1, 'TNFAIP8L2': 1, 'RSBN1': 1, 'SHISA4': 1, 'SLC27A3': 1, 'PIK3C2B': 1, 'DCLRE1B': 1, 'AP4B1': 1, 'IFI44L': 1, 'KHDC4': 1, 'RXFP4': 1, 'TBCE': 1, 'GGPS1': 1, 'ARID4B': 1, 'GFI1': 1, 'TLR5': 1, 'UCK2': 1, 'TMCO1': 1, 'ACKR3': 1, 'SLC23A3': 1, 'SEPTIN10': 1, 'SOWAHC': 1, 'SPATA3': 1, 'ERMN': 1, 'ASDURF': 1, 'ASNSD1': 1, 'ATOH8': 1, 'MAL': 1, 'P2RY14': 1, 'XIRP1': 1, 'NSUN3': 1, 'DHFR2': 1, 'CX3CR1': 1, 'SCAP': 1, 'CYP8B1': 1, 'CPA3': 1, 'HEMK1': 1, 'RFT1': 1, 'MB21D2': 1, 'LTF': 1, 'RTP3': 1, 'CISH': 1, 'MAPKAPK3': 1, 'CLASP2': 1, 'CDV3': 1, 'GATA2': 1, 'TLR1': 1, 'TLR6': 1, 'TMEM131L': 1, 'NIPBL': 1, 'PAIP1': 1, 'NNT': 1, 'PCDHGB7': 1, 'PCDHGA11': 1, 'FOXI1': 1, 'ZFP62': 1, 'RICTOR': 1, 'REEP2': 1, 'EGR1': 1, 'PPARGC1B': 1, 'PARP8': 1, 'HLA-C': 1, 'PRSS35': 1, 'NUDT3': 1, 'HLA-G': 1, 'PAQR8': 2, 'EFHC1': 2, 'C6orf62': 1, 'AKIRIN2': 1, 'TXNDC5': 1, 'H3C12': 1, 'H2BC17': 1, 'H2AC17': 1, 'PIM1': 1, 'HLA-DPB1': 1, 'HLA-DPA1': 1, 'ITPR3': 1, 'ATAT1': 1, 'H2AC4': 1, 'H3C2': 1, 'LY6G5B': 1, 'H2BC3': 1, 'H3C3': 1, 'L3MBTL3': 1, 'RIPK1': 1, 'H4C3': 1, 'PMPCB': 1, 'CPED1': 1, 'CCDC71L': 1, 'POLR2J3': 2, 'TYW1B': 1, 'C7orf61': 1, 'FZD6': 1, 'ZNF34': 1, 'C8orf33': 1, 'PRAG1': 1, 'DGAT1': 1, 'LYN': 1, 'CTHRC1': 1, 'SLC39A14': 1, 'C8orf76': 1, 'MTDH': 1, 'ZNF251': 1, 'PDLIM1': 1, 'ZNF511': 1, 'ZNF511-PRAP1': 1, 'ABI1': 1, 'FUOM': 1, 'PLAC9': 1, 'MTG1': 1, 'IFIT1': 1, 'SPRN': 1, 'SCART1': 1, 'CYP2E1': 1, 'TIMM23': 1, 'CYP17A1': 1, 'NCOA4': 1, 'PIK3AP1': 1, 'SNX15': 1, 'ARFGAP2': 1, 'PACSIN3': 1, 'RBM4B': 1, 'SPTY2D1': 1, 'DNAJC4': 1, 'ESRRA': 1, 'CDC42BPG': 1, 'FIBP': 2, 'CCDC85B': 2, 'MED19': 1, 'TMX2': 1, 'SELENOH': 1, 'CTNND1': 1, 'BTBD18': 1, 'CBL': 1, 'BIRC2': 1, 'MS4A7': 1, 'MS4A14': 1, 'AMHR2': 1, 'NDUFA4L2': 1, 'IL26': 1, 'PCK2': 1, 'NFKBIA': 1, 'ZNF219': 1, 'RNASE11': 1, 'AHSA1': 1, 'VIPAS39': 1, 'RNASE4': 1, 'ANG': 1, 'IRF2BPL': 1, 'RIPK3': 1, 'EDDM3B': 1, 'NFATC4': 1, 'FLVCR2': 1, 'KHNYN': 1, 'CBLN3': 1, 'SDR39U1': 1, 'ERG28': 1, 'IFI27L2': 1, 'SUSD6': 1, 'TTC9': 1, 'GOLGA8B': 1, 'KATNBL1': 2, 'BMF': 1, 'STARD5': 1, 'NECAB2': 1, 'CMTM2': 1, 'ZNF213': 1, 'CARMIL2': 1, 'VPS35': 1, 'ORC6': 1, 'AP1G1': 1, 'ATXN1L': 1, 'EEF2K': 1, 'MYLK3': 1, 'FCSK': 2, 'LCAT': 1, 'CTCF': 1, 'SOCS1': 1, 'COL1A1': 2, 'ETV4': 1, 'TMEM92': 1, 'MYO1D': 1, 'GRIN2C': 1, 'MMD': 2, 'GPR142': 1, 'ERN1': 1, 'GRB2': 1, 'TTLL6': 1, 'GLTPD2': 1, 'UBTF': 1, 'SCRN2': 1, 'ATP5MC1': 2, 'PHB': 1, 'PITPNC1': 1, 'PECAM1': 1, 'PPY': 1, 'YPEL2': 1, 'C19orf12': 1, 'WDR87': 1, 'SIPA1L3': 1, 'ICAM4': 1, 'MOB3A': 1, 'IZUMO4': 1, 'ARRDC2': 1, 'SLC25A42': 1, 'TYK2': 1, 'RNF126': 1, 'TMEM161A': 2, 'HSD17B14': 1, 'MZF1': 1, 'MAP4K1': 1, 'SIGLEC10': 1, 'EIF3K': 1, 'NDUFB7': 1, 'STAP2': 1, 'MPND': 1, 'POLR1G': 1, 'PPP1R13L': 1, 'ZNF490': 1, 'JUND': 1, 'LMTK3': 2, 'RPS19': 1, 'LSM4': 1, 'ARHGEF1': 1, 'ERCC1': 2, 'ZNF616': 1, 'RPL18A': 1, 'RABAC1': 1, 'IGFL4': 1, 'RBCK1': 1, 'APMAP': 1, 'BHLHE23': 1, 'LAMA5': 1, 'TBC1D20': 1, 'ARFRP1': 1, 'ZGPAT': 1, 'ADRM1': 1, 'ID1': 1, 'SLC2A4RG': 1}\n",
      "{'NUAK2': 1, 'TRIM46': 1, 'KRTCAP2': 1, 'HAO2': 1, 'ILF2': 1, 'NPR1': 1, 'NBPF15': 1, 'GADD45A': 1, 'HES3': 1, 'SLC30A1': 1, 'CR1': 1, 'RHD': 1, 'SELL': 1, 'SLAMF6': 1, 'KHDC4': 2, 'RXFP4': 1, 'XKR8': 1, 'TBCE': 1, 'GGPS1': 1, 'ARID4B': 1, 'GATAD2B': 1, 'IER5': 1, 'ARHGEF2': 1, 'TENT5C': 1, 'KMO': 1, 'ACBD3': 1, 'IQGAP3': 1, 'ITGA10': 1, 'ANKRD39': 1, 'TMBIM1': 2, 'PDCD1': 1, 'GREB1': 1, 'CATIP': 1, 'SLC11A1': 1, 'ANKRD36B': 1, 'COX5B': 1, 'FAM126B': 1, 'NDUFB3': 1, 'ACTR1B': 1, 'C2orf92': 1, 'CFLAR': 1, 'DUSP28': 1, 'PROC': 1, 'CAPN10': 1, 'RHOQ': 1, 'ATP6V1E2': 1, 'FAM107A': 1, 'LTF': 1, 'VEPH1': 1, 'PXK': 1, 'CCDC50': 1, 'UTS2B': 1, 'RUBCN': 1, 'ARHGAP31': 1, 'RAPGEF2': 1, 'LRAT': 1, 'TMEM128': 1, 'FGB': 1, 'KLHL3': 1, 'NIPBL': 1, 'TRIM52': 2, 'PFDN1': 1, 'TENT4A': 1, 'MTMR12': 1, 'CLINT1': 1, 'MARVELD2': 1, 'TTC33': 1, 'FCHSD1': 1, 'NME5': 1, 'GTF2H2C': 1, 'TRIM41': 1, 'NSUN2': 1, 'SRD5A1': 1, 'RACK1': 1, 'PPARD': 1, 'HLA-C': 1, 'ZSCAN9': 1, 'H4C4': 1, 'FOXP4': 1, 'TUBB2A': 1, 'TNFAIP3': 1, 'PHF3': 1, 'PSMG4': 1, 'TUBB2B': 1, 'ARHGAP18': 1, 'GTF2H4': 1, 'VARS2': 1, 'BRD2': 1, 'HLA-DMA': 1, 'H3C11': 1, 'H4C13': 1, 'MAP3K4': 1, 'TXNDC5': 1, 'LMBRD1': 1, 'COL19A1': 1, 'NUP153': 1, 'HLA-DPB1': 1, 'PERP': 1, 'RAET1G': 1, 'TRIM10': 1, 'TRIM15': 1, 'IL17A': 1, 'KIAA0408': 1, 'ZKSCAN8': 1, 'FAM3C': 1, 'KRIT1': 1, 'ANKIB1': 1, 'C7orf61': 1, 'BRAF': 1, 'TYW1B': 1, 'TSC22D4': 1, 'CCDC71L': 1, 'POM121': 1, 'LAMTOR4': 1, 'CNOT4': 1, 'ZNF775': 1, 'REPIN1': 1, 'NUP205': 1, 'USP42': 1, 'ZNF250': 1, 'CPSF1': 1, 'ZNF16': 1, 'INTS8': 1, 'TNFRSF10D': 1, 'NDUFAF6': 1, 'CCNE2': 1, 'TNFRSF10A': 1, 'SLCO5A1': 1, 'CHRAC1': 1, 'RAD54B': 1, 'HAS2': 1, 'POLR2K': 1, 'ZNF251': 1, 'ZNF7': 2, 'PPP1R3B': 1, 'PDLIM1': 1, 'ACTR1A': 1, 'SUFU': 1, 'GHITM': 1, 'PDCD4': 1, 'MYOF': 1, 'KIF11': 1, 'IDE': 1, 'DEPP1': 1, 'ZFYVE27': 1, 'MRPL17': 1, 'PHRF1': 1, 'TMEM123': 1, 'MAML2': 1, 'TM7SF2': 1, 'ARAP1': 1, 'STARD10': 1, 'ATG16L2': 1, 'CAPN1': 1, 'FERMT3': 1, 'TRPT1': 1, 'NUDT22': 1, 'TALDO1': 1, 'ESRRA': 1, 'TMEM179B': 1, 'ESAM': 1, 'CCDC85B': 1, 'KCNJ1': 1, 'KCNJ5': 1, 'CCDC153': 1, 'POU2F3': 1, 'RCOR2': 2, 'DPP3': 1, 'WNT11': 1, 'ILK': 1, 'RRP8': 1, 'ARL2': 1, 'ARL2-SNX15': 1, 'RERGL': 1, 'ATF7IP': 1, 'TMBIM6': 1, 'FMNL3': 1, 'ZFHX2': 1, 'THTPA': 1, 'POLE2': 1, 'KLHDC2': 1, 'CCDC88C': 1, 'SUSD6': 1, 'LRRK1': 1, 'TSC2': 1, 'NTHL1': 1, 'MAZ': 2, 'PRRT2': 1, 'NOB1': 1, 'SYT17': 1, 'CPNE2': 1, 'MSLNL': 1, 'RPUSD1': 1, 'CHTF18': 1, 'NFATC2IP': 1, 'POLR3E': 1, 'ZNF768': 1, 'ZNF747': 2, 'SMPD3': 1, 'RSPRY1': 1, 'PSME3IP1': 1, 'VKORC1': 1, 'SOCS1': 1, 'ICAM2': 1, 'CRYBA1': 1, 'MMD': 1, 'MRPL38': 1, 'CCR10': 1, 'CNTNAP1': 1, 'CCL18': 1, 'SOST': 1, 'HAP1': 1, 'SP2': 1, 'SEC14L1': 1, 'P2RX1': 1, 'GH1': 1, 'CSHL1': 1, 'DHX8': 1, 'SUPT5H': 1, 'RPS16': 1, 'PSMC4': 1, 'EID2B': 1, 'PIP5K1C': 1, 'BBC3': 1, 'DAND5': 1, 'LPAR2': 1, 'GMIP': 1, 'LGALS14': 1, 'SLC17A7': 1, 'ZNF865': 1, 'RPS11': 1, 'FCGRT': 1, 'APOE': 1, 'KISS1R': 1, 'ARID3A': 2, 'KLF2': 1, 'WDR18': 1, 'SPACA4': 1, 'SNAI1': 1}\n"
     ]
    }
   ],
   "source": [
    "for part in parts.keys():\n",
    "    mine_hit_genes, mine_genes_loop_nums = get_hit_gene_names(parts[part], gene_biotype='protein_coding')\n",
    "    print(mine_genes_loop_nums.keys())"
   ]
  },
  {
   "cell_type": "code",
   "execution_count": null,
   "id": "e8841b44",
   "metadata": {},
   "outputs": [],
   "source": []
  }
 ],
 "metadata": {
  "kernelspec": {
   "display_name": "hypernetx",
   "language": "python",
   "name": "hypernetx"
  },
  "language_info": {
   "codemirror_mode": {
    "name": "ipython",
    "version": 3
   },
   "file_extension": ".py",
   "mimetype": "text/x-python",
   "name": "python",
   "nbconvert_exporter": "python",
   "pygments_lexer": "ipython3",
   "version": "3.7.11"
  }
 },
 "nbformat": 4,
 "nbformat_minor": 5
}
