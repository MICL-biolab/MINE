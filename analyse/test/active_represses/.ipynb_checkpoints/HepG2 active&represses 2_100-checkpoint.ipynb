{
 "cells": [
  {
   "cell_type": "code",
   "execution_count": 1,
   "id": "75b99003",
   "metadata": {},
   "outputs": [],
   "source": [
    "import os\n",
    "import sys\n",
    "import numpy as np\n",
    "import matplotlib.pyplot as plt\n",
    "import seaborn as sns\n",
    "from matplotlib_venn import venn2"
   ]
  },
  {
   "cell_type": "code",
   "execution_count": 2,
   "id": "0b3b3d6b",
   "metadata": {},
   "outputs": [],
   "source": [
    "def get_significant(file_path):\n",
    "    significants = []\n",
    "    with open(file_path, \"r\") as f:\n",
    "        datas = f.readlines()\n",
    "        for data in datas[1:]:\n",
    "            data = data.split()\n",
    "            x, y = int(int(data[1])/1000), int(int(data[3])/1000)\n",
    "            p_value, q_value = float(data[5]), float(data[6])\n",
    "            concat = int(data[4])\n",
    "            significants.append((x, y, p_value, q_value, concat))\n",
    "    return significants\n",
    "\n",
    "def cal_significant(significants, proportion):\n",
    "    test = np.array(significants)\n",
    "    \n",
    "    def _filter(_values, max_nums, test):\n",
    "        values_sort_index = _values.argsort()\n",
    "        values_min_numbers_index = values_sort_index[max_nums-1]\n",
    "        p = max_nums\n",
    "        values_min_indexs = _values.argsort()[:p-1]\n",
    "        _test = test[values_min_indexs, :]\n",
    "        return _test\n",
    "\n",
    "    _p_values = test[:, 2]\n",
    "    _test = _filter(_p_values, int(_p_values.shape[0]*proportion), test)\n",
    "    _q_values = _test[:, 3]\n",
    "    _test = _filter(_q_values, int(_q_values.shape[0]*proportion), _test)\n",
    "    return _test\n",
    "\n",
    "def show_venn(active_sig_set, represses_sig_set):\n",
    "    venn2(subsets = [represses_sig_set, active_sig_set], set_labels = ('represses', 'active'), set_colors=((247/255, 129/255, 191/255), (51/255, 160/255, 44/255)))\n",
    "    plt.show()"
   ]
  },
  {
   "cell_type": "code",
   "execution_count": 3,
   "id": "ce6bdc41",
   "metadata": {},
   "outputs": [
    {
     "ename": "KeyboardInterrupt",
     "evalue": "",
     "output_type": "error",
     "traceback": [
      "\u001b[0;31m---------------------------------------------------------------------------\u001b[0m",
      "\u001b[0;31mKeyboardInterrupt\u001b[0m                         Traceback (most recent call last)",
      "\u001b[0;32m<ipython-input-3-ff160c28f904>\u001b[0m in \u001b[0;36m<module>\u001b[0;34m\u001b[0m\n\u001b[1;32m     10\u001b[0m     \u001b[0mactive_file_path\u001b[0m \u001b[0;34m=\u001b[0m \u001b[0mos\u001b[0m\u001b[0;34m.\u001b[0m\u001b[0mpath\u001b[0m\u001b[0;34m.\u001b[0m\u001b[0mjoin\u001b[0m\u001b[0;34m(\u001b[0m\u001b[0mactive_path\u001b[0m\u001b[0;34m,\u001b[0m \u001b[0;34m'chr{}_1000b'\u001b[0m\u001b[0;34m.\u001b[0m\u001b[0mformat\u001b[0m\u001b[0;34m(\u001b[0m\u001b[0mchr\u001b[0m\u001b[0;34m)\u001b[0m\u001b[0;34m,\u001b[0m \u001b[0;34m'outputs_2_100'\u001b[0m\u001b[0;34m,\u001b[0m \u001b[0;34m'FitHiC.spline_pass1.res1000.significances.txt'\u001b[0m\u001b[0;34m)\u001b[0m\u001b[0;34m\u001b[0m\u001b[0;34m\u001b[0m\u001b[0m\n\u001b[1;32m     11\u001b[0m     \u001b[0mrepresses_file_path\u001b[0m \u001b[0;34m=\u001b[0m \u001b[0mos\u001b[0m\u001b[0;34m.\u001b[0m\u001b[0mpath\u001b[0m\u001b[0;34m.\u001b[0m\u001b[0mjoin\u001b[0m\u001b[0;34m(\u001b[0m\u001b[0mrepresses_path\u001b[0m\u001b[0;34m,\u001b[0m \u001b[0;34m'chr{}_1000b'\u001b[0m\u001b[0;34m.\u001b[0m\u001b[0mformat\u001b[0m\u001b[0;34m(\u001b[0m\u001b[0mchr\u001b[0m\u001b[0;34m)\u001b[0m\u001b[0;34m,\u001b[0m \u001b[0;34m'outputs_2_100'\u001b[0m\u001b[0;34m,\u001b[0m \u001b[0;34m'FitHiC.spline_pass1.res1000.significances.txt'\u001b[0m\u001b[0;34m)\u001b[0m\u001b[0;34m\u001b[0m\u001b[0;34m\u001b[0m\u001b[0m\n\u001b[0;32m---> 12\u001b[0;31m     \u001b[0mactive_sig\u001b[0m \u001b[0;34m=\u001b[0m \u001b[0mcal_significant\u001b[0m\u001b[0;34m(\u001b[0m\u001b[0mget_significant\u001b[0m\u001b[0;34m(\u001b[0m\u001b[0mactive_file_path\u001b[0m\u001b[0;34m)\u001b[0m\u001b[0;34m,\u001b[0m \u001b[0mproportion\u001b[0m\u001b[0;34m)\u001b[0m\u001b[0;34m\u001b[0m\u001b[0;34m\u001b[0m\u001b[0m\n\u001b[0m\u001b[1;32m     13\u001b[0m     \u001b[0mrepresses_sig\u001b[0m \u001b[0;34m=\u001b[0m \u001b[0mcal_significant\u001b[0m\u001b[0;34m(\u001b[0m\u001b[0mget_significant\u001b[0m\u001b[0;34m(\u001b[0m\u001b[0mrepresses_file_path\u001b[0m\u001b[0;34m)\u001b[0m\u001b[0;34m,\u001b[0m \u001b[0mproportion\u001b[0m\u001b[0;34m)\u001b[0m\u001b[0;34m\u001b[0m\u001b[0;34m\u001b[0m\u001b[0m\n\u001b[1;32m     14\u001b[0m \u001b[0;34m\u001b[0m\u001b[0m\n",
      "\u001b[0;32m<ipython-input-2-55ef4de89e06>\u001b[0m in \u001b[0;36mget_significant\u001b[0;34m(file_path)\u001b[0m\n\u001b[1;32m      3\u001b[0m     \u001b[0;32mwith\u001b[0m \u001b[0mopen\u001b[0m\u001b[0;34m(\u001b[0m\u001b[0mfile_path\u001b[0m\u001b[0;34m,\u001b[0m \u001b[0;34m\"r\"\u001b[0m\u001b[0;34m)\u001b[0m \u001b[0;32mas\u001b[0m \u001b[0mf\u001b[0m\u001b[0;34m:\u001b[0m\u001b[0;34m\u001b[0m\u001b[0;34m\u001b[0m\u001b[0m\n\u001b[1;32m      4\u001b[0m         \u001b[0mdatas\u001b[0m \u001b[0;34m=\u001b[0m \u001b[0mf\u001b[0m\u001b[0;34m.\u001b[0m\u001b[0mreadlines\u001b[0m\u001b[0;34m(\u001b[0m\u001b[0;34m)\u001b[0m\u001b[0;34m\u001b[0m\u001b[0;34m\u001b[0m\u001b[0m\n\u001b[0;32m----> 5\u001b[0;31m         \u001b[0;32mfor\u001b[0m \u001b[0mdata\u001b[0m \u001b[0;32min\u001b[0m \u001b[0mdatas\u001b[0m\u001b[0;34m[\u001b[0m\u001b[0;36m1\u001b[0m\u001b[0;34m:\u001b[0m\u001b[0;34m]\u001b[0m\u001b[0;34m:\u001b[0m\u001b[0;34m\u001b[0m\u001b[0;34m\u001b[0m\u001b[0m\n\u001b[0m\u001b[1;32m      6\u001b[0m             \u001b[0mdata\u001b[0m \u001b[0;34m=\u001b[0m \u001b[0mdata\u001b[0m\u001b[0;34m.\u001b[0m\u001b[0msplit\u001b[0m\u001b[0;34m(\u001b[0m\u001b[0;34m)\u001b[0m\u001b[0;34m\u001b[0m\u001b[0;34m\u001b[0m\u001b[0m\n\u001b[1;32m      7\u001b[0m             \u001b[0mx\u001b[0m\u001b[0;34m,\u001b[0m \u001b[0my\u001b[0m \u001b[0;34m=\u001b[0m \u001b[0mint\u001b[0m\u001b[0;34m(\u001b[0m\u001b[0mint\u001b[0m\u001b[0;34m(\u001b[0m\u001b[0mdata\u001b[0m\u001b[0;34m[\u001b[0m\u001b[0;36m1\u001b[0m\u001b[0;34m]\u001b[0m\u001b[0;34m)\u001b[0m\u001b[0;34m/\u001b[0m\u001b[0;36m1000\u001b[0m\u001b[0;34m)\u001b[0m\u001b[0;34m,\u001b[0m \u001b[0mint\u001b[0m\u001b[0;34m(\u001b[0m\u001b[0mint\u001b[0m\u001b[0;34m(\u001b[0m\u001b[0mdata\u001b[0m\u001b[0;34m[\u001b[0m\u001b[0;36m3\u001b[0m\u001b[0;34m]\u001b[0m\u001b[0;34m)\u001b[0m\u001b[0;34m/\u001b[0m\u001b[0;36m1000\u001b[0m\u001b[0;34m)\u001b[0m\u001b[0;34m\u001b[0m\u001b[0;34m\u001b[0m\u001b[0m\n",
      "\u001b[0;31mKeyboardInterrupt\u001b[0m: "
     ]
    }
   ],
   "source": [
    "active_path = '/data1/lmh_data/MINE/GM12878_ATAC_H3K27ac_H3K4me3/analyse/HepG2_ATAC_H3K27ac_H3K4me3/experiment/loop/enhanced'\n",
    "represses_path = '/data1/lmh_data/MINE/GM12878_H3K9me3_H3K27me3/analyse/HepG2_H3K9me3_H3K27me3/experiment/loop/enhanced'\n",
    "proportion = 0.015\n",
    "\n",
    "# 未去交集的全部sig\n",
    "active_sigs, represses_sigs = set(), set()\n",
    "for chr in range(1, 23):\n",
    "    active_file_path = os.path.join(active_path, 'chr{}_1000b'.format(chr), 'outputs_2_100', 'FitHiC.spline_pass1.res1000.significances.txt')\n",
    "    represses_file_path = os.path.join(represses_path, 'chr{}_1000b'.format(chr), 'outputs_2_100', 'FitHiC.spline_pass1.res1000.significances.txt')\n",
    "    active_sig = cal_significant(get_significant(active_file_path), proportion)\n",
    "    represses_sig = cal_significant(get_significant(represses_file_path), proportion)\n",
    "    \n",
    "    _active_sig = set(list(map(tuple, np.array(active_sig)[:, :2])))\n",
    "    _represses_sig = set(list(map(tuple, np.array(represses_sig)[:, :2])))\n",
    "    show_venn(_active_sig, _represses_sig)\n",
    "    \n",
    "    for sig in _active_sig:\n",
    "        _sig = list(sig)\n",
    "        _sig.append('chr{}'.format(chr))\n",
    "        active_sigs.add(tuple(_sig))\n",
    "    for sig in _represses_sig:\n",
    "        _sig = list(sig)\n",
    "        _sig.append('chr{}'.format(chr))\n",
    "        represses_sigs.add(tuple(_sig))"
   ]
  },
  {
   "cell_type": "code",
   "execution_count": null,
   "id": "544c6694",
   "metadata": {
    "scrolled": false
   },
   "outputs": [],
   "source": [
    "show_venn(active_sigs, represses_sigs)\n",
    "\n",
    "_active_sigs = active_sigs.copy()\n",
    "_represses_sigs = set()\n",
    "for _represses_sig in represses_sigs:\n",
    "    flag = False\n",
    "    for _active_sig in _active_sigs:\n",
    "        if abs(_represses_sig[0]-_active_sig[0])<3 and abs(_represses_sig[1]-_active_sig[1])<3:\n",
    "            _represses_sigs.add(_active_sig)\n",
    "            flag = True\n",
    "    _represses_sigs.add(_represses_sig)\n",
    "    if flag:\n",
    "        _active_sigs.add(_represses_sig)\n",
    "\n",
    "show_venn(_active_sigs, _represses_sigs)"
   ]
  }
 ],
 "metadata": {
  "kernelspec": {
   "display_name": "MMSR",
   "language": "python",
   "name": "mmsr"
  },
  "language_info": {
   "codemirror_mode": {
    "name": "ipython",
    "version": 3
   },
   "file_extension": ".py",
   "mimetype": "text/x-python",
   "name": "python",
   "nbconvert_exporter": "python",
   "pygments_lexer": "ipython3",
   "version": "3.6.13"
  }
 },
 "nbformat": 4,
 "nbformat_minor": 5
}
