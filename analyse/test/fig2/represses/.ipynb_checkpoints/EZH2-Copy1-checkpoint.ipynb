{
 "cells": [
  {
   "cell_type": "code",
   "execution_count": 1,
   "id": "bd1e015e",
   "metadata": {},
   "outputs": [],
   "source": [
    "import os\n",
    "import sys\n",
    "import numpy as np\n",
    "import matplotlib.pyplot as plt\n",
    "import seaborn as sns\n",
    "from matplotlib_venn import venn2"
   ]
  },
  {
   "cell_type": "code",
   "execution_count": 2,
   "id": "4bc52ae7",
   "metadata": {},
   "outputs": [
    {
     "ename": "FileNotFoundError",
     "evalue": "[Errno 2] No such file or directory: 'temp/GM12878_ATAC_H3K27ac_H3K4me3_2_100_all_enhanced_sig.npy'",
     "output_type": "error",
     "traceback": [
      "\u001b[0;31m---------------------------------------------------------------------------\u001b[0m",
      "\u001b[0;31mFileNotFoundError\u001b[0m                         Traceback (most recent call last)",
      "\u001b[0;32m<ipython-input-2-507b11c4f6e9>\u001b[0m in \u001b[0;36m<module>\u001b[0;34m\u001b[0m\n\u001b[0;32m----> 1\u001b[0;31m \u001b[0mall_enhanced_sig\u001b[0m \u001b[0;34m=\u001b[0m \u001b[0mnp\u001b[0m\u001b[0;34m.\u001b[0m\u001b[0mload\u001b[0m\u001b[0;34m(\u001b[0m\u001b[0;34m'temp/GM12878_ATAC_H3K27ac_H3K4me3_2_100_all_enhanced_sig.npy'\u001b[0m\u001b[0;34m,\u001b[0m \u001b[0mallow_pickle\u001b[0m\u001b[0;34m=\u001b[0m\u001b[0;32mTrue\u001b[0m\u001b[0;34m)\u001b[0m\u001b[0;34m.\u001b[0m\u001b[0mitem\u001b[0m\u001b[0;34m(\u001b[0m\u001b[0;34m)\u001b[0m\u001b[0;34m\u001b[0m\u001b[0;34m\u001b[0m\u001b[0m\n\u001b[0m\u001b[1;32m      2\u001b[0m \u001b[0mall_hr_sig\u001b[0m \u001b[0;34m=\u001b[0m \u001b[0mnp\u001b[0m\u001b[0;34m.\u001b[0m\u001b[0mload\u001b[0m\u001b[0;34m(\u001b[0m\u001b[0;34m'temp/GM12878_ATAC_H3K27ac_H3K4me3_2_100_all_hr_sig.npy'\u001b[0m\u001b[0;34m,\u001b[0m \u001b[0mallow_pickle\u001b[0m\u001b[0;34m=\u001b[0m\u001b[0;32mTrue\u001b[0m\u001b[0;34m)\u001b[0m\u001b[0;34m.\u001b[0m\u001b[0mitem\u001b[0m\u001b[0;34m(\u001b[0m\u001b[0;34m)\u001b[0m\u001b[0;34m\u001b[0m\u001b[0;34m\u001b[0m\u001b[0m\n\u001b[1;32m      3\u001b[0m \u001b[0mauxiliary_files_path\u001b[0m \u001b[0;34m=\u001b[0m \u001b[0;34m'/data1/lmh_data/MINE/source/GM12878'\u001b[0m\u001b[0;34m\u001b[0m\u001b[0;34m\u001b[0m\u001b[0m\n",
      "\u001b[0;32m~/anaconda3/envs/MMSR/lib/python3.6/site-packages/numpy/lib/npyio.py\u001b[0m in \u001b[0;36mload\u001b[0;34m(file, mmap_mode, allow_pickle, fix_imports, encoding)\u001b[0m\n\u001b[1;32m    414\u001b[0m             \u001b[0mown_fid\u001b[0m \u001b[0;34m=\u001b[0m \u001b[0;32mFalse\u001b[0m\u001b[0;34m\u001b[0m\u001b[0;34m\u001b[0m\u001b[0m\n\u001b[1;32m    415\u001b[0m         \u001b[0;32melse\u001b[0m\u001b[0;34m:\u001b[0m\u001b[0;34m\u001b[0m\u001b[0;34m\u001b[0m\u001b[0m\n\u001b[0;32m--> 416\u001b[0;31m             \u001b[0mfid\u001b[0m \u001b[0;34m=\u001b[0m \u001b[0mstack\u001b[0m\u001b[0;34m.\u001b[0m\u001b[0menter_context\u001b[0m\u001b[0;34m(\u001b[0m\u001b[0mopen\u001b[0m\u001b[0;34m(\u001b[0m\u001b[0mos_fspath\u001b[0m\u001b[0;34m(\u001b[0m\u001b[0mfile\u001b[0m\u001b[0;34m)\u001b[0m\u001b[0;34m,\u001b[0m \u001b[0;34m\"rb\"\u001b[0m\u001b[0;34m)\u001b[0m\u001b[0;34m)\u001b[0m\u001b[0;34m\u001b[0m\u001b[0;34m\u001b[0m\u001b[0m\n\u001b[0m\u001b[1;32m    417\u001b[0m             \u001b[0mown_fid\u001b[0m \u001b[0;34m=\u001b[0m \u001b[0;32mTrue\u001b[0m\u001b[0;34m\u001b[0m\u001b[0;34m\u001b[0m\u001b[0m\n\u001b[1;32m    418\u001b[0m \u001b[0;34m\u001b[0m\u001b[0m\n",
      "\u001b[0;31mFileNotFoundError\u001b[0m: [Errno 2] No such file or directory: 'temp/GM12878_ATAC_H3K27ac_H3K4me3_2_100_all_enhanced_sig.npy'"
     ]
    }
   ],
   "source": [
    "all_enhanced_sig = np.load('../temp/GM12878_ATAC_H3K27ac_H3K4me3_2_100_all_enhanced_sig.npy', allow_pickle=True).item()\n",
    "all_hr_sig = np.load('../temp/GM12878_ATAC_H3K27ac_H3K4me3_2_100_all_hr_sig.npy', allow_pickle=True).item()\n",
    "auxiliary_files_path = '/data1/lmh_data/MINE/source/GM12878'"
   ]
  },
  {
   "cell_type": "code",
   "execution_count": null,
   "id": "8b8b013b",
   "metadata": {},
   "outputs": [],
   "source": [
    "attentions = 50\n",
    "center = attentions - 1\n",
    "\n",
    "def read_chiqseq_file(path):\n",
    "    _peaks = dict()\n",
    "    with open(path)as f:\n",
    "        for line in f:\n",
    "            datas = line.strip().split()\n",
    "            left, right = int(int(datas[1])/1000), int(int(datas[2])/1000)\n",
    "            peaks = list(range(left, right+1))\n",
    "            if datas[0] not in _peaks.keys():\n",
    "                _peaks[datas[0]] = set()\n",
    "            for i in peaks:\n",
    "                _peaks[datas[0]].add(i)\n",
    "    return _peaks\n",
    "\n",
    "def get_hit_indicators(significants, peaks):\n",
    "    distance = np.zeros(attentions*2-1)\n",
    "    \n",
    "    for sig in significants:\n",
    "        x, y = int(sig[0]), int(sig[1])\n",
    "        for i in range(attentions):\n",
    "            if (x+i) in peaks or (y+i) in peaks:\n",
    "                distance[center-i] += 1\n",
    "            if i != 0 and((x-i) in peaks or (y-i) in peaks):\n",
    "                distance[center+i] += 1\n",
    "            if (x+i) in peaks or (x-i) in peaks or (y+i) in peaks or (y-i) in peaks:\n",
    "                break\n",
    "    return distance\n",
    "\n",
    "def show(x, mine_result, hr_result):\n",
    "    sns.set_style(\"whitegrid\") \n",
    "    fig, axes = plt.subplots(nrows=1, ncols=1, figsize=(5, 5), sharey=True)\n",
    "    axes.grid(False)\n",
    "    axes.plot(x, mine_result, color=(51/255, 160/255, 44/255), label='mine')\n",
    "    axes.plot(x, hr_result, color=(177/255, 89/255, 40/255), label='hr')\n",
    "\n",
    "    plt.xlabel('distance')\n",
    "    plt.ylabel('nums')\n",
    "    plt.legend()\n",
    "    plt.show()\n",
    "\n",
    "def figure(chip_seq_path):\n",
    "    all_enhanced_result = np.zeros(attentions*2-1)\n",
    "    all_hr_result = np.zeros(attentions*2-1)\n",
    "\n",
    "    for chr in range(1, 23):\n",
    "        _peaks = read_chiqseq_file(chip_seq_path)\n",
    "        enhanced_result = get_hit_indicators(all_enhanced_sig[chr], _peaks['chr{}'.format(chr)])\n",
    "        hr_result = get_hit_indicators(all_hr_sig[chr], _peaks['chr{}'.format(chr)])\n",
    "\n",
    "        all_enhanced_result += enhanced_result\n",
    "        all_hr_result += hr_result\n",
    "\n",
    "    show(list(range(-attentions+1, attentions)), all_enhanced_result, all_hr_result)"
   ]
  },
  {
   "cell_type": "code",
   "execution_count": null,
   "id": "3eb6e444",
   "metadata": {},
   "outputs": [],
   "source": [
    "chip_seq_path = os.path.join(auxiliary_files_path, 'H3K27me3_peaks.bed')\n",
    "figure(chip_seq_path)"
   ]
  },
  {
   "cell_type": "code",
   "execution_count": null,
   "id": "4bcf918e",
   "metadata": {},
   "outputs": [],
   "source": [
    "chip_seq_path = os.path.join(auxiliary_files_path, 'EZH2_peaks.bed')\n",
    "figure(chip_seq_path)"
   ]
  }
 ],
 "metadata": {
  "kernelspec": {
   "display_name": "MMSR",
   "language": "python",
   "name": "mmsr"
  },
  "language_info": {
   "codemirror_mode": {
    "name": "ipython",
    "version": 3
   },
   "file_extension": ".py",
   "mimetype": "text/x-python",
   "name": "python",
   "nbconvert_exporter": "python",
   "pygments_lexer": "ipython3",
   "version": "3.6.13"
  }
 },
 "nbformat": 4,
 "nbformat_minor": 5
}
