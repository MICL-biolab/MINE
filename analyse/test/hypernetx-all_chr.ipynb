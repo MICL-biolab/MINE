{
 "cells": [
  {
   "cell_type": "code",
   "execution_count": 4,
   "id": "efcdbe1c",
   "metadata": {},
   "outputs": [],
   "source": [
    "import os\n",
    "import numpy as np\n",
    "import matplotlib.pyplot as plt\n",
    "import hypernetx as hnx"
   ]
  },
  {
   "cell_type": "code",
   "execution_count": 5,
   "id": "12168c11",
   "metadata": {},
   "outputs": [],
   "source": [
    "attentions = 50\n",
    "center = attentions - 1\n",
    "\n",
    "def read_chiqseq_file(path):\n",
    "    _peaks = dict()\n",
    "    with open(path)as f:\n",
    "        for line in f:\n",
    "            datas = line.strip().split()\n",
    "            left, right = int(int(datas[1])/1000), int(int(datas[2])/1000)\n",
    "            peaks = list(range(left, right+1))\n",
    "            if datas[0] not in _peaks.keys():\n",
    "                _peaks[datas[0]] = set()\n",
    "            for i in peaks:\n",
    "                _peaks[datas[0]].add(i)\n",
    "    return _peaks\n",
    "\n",
    "def get_hit_indicators(significants, peaks):\n",
    "    distance = np.zeros(attentions*2-1)\n",
    "    \n",
    "    remove_sigs = set()\n",
    "    for sig in significants:\n",
    "        x, y = int(sig[0]), int(sig[1])\n",
    "        if x not in peaks and y not in peaks:\n",
    "            remove_sigs.add(sig)\n",
    "    significants = significants - remove_sigs\n",
    "    return distance, significants\n",
    "\n",
    "def clear(chip_seq_path, all_enhanced_sig):\n",
    "    enhanced_sigs = dict()\n",
    "    for chr in range(1, 23):\n",
    "        _peaks = read_chiqseq_file(chip_seq_path)\n",
    "        distance, significants = get_hit_indicators(all_enhanced_sig[chr], _peaks['chr{}'.format(chr)])\n",
    "        enhanced_sigs[chr] = significants\n",
    "    return enhanced_sigs"
   ]
  },
  {
   "cell_type": "code",
   "execution_count": 6,
   "id": "c3c9038b",
   "metadata": {},
   "outputs": [
    {
     "name": "stdout",
     "output_type": "stream",
     "text": [
      "7699\n"
     ]
    }
   ],
   "source": [
    "# hr_sigs = np.load('../fig2/temp/GM12878_ATAC_H3K27ac_H3K4me3_2_100_all_hr_sig.npy', allow_pickle=True).item()\n",
    "enhanced_sigs = np.load('../fig2/tss/temp/GM12878_ATAC_H3K27ac_H3K4me3_2_100_all_enhanced_sig.npy', allow_pickle=True).item()\n",
    "\n",
    "auxiliary_files_path = '/data1/lmh_data/MINE/source/GM12878'\n",
    "chip_seq_path = os.path.join(auxiliary_files_path, 'CTCF_peaks.bed')\n",
    "enhanced_sigs = clear(chip_seq_path, enhanced_sigs)\n",
    "\n",
    "enhanced_sig_number, enhanced_sig_numbers = 1, dict()\n",
    "\n",
    "scenes = dict()\n",
    "i = 0\n",
    "for chr in range(1, 23):\n",
    "    for enhanced_sig in enhanced_sigs[chr]:\n",
    "        sig1, sig2 = int(enhanced_sig[0]), int(enhanced_sig[1])\n",
    "        k1, k2 = '{}_{}'.format(chr, sig1), '{}_{}'.format(chr, sig2)\n",
    "        if k1 in enhanced_sig_numbers.keys():\n",
    "            sig1 = enhanced_sig_numbers[k1]\n",
    "        else:\n",
    "            enhanced_sig_numbers[k1] = enhanced_sig_number\n",
    "            sig1 = enhanced_sig_number\n",
    "            enhanced_sig_number += 1\n",
    "        if k2 in enhanced_sig_numbers.keys():\n",
    "            sig2 = enhanced_sig_numbers[k2]\n",
    "        else:\n",
    "            enhanced_sig_numbers[k2] = enhanced_sig_number\n",
    "            sig2 = enhanced_sig_number\n",
    "            enhanced_sig_number += 1\n",
    "\n",
    "        scenes['p_{}'.format(i)] = set()\n",
    "        scenes['p_{}'.format(i)].add(sig1)\n",
    "        scenes['p_{}'.format(i)].add(sig2)\n",
    "        i += 1\n",
    "        \n",
    "print(len(scenes))\n"
   ]
  },
  {
   "cell_type": "code",
   "execution_count": 7,
   "id": "f6133b21",
   "metadata": {},
   "outputs": [],
   "source": [
    "f = open('hypernetx.hgr', 'w')\n",
    "f.write('{} {}\\n'.format(len(scenes.keys()), enhanced_sig_number-1))\n",
    "for key in scenes.keys():\n",
    "    f.write(' '.join(str(s) for s in scenes[key]) + '\\n')\n",
    "f.close()"
   ]
  },
  {
   "cell_type": "code",
   "execution_count": null,
   "id": "4d4bba7a",
   "metadata": {},
   "outputs": [],
   "source": []
  },
  {
   "cell_type": "code",
   "execution_count": 8,
   "id": "5bd9890f",
   "metadata": {},
   "outputs": [],
   "source": [
    "opposite_enhanced_sig_numbers = dict()\n",
    "for key in enhanced_sig_numbers.keys():\n",
    "    opposite_enhanced_sig_numbers[enhanced_sig_numbers[key]] = key"
   ]
  },
  {
   "cell_type": "code",
   "execution_count": 13,
   "id": "5756e9a8",
   "metadata": {},
   "outputs": [],
   "source": [
    "f = open('hypernetx.hgr.part.6', 'r')\n",
    "datas = f.readlines()\n",
    "f.close()\n",
    "\n",
    "parts = dict()\n",
    "for i in range(len(datas)):\n",
    "    part = int(datas[i])\n",
    "    if part not in parts.keys():\n",
    "        parts[part] = dict()\n",
    "    infos = opposite_enhanced_sig_numbers[i+1].split('_')\n",
    "    chr, bin = int(infos[0]), int(infos[1])\n",
    "    if chr not in parts[part].keys():\n",
    "        parts[part][chr] = set()\n",
    "    parts[part][chr].add(bin)"
   ]
  },
  {
   "cell_type": "code",
   "execution_count": 18,
   "id": "37d60cd7",
   "metadata": {},
   "outputs": [],
   "source": [
    "tss_file_path = os.path.join(auxiliary_files_path, 'Homo_sapiens.GRCh38.104.chr.gff3')\n",
    "\n",
    "def get_tss_gene_info(gene_biotype='protein_coding'):\n",
    "    gene_location = dict()\n",
    "    gene_info = dict()\n",
    "    with open(tss_file_path, \"r\") as f:\n",
    "        datas = f.readlines()\n",
    "        for data in datas[9:]:\n",
    "            data = data.split('\\t')\n",
    "            if len(data) < 9:\n",
    "                continue\n",
    "            if data[2] != 'gene' or data[8].find(gene_biotype) == -1:\n",
    "                continue\n",
    "            if data[6] == '+':\n",
    "                _location = data[3]\n",
    "            elif data[6] == '-':\n",
    "                _location = data[4]\n",
    "            else:\n",
    "                print('error')\n",
    "            if not data[0].isdigit():\n",
    "                continue\n",
    "            chromosome = int(data[0])\n",
    "            if chromosome not in gene_location:\n",
    "                gene_location[chromosome] = set()\n",
    "            gene_location[chromosome].add(int(int(_location)/1000))\n",
    "            \n",
    "            _tmp = data[-1].split('Name=')\n",
    "            if len(_tmp) < 2:\n",
    "                continue\n",
    "            gene_names = _tmp[1].split(';')[0]\n",
    "            gene_ids = data[-1].split('ID=')[1].split(',')[0].split(';')[0]\n",
    "            \n",
    "            if chromosome not in gene_info:\n",
    "                gene_info[chromosome] = set()\n",
    "            gene_info[chromosome].add((int(int(_location)/1000), gene_names, gene_ids, data[-1].replace('\\n', '')))\n",
    "    return gene_location, gene_info\n",
    "\n",
    "def get_hit_genes(significants, gene_info, genes_loop_nums):\n",
    "    genes = set()\n",
    "    for sig in significants:\n",
    "        for _info in gene_info:\n",
    "            if abs(sig-_info[0])<3:\n",
    "                if _info[1] not in genes_loop_nums:\n",
    "                    genes_loop_nums[_info[1]] = 1\n",
    "                else:\n",
    "                    genes_loop_nums[_info[1]] += 1\n",
    "                genes.add((_info[1], _info[2], _info[3]))\n",
    "    return genes, genes_loop_nums\n",
    "\n",
    "def get_hit_gene_names(significants, gene_biotype='protein_coding'):\n",
    "    gene_info = get_tss_gene_info(gene_biotype)[1]\n",
    "    all_genes = set()\n",
    "    genes_loop_nums = dict()\n",
    "    for chr in range(1, 23):\n",
    "        if chr not in significants.keys():\n",
    "            continue\n",
    "        genes, genes_loop_nums = get_hit_genes(significants[chr], gene_info[chr], genes_loop_nums)\n",
    "        all_genes = all_genes | genes\n",
    "    return all_genes, genes_loop_nums"
   ]
  },
  {
   "cell_type": "code",
   "execution_count": 20,
   "id": "83d2c8bc",
   "metadata": {},
   "outputs": [
    {
     "name": "stdout",
     "output_type": "stream",
     "text": [
      "dict_keys(['CHIT1', 'NASP', 'RO60', 'SMIM12', 'FCRL6', 'PPM1J', 'HAO2', 'CDC73', 'SH3BGRL3', 'OMA1', 'DAB1', 'INSRR', 'CTSE', 'CRYBG2', 'GPR3', 'AVPR1B', 'GFI1', 'WNT2B', 'THEM4', 'CNR2', 'THRAP3', 'MMACHC', 'CCDC163', 'AHDC1', 'PERM1', 'SEMA4A', 'SLC20A1', 'ACKR3', 'FBXO41', 'BUB1', 'WIPF1', 'INPP4A', 'HDLBP', 'SEPTIN2', 'FARP2', 'ACTR3', 'PLEK', 'CD8A', 'AUP1', 'HTRA2', 'ADRA2B', 'ASTL', 'CFLAR', 'SLC1A4', 'ARL8B', 'FNDC3B', 'RUBCN', 'GOLIM4', 'PARP15', 'IL12A', 'RPL35A', 'IQCG', 'LMLN', 'GBE1', 'IRAK2', 'ALPK1', 'TIFA', 'TMEM175', 'GAK', 'IDUA', 'DGKQ', 'ART3', 'CXCL9', 'CXCL10', 'ATP10D', 'TRIM52', 'MGAT1', 'CSNK1G3', 'ZFP62', 'CCNI2', 'STING1', 'MARVELD2', 'FYB1', 'LIX1', 'OCLN', 'RMND5B', 'TRIM41', 'NHP2', 'VWA7', 'H2BC5', 'H1-4', 'VARS1', 'HSPA1B', 'PNISR', 'ZSCAN26', 'CCDC167', 'CAPN11', 'H3C10', 'H2AC13', 'HLA-DMB', 'ZSCAN31', 'BRD2', 'HLA-DMA', 'NFKBIE', 'TPMT', 'KDM1B', 'HLA-DOA', 'HLA-E', 'HLA-DPB1', 'HLA-DPA1', 'ATP6V1G2-DDX39B', 'NFKBIL1', 'ATP6V1G2', 'AIF1', 'PRRC2A', 'NT5DC1', 'ARMC12', 'SNRPC', 'GPSM3', 'LY6G5C', 'H1-2', 'HFE', 'DDAH2', 'NYAP1', 'AGFG2', 'GAL3ST4', 'PRKRIP1', 'PVRIG', 'SYPL1', 'GSR', 'UTP23', 'EIF3H', 'GINS4', 'PLEC', 'GRINA', 'SPATC1', 'PARP10', 'ZFPM2', 'EGR3', 'OPLAH', 'GSDMD', 'EXOSC4', 'GPAA1', 'CNGB3', 'CYC1', 'RBIS', 'CA13', 'MAF1', 'WDR97', 'PYCR3', 'RAD54B', 'MROH1', 'MTDH', 'IQANK1', 'THEM6', 'PPP1R3B', 'GTF2E2', 'LONRF1', 'IDO1', 'NRBP2', 'DNAJC5B', 'ADCK5', 'TRAF2', 'P4HA1', 'DUSP5', 'ARID5B', 'PIK3AP1', 'ARHGEF12', 'SLC22A8', 'NUDT8', 'MAML2', 'PTS', 'TMEM41B', 'MMP7', 'IPO7', 'KAT5', 'FERMT3', 'RDX', 'UBE2L6', 'RAD9A', 'SPA17', 'ZBTB44', 'STIM1', 'BAD', 'KCNK4', 'TMEM179B', 'NRGN', 'TMEM223', 'ESAM', 'STX5', 'TEX54', 'WDR74', 'CSTF3', 'NUMA1', 'LRTOMT', 'DDB1', 'LAMTOR1', 'SART1', 'ANAPC15', 'CHRM1', 'TMEM216', 'HIPK3', 'MFSD5', 'SH2B3', 'ATP23', 'CLIP1', 'GNPTAB', 'CALCOCO1', 'TMEM253', 'ANKRD9', 'ZNF219', 'MDP1', 'SIPA1L1', 'TINF2', 'ARF6', 'NOP9', 'DHRS1', 'SAMD4A', 'GLRX5', 'SIVA1', 'DAAM1', 'TRAF3', 'MCTP2', 'SNX22', 'IDH3A', 'CIB2', 'UBE3A', 'SNX1', 'IGDCC3', 'ESRP2', 'GDPD3', 'GAS8', 'DBNDD1', 'IGHV3OR16-17', 'ZNF213', 'CARMIL2', 'NFAT5', 'TAF1C', 'SPATA2L', 'MMP25', 'PDZD9', 'GNA13', 'DNAJC7', 'ADORA2B', 'BTBD17', 'DHX58', 'FAM222B', 'ERAL1', 'SLC16A6', 'EFCAB13', 'TVP23B', 'CDC6', 'HOXB4', 'DHX8', 'TSPOAP1', 'UBALD2', 'ZNF575', 'ETHE1', 'TMEM190', 'INSR', 'STK11', 'STRN4', 'FKRP', 'SLC39A3', 'TTC9B', 'FCGRT', 'IQCN', 'SPINT2', 'LSM4', 'PGPEP1', 'YIF1B', 'KCNK6', 'CATSPERG', 'CXCL17', 'ERFL', 'CDS2', 'PCNA', 'MAVS', 'SRXN1', 'TGM2', 'SYS1', 'SYS1-DBNDD2', 'PIGT', 'GPCPD1'])\n",
      "dict_keys(['RBM8A', 'ID3', 'FAM102B', 'SDHC', 'LIX1L', 'POLR3GL', 'ANKRD34A', 'PIK3R3', 'RGS1', 'CFAP126', 'NUDT17', 'SF3A3', 'HAX1', 'GNL2', 'CEP350', 'HIPK1', 'ELF3', 'STMN1', 'CD160', 'GGPS1', 'NOTCH2NLR', 'NBPF26', 'EYA3', 'FCRLB', 'FCER1G', 'APOA2', 'TOMM40L', 'ANKRD35', 'E2F2', 'ITGA10', 'PEX11B', 'PREB', 'KRCC1', 'SMYD1', 'CIAO1', 'TMEM127', 'SPATA3', 'WIPF1', 'NMUR1', 'IKZF2', 'ANKRD44', 'PDCD1', 'FAM240C', 'NEURL3', 'INO80D', 'ANKRD36', 'MAPRE3', 'DUSP2', 'STARD7', 'ABHD1', 'PASK', 'PPP1R7', 'WDR82', 'GLYCTK', 'C3orf33', 'SLC33A1', 'SKIL', 'IMPDH2', 'C3orf18', 'CISH', 'MAPKAPK3', 'CDV3', 'ZIC4', 'TM4SF4', 'LRAT', 'HERC5', 'TMA16', 'FNIP2', 'PLRG1', 'CYP4V2', 'HGFAC', 'FGG', 'RACK1', 'KLHL3', 'SCAMP1', 'ST8SIA4', 'MYOZ3', 'TBC1D9B', 'APBB3', 'SLC35A4', 'CETN3', 'SSBP2', 'CD14', 'MBLAC2', 'NEUROG1', 'ARHGAP26', 'TRIM41', 'TBC1D7', 'FLOT1', 'H1-4', 'MAP3K5', 'PNISR', 'H2BC13', 'H2AC13', 'H2BC14', 'H2AC14', 'USP45', 'TSTD3', 'HSP90AB1', 'SLC35B2', 'H3C11', 'H4C13', 'TCP10L2', 'H3C12', 'H2BC17', 'H2AC17', 'H1-6', 'SERPINB1', 'CDKN1A', 'ECHDC1', 'H2BC3', 'H3C3', 'DHX16', 'H4C3', 'NUP205', 'VPS37D', 'AHCYL2', 'UPP1', 'FAM126A', 'KAT6A', 'MSC', 'FAM167A', 'IKBKB', 'SARAF', 'THEM6', 'PPP3CC', 'EBAG9', 'TFAM', 'ZEB1', 'NPFFR1', 'ARHGAP21', 'USP54', 'KIF11', 'IDE', 'ARID5B', 'SRGN', 'ADM', 'ARFGAP2', 'PPP2R1B', 'PAK1', 'EPS8L2', 'TMEM80', 'FAM111A', 'GATD1', 'HINFP', 'SIK3', 'CCDC153', 'HIPK3', 'PRPF19', 'ZNF10', 'ZNF891', 'ZNF268', 'RNF212B', 'CLBA1', 'ARG2', 'PCNX4', 'CEBPE', 'SUSD6', 'OXA1L', 'TERB2', 'DISP2', 'SEMA4B', 'VPS18', 'PLA2G4E', 'SLC30A4', 'CHD2', 'CD19', 'SH2B1', 'TUFM', 'CTF1', 'ZNF768', 'FBXL19', 'KIF22', 'SEPHS2', 'C17orf67', 'QRICH2', 'DNAJC7', 'SPECC1', 'ADORA2B', 'PRPSAP1', 'ZNF385C', 'KAT2A', 'HSPB9', 'SOST', 'RFFL', 'KSR1', 'SENP3', 'SENP3-EIF4A1', 'GCGR', 'C17orf97', 'METTL2A', 'IGFBP4', 'CCDC124', 'KCNN1', 'GPR42', 'DACT3', 'TJP3', 'BBC3', 'C5AR1', 'HSD17B14', 'OLFM2', 'MAP4K1', 'EIF3K', 'PSG9', 'ITPKC', 'COQ8B', 'RDH8', 'PNMA8C', 'FCGRT', 'SLC5A5', 'GARRE1', 'SEMA6B', 'GSS', 'MYH7B', 'FITM2', 'ACSS2', 'GGT7', 'SNAI1', 'DDX27', 'BCL2L1'])\n",
      "dict_keys(['LRRC8C', 'NPR1', 'TAFA3', 'SCNM1', 'TNFAIP8L2', 'SLC27A3', 'ABCB10', 'BATF3', 'PSRC1', 'TAF5L', 'URB2', 'DIPK1A', 'FCGR3B', 'KMO', 'MYCL', 'GNAI3', 'EGLN1', 'BCL2L11', 'NMUR1', 'RPIA', 'EIF2AK3', 'IKZF2', 'FOXN2', 'HNRNPLL', 'DPYSL5', 'CYS1', 'RRM2', 'GPR155', 'CASP10', 'SLC39A10', 'GNAT1', 'GNAI2', 'GPX1', 'DNAJC19', 'VEGFC', 'TLR1', 'TLR6', 'DAPP1', 'DNAJB14', 'PAICS', 'PPAT', 'TMEM131L', 'SCAMP1', 'LSM11', 'HBEGF', 'STK10', 'LMAN2', 'RGS14', 'CCDC125', 'SLC34A1', 'CNOT8', 'PFN3', 'GRK6', 'F12', 'PRR7', 'TTC33', 'DBN1', 'CARD6', 'F2R', 'RMND5B', 'NDST1', 'AP3B1', 'C5orf52', 'SOX30', 'TNFAIP8', 'HSF2', 'SCAF8', 'TNFAIP3', 'H3C8', 'H2BC10', 'MICA', 'SLC26A8', 'MAPK14', 'BRD2', 'HLA-DMA', 'NFKBIE', 'SFTA2', 'TMEM151B', 'MICB', 'SLC17A3', 'SPATS1', 'TCP11', 'GNL1', 'PRR3', 'GRM4', 'CD2AP', 'SCUBE3', 'RANBP9', 'PSORS1C2', 'SLC2A12', 'H4C2', 'NHSL1', 'NT5E', 'ZKSCAN8', 'MPC1', 'H4C3', 'ADAP1', 'LRWD1', 'ALKBH4', 'FOXK1', 'POLR2J', 'TRIM4', 'SEPTIN7', 'METTL2B', 'TSC22D4', 'ZNF250', 'ZNF16', 'MAFA', 'MTFR1', 'CHRAC1', 'TP53INP1', 'MAF1', 'TTI2', 'WDR97', 'SHARPIN', 'RNF122', 'PSCA', 'FZD3', 'GPIHBP1', 'DOK2', 'XPO7', 'SCRIB', 'SSNA1', 'ANAPC2', 'RNF208', 'TSPAN14', 'ARHGAP21', 'SH2D4B', 'NOC3L', 'SGPL1', 'TBC1D12', 'IFIT2', 'MAP3K8', 'PCBD1', 'TRIM8', 'TACR2', 'CREM', 'GSTO2', 'ITPRIP', 'CFAP58', 'DDX6', 'ZC3H12C', 'PACS1', 'CD6', 'CDCA5', 'ZFPL1', 'RAB38', 'SPTBN2', 'C11orf80', 'AP5B1', 'SPA17', 'CDC42EP2', 'EIF3F', 'CLP1', 'YPEL4', 'C11orf97', 'NRGN', 'SIK3', 'ARL2', 'ARL2-SNX15', 'CLEC6A', 'FMNL3', 'PXN', 'PRKAG1', 'NUDT14', 'KHNYN', 'CBLN3', 'DLGAP5', 'FBXO34', 'LRRK1', 'RSL24D1', 'SLC12A3', 'RAB26', 'MAZ', 'CETP', 'CDIPT', 'SLC7A6', 'ANTKMT', 'ABCA3', 'SLC7A5', 'PSMB10', 'ADAT1', 'MT1X', 'ZFPM1', 'MSRB1', 'PDZD9', 'MOSMO', 'PSMC3IP', 'SLC43A2', 'MYO1D', 'CCR7', 'PLEKHH3', 'EFCAB13', 'SCRN2', 'RNF227', 'PITPNC1', 'SLC16A11', 'STAT3', 'CAVIN1', 'IKZF3', 'SOCS7', 'NME1-NME2', 'NME1', 'METTL2A', 'TRAPPC5', 'GPR42', 'SLC27A5', 'RNF126', 'NFIX', 'FAM174C', 'TULP2', 'EFNA2', 'BAX', 'PWWP3A', 'IQCN', 'NDUFS7', 'PNMA8A', 'POP4', 'CATSPERG', 'TMEM160', 'SPAG4', 'MANBAL', 'BCL2L1'])\n",
      "dict_keys(['FAM102B', 'PEX19', 'PIGV', 'RASSF5', 'LRRC42', 'HSPB11', 'CDK11A', 'PIK3C2B', 'BSND', 'PRKAB2', 'FCN3', 'CD164L2', 'GPR3', 'RNPEP', 'BTBD19', 'DYNLT4', 'CHD1L', 'FMO5', 'GATAD2B', 'GNB1', 'EYA3', 'S100A10', 'BCL2L11', 'MAT2A', 'ATF2', 'D2HGDH', 'ATP5MC3', 'NT5DC4', 'BUB1', 'GPBAR1', 'SPR', 'SOS1', 'NEURL3', 'SDC1', 'LBX2', 'GFPT1', 'PTMA', 'MERTK', 'CTDSP1', 'AUP1', 'HTRA2', 'NFU1', 'CFLAR', 'IHH', 'PASK', 'PPP1R7', 'PRLH', 'TLR9', 'GNAT1', 'LSMEM2', 'CHST2', 'CCR5', 'C3orf20', 'ABCF3', 'DZIP1L', 'IRAK2', 'EEF1AKMT4', 'EEF1AKMT4-ECE2', 'ALG3', 'RAPGEF2', 'CXCL11', 'GYPB', 'AFF1', 'HNRNPD', 'HNRNPDL', 'ENOPH1', 'IL7R', 'ARL15', 'PCDHGA11', 'PCDHGA12', 'CSNK1G3', 'HCN1', 'PDGFRB', 'MXD3', 'LNPEP', 'DNAJC18', 'ECSCR', 'STING1', 'DUSP1', 'SRA1', 'ERGIC1', 'LMNB1', 'TMCO6', 'RUFY1', 'WNT8A', 'H2AC6', 'H2BC4', 'IL17F', 'LSM2', 'QKI', 'DST', 'BEND6', 'TNFAIP3', 'MICA', 'ZDHHC14', 'HLA-DRB5', 'HLA-E', 'H1-6', 'HLA-DRB1', 'SERPINB9', 'CD2AP', 'PRR18', 'NQO2', 'H2AC4', 'H3C2', 'PPP1R18', 'MPC1', 'MSH5-SAPCD1', 'CLIC1', 'MSH5', 'TUBB', 'MDC1', 'CREB3L2', 'AKR1D1', 'STEAP1', 'SNX10', 'STEAP2', 'SPDYE16', 'SEPTIN7', 'ZNF250', 'GINS4', 'PLEC', 'HNF4G', 'FAM167A', 'PYCR3', 'GFUS', 'RAD54B', 'ZNF707', 'MAPK15', 'MTDH', 'FAM83H', 'ZHX1', 'ZHX1-C8orf76', 'HEY1', 'BRF2', 'PLEKHA2', 'TFAM', 'CALHM3', 'NEURL1', 'ZNF511', 'ZNF511-PRAP1', 'ABI1', 'TRIM8', 'UPF2', 'ANKRD22', 'DHTKD1', 'SEC61A2', 'CUTC', 'ATP5MK', 'PDCD11', 'CD82', 'CCS', 'CCDC87', 'PLAAT4', 'TBX10', 'ARAP1', 'STARD10', 'RBM4B', 'KLHL35', 'UBE2L6', 'OVOL1', 'GDPD5', 'UBASH3B', 'DTX4', 'HPX', 'RNF141', 'TAF6L', 'TBC1D10C', 'MARK2', 'EHD1', 'RNH1', 'DNAJC22', 'IGFBP6', 'GRK1', 'PIGH', 'AHNAK2', 'CDH24', 'VTI1B', 'PTGR2', 'SIPA1L1', 'TINF2', 'ADCY4', 'CCDC88C', 'SAMD4A', 'ACOT1', 'LRP10', 'KHNYN', 'CBLN3', 'TGM5', 'PATL2', 'B2M', 'MAPKBP1', 'SEMA4B', 'EPB42', 'ULK3', 'KARS1', 'TERF2IP', 'CD19', 'CPNE2', 'PLA2G15', 'NFATC2IP', 'TMEM231', 'ABCA3', 'CHD9', 'ATP2A1', 'NTAN1', 'TAF1C', 'WDR59', 'ZNRF1', 'CCNF', 'PDXDC1', 'ICAM2', 'RNF43', 'DCXR', 'GRB2', 'NOS2', 'FASN', 'TOB1', 'SSH2', 'EFCAB5', 'LYRM9', 'RFFL', 'RUNDC3A', 'SLC16A13', 'CAVIN1', 'SUPT4H1', 'OGFOD3', 'HEXD', 'ACE', 'FCER2', 'NANOS3', 'LRFN3', 'DPP9', 'INSR', 'SLC27A5', 'DAND5', 'FEM1A', 'GMIP', 'MZF1', 'CBLC', 'NDUFB7', 'CDKN2D', 'CFD', 'AP1M2', 'R3HDM4', 'KISS1R', 'CD79A', 'ILF3', 'POP4', 'KCNK6', 'YIF1B', 'ERFL', 'C19orf53', 'PLA2G4C', 'ACSBG2', 'NCOA3', 'BHLHE23', 'RBM38', 'ABHD12'])\n"
     ]
    },
    {
     "name": "stdout",
     "output_type": "stream",
     "text": [
      "dict_keys(['ZFP69B', 'MATN1', 'GABPB2', 'CDC42SE1', 'VPS45', 'PMF1', 'PMF1-BGLAP', 'RGS1', 'ILF2', 'NPR1', 'FMOD', 'SCNM1', 'TNFAIP8L2', 'RSBN1', 'SHISA4', 'SLC27A3', 'PIK3C2B', 'DCLRE1B', 'AP4B1', 'IFI44L', 'KHDC4', 'RXFP4', 'TBCE', 'GGPS1', 'ARID4B', 'GFI1', 'TLR5', 'UCK2', 'TMCO1', 'ACKR3', 'SLC23A3', 'SEPTIN10', 'SOWAHC', 'SPATA3', 'ERMN', 'ASDURF', 'ASNSD1', 'ATOH8', 'MAL', 'P2RY14', 'XIRP1', 'NSUN3', 'DHFR2', 'CX3CR1', 'SCAP', 'CYP8B1', 'CPA3', 'HEMK1', 'RFT1', 'MB21D2', 'LTF', 'RTP3', 'CISH', 'MAPKAPK3', 'CLASP2', 'CDV3', 'GATA2', 'TLR1', 'TLR6', 'TMEM131L', 'NIPBL', 'PAIP1', 'NNT', 'PCDHGB7', 'PCDHGA11', 'FOXI1', 'ZFP62', 'RICTOR', 'REEP2', 'EGR1', 'PPARGC1B', 'PARP8', 'HLA-C', 'PRSS35', 'NUDT3', 'HLA-G', 'PAQR8', 'EFHC1', 'C6orf62', 'AKIRIN2', 'TXNDC5', 'H3C12', 'H2BC17', 'H2AC17', 'PIM1', 'HLA-DPB1', 'HLA-DPA1', 'ITPR3', 'ATAT1', 'H2AC4', 'H3C2', 'LY6G5B', 'H2BC3', 'H3C3', 'L3MBTL3', 'RIPK1', 'H4C3', 'PMPCB', 'CPED1', 'CCDC71L', 'POLR2J3', 'TYW1B', 'C7orf61', 'FZD6', 'ZNF34', 'C8orf33', 'PRAG1', 'DGAT1', 'LYN', 'CTHRC1', 'SLC39A14', 'C8orf76', 'MTDH', 'ZNF251', 'PDLIM1', 'ZNF511', 'ZNF511-PRAP1', 'ABI1', 'FUOM', 'PLAC9', 'MTG1', 'IFIT1', 'SPRN', 'SCART1', 'CYP2E1', 'TIMM23', 'CYP17A1', 'NCOA4', 'PIK3AP1', 'SNX15', 'ARFGAP2', 'PACSIN3', 'RBM4B', 'SPTY2D1', 'DNAJC4', 'ESRRA', 'CDC42BPG', 'FIBP', 'CCDC85B', 'MED19', 'TMX2', 'SELENOH', 'CTNND1', 'BTBD18', 'CBL', 'BIRC2', 'MS4A7', 'MS4A14', 'AMHR2', 'NDUFA4L2', 'IL26', 'PCK2', 'NFKBIA', 'ZNF219', 'RNASE11', 'AHSA1', 'VIPAS39', 'RNASE4', 'ANG', 'IRF2BPL', 'RIPK3', 'EDDM3B', 'NFATC4', 'FLVCR2', 'KHNYN', 'CBLN3', 'SDR39U1', 'ERG28', 'IFI27L2', 'SUSD6', 'TTC9', 'GOLGA8B', 'KATNBL1', 'BMF', 'STARD5', 'NECAB2', 'CMTM2', 'ZNF213', 'CARMIL2', 'VPS35', 'ORC6', 'AP1G1', 'ATXN1L', 'EEF2K', 'MYLK3', 'FCSK', 'LCAT', 'CTCF', 'SOCS1', 'COL1A1', 'ETV4', 'TMEM92', 'MYO1D', 'GRIN2C', 'MMD', 'GPR142', 'ERN1', 'GRB2', 'TTLL6', 'GLTPD2', 'UBTF', 'SCRN2', 'ATP5MC1', 'PHB', 'PITPNC1', 'PECAM1', 'PPY', 'YPEL2', 'C19orf12', 'WDR87', 'SIPA1L3', 'ICAM4', 'MOB3A', 'IZUMO4', 'ARRDC2', 'SLC25A42', 'TYK2', 'RNF126', 'TMEM161A', 'HSD17B14', 'MZF1', 'MAP4K1', 'SIGLEC10', 'EIF3K', 'NDUFB7', 'STAP2', 'MPND', 'POLR1G', 'PPP1R13L', 'ZNF490', 'JUND', 'LMTK3', 'RPS19', 'LSM4', 'ARHGEF1', 'ERCC1', 'ZNF616', 'RPL18A', 'RABAC1', 'IGFL4', 'RBCK1', 'APMAP', 'BHLHE23', 'LAMA5', 'TBC1D20', 'ARFRP1', 'ZGPAT', 'ADRM1', 'ID1', 'SLC2A4RG'])\n",
      "dict_keys(['NUAK2', 'TRIM46', 'KRTCAP2', 'HAO2', 'ILF2', 'NPR1', 'NBPF15', 'GADD45A', 'HES3', 'SLC30A1', 'CR1', 'RHD', 'SELL', 'SLAMF6', 'KHDC4', 'RXFP4', 'XKR8', 'TBCE', 'GGPS1', 'ARID4B', 'GATAD2B', 'IER5', 'ARHGEF2', 'TENT5C', 'KMO', 'ACBD3', 'IQGAP3', 'ITGA10', 'ANKRD39', 'TMBIM1', 'PDCD1', 'GREB1', 'CATIP', 'SLC11A1', 'ANKRD36B', 'COX5B', 'FAM126B', 'NDUFB3', 'ACTR1B', 'C2orf92', 'CFLAR', 'DUSP28', 'PROC', 'CAPN10', 'RHOQ', 'ATP6V1E2', 'FAM107A', 'LTF', 'VEPH1', 'PXK', 'CCDC50', 'UTS2B', 'RUBCN', 'ARHGAP31', 'RAPGEF2', 'LRAT', 'TMEM128', 'FGB', 'KLHL3', 'NIPBL', 'TRIM52', 'PFDN1', 'TENT4A', 'MTMR12', 'CLINT1', 'MARVELD2', 'TTC33', 'FCHSD1', 'NME5', 'GTF2H2C', 'TRIM41', 'NSUN2', 'SRD5A1', 'RACK1', 'PPARD', 'HLA-C', 'ZSCAN9', 'H4C4', 'FOXP4', 'TUBB2A', 'TNFAIP3', 'PHF3', 'PSMG4', 'TUBB2B', 'ARHGAP18', 'GTF2H4', 'VARS2', 'BRD2', 'HLA-DMA', 'H3C11', 'H4C13', 'MAP3K4', 'TXNDC5', 'LMBRD1', 'COL19A1', 'NUP153', 'HLA-DPB1', 'PERP', 'RAET1G', 'TRIM10', 'TRIM15', 'IL17A', 'KIAA0408', 'ZKSCAN8', 'FAM3C', 'KRIT1', 'ANKIB1', 'C7orf61', 'BRAF', 'TYW1B', 'TSC22D4', 'CCDC71L', 'POM121', 'LAMTOR4', 'CNOT4', 'ZNF775', 'REPIN1', 'NUP205', 'USP42', 'ZNF250', 'CPSF1', 'ZNF16', 'INTS8', 'TNFRSF10D', 'NDUFAF6', 'CCNE2', 'TNFRSF10A', 'SLCO5A1', 'CHRAC1', 'RAD54B', 'HAS2', 'POLR2K', 'ZNF251', 'ZNF7', 'PPP1R3B', 'PDLIM1', 'ACTR1A', 'SUFU', 'GHITM', 'PDCD4', 'MYOF', 'KIF11', 'IDE', 'DEPP1', 'ZFYVE27', 'MRPL17', 'PHRF1', 'TMEM123', 'MAML2', 'TM7SF2', 'ARAP1', 'STARD10', 'ATG16L2', 'CAPN1', 'FERMT3', 'TRPT1', 'NUDT22', 'TALDO1', 'ESRRA', 'TMEM179B', 'ESAM', 'CCDC85B', 'KCNJ1', 'KCNJ5', 'CCDC153', 'POU2F3', 'RCOR2', 'DPP3', 'WNT11', 'ILK', 'RRP8', 'ARL2', 'ARL2-SNX15', 'RERGL', 'ATF7IP', 'TMBIM6', 'FMNL3', 'ZFHX2', 'THTPA', 'POLE2', 'KLHDC2', 'CCDC88C', 'SUSD6', 'LRRK1', 'TSC2', 'NTHL1', 'MAZ', 'PRRT2', 'NOB1', 'SYT17', 'CPNE2', 'MSLNL', 'RPUSD1', 'CHTF18', 'NFATC2IP', 'POLR3E', 'ZNF768', 'ZNF747', 'SMPD3', 'RSPRY1', 'PSME3IP1', 'VKORC1', 'SOCS1', 'ICAM2', 'CRYBA1', 'MMD', 'MRPL38', 'CCR10', 'CNTNAP1', 'CCL18', 'SOST', 'HAP1', 'SP2', 'SEC14L1', 'P2RX1', 'GH1', 'CSHL1', 'DHX8', 'SUPT5H', 'RPS16', 'PSMC4', 'EID2B', 'PIP5K1C', 'BBC3', 'DAND5', 'LPAR2', 'GMIP', 'LGALS14', 'SLC17A7', 'ZNF865', 'RPS11', 'FCGRT', 'APOE', 'KISS1R', 'ARID3A', 'KLF2', 'WDR18', 'SPACA4', 'SNAI1'])\n"
     ]
    }
   ],
   "source": [
    "for part in parts.keys():\n",
    "    mine_hit_genes, mine_genes_loop_nums = get_hit_gene_names(parts[part], gene_biotype='protein_coding')\n",
    "    print(mine_genes_loop_nums.keys())"
   ]
  },
  {
   "cell_type": "code",
   "execution_count": null,
   "id": "774078d2",
   "metadata": {},
   "outputs": [],
   "source": []
  }
 ],
 "metadata": {
  "kernelspec": {
   "display_name": "hypernetx",
   "language": "python",
   "name": "hypernetx"
  },
  "language_info": {
   "codemirror_mode": {
    "name": "ipython",
    "version": 3
   },
   "file_extension": ".py",
   "mimetype": "text/x-python",
   "name": "python",
   "nbconvert_exporter": "python",
   "pygments_lexer": "ipython3",
   "version": "3.7.11"
  }
 },
 "nbformat": 4,
 "nbformat_minor": 5
}
