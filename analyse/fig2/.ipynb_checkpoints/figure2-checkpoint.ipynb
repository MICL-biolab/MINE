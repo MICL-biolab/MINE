{
 "cells": [
  {
   "cell_type": "code",
   "execution_count": 1,
   "id": "49abd9b9",
   "metadata": {},
   "outputs": [],
   "source": [
    "import os\n",
    "import copy\n",
    "import numpy as np\n",
    "import matplotlib.pyplot as plt\n",
    "import seaborn as sns"
   ]
  },
  {
   "cell_type": "code",
   "execution_count": 2,
   "id": "86b09997",
   "metadata": {},
   "outputs": [],
   "source": [
    "all_hr_sig = np.load('temp/GM12878_ATAC_H3K27ac_H3K4me3_2_100_all_hr_sig.npy', allow_pickle=True).item()\n",
    "\n",
    "GM12878_ATAC_H3K27ac_H3K4me3_2_100_all_enhanced_sig = np.load('temp/GM12878_ATAC_H3K27ac_H3K4me3_2_100_all_enhanced_sig.npy', allow_pickle=True).item()\n",
    "GM12878_ATAC_H3K27ac_2_100_all_enhanced_sig = np.load('temp/GM12878_ATAC_H3K27ac_2_100_all_enhanced_sig.npy', allow_pickle=True).item()\n",
    "GM12878_ATAC_H3K4me3_2_100_all_enhanced_sig = np.load('temp/GM12878_ATAC_H3K4me3_2_100_all_enhanced_sig.npy', allow_pickle=True).item()\n",
    "\n",
    "GM12878_ATAC_H3K27ac_H3K4me3_2_300_all_enhanced_sig = np.load('temp/GM12878_ATAC_H3K27ac_H3K4me3_2_300_all_enhanced_sig.npy', allow_pickle=True).item()\n",
    "GM12878_ATAC_H3K27ac_2_300_all_enhanced_sig = np.load('temp/GM12878_ATAC_H3K27ac_2_300_all_enhanced_sig.npy', allow_pickle=True).item()\n",
    "GM12878_ATAC_H3K4me3_2_300_all_enhanced_sig = np.load('temp/GM12878_ATAC_H3K4me3_2_300_all_enhanced_sig.npy', allow_pickle=True).item()\n",
    "\n",
    "colors = [\n",
    "    (51/255, 160/255, 44/255),  # 绿\n",
    "    (166/255, 206/255, 227/255),\n",
    "    (102/255, 102/255, 102/255),\n",
    "    (177/255, 89/255, 40/255)  # 红\n",
    "]\n"
   ]
  },
  {
   "cell_type": "code",
   "execution_count": 3,
   "id": "ca980738",
   "metadata": {},
   "outputs": [],
   "source": [
    "attentions = 50\n",
    "center = attentions - 1\n",
    "\n",
    "def read_chiqseq_file(path):\n",
    "    _peaks = dict()\n",
    "    with open(path)as f:\n",
    "        for line in f:\n",
    "            datas = line.strip().split()\n",
    "            left, right = int(int(datas[1])/1000), int(int(datas[2])/1000)\n",
    "            peaks = list(range(left, right+1))\n",
    "            if datas[0] not in _peaks.keys():\n",
    "                _peaks[datas[0]] = set()\n",
    "            for i in peaks:\n",
    "                _peaks[datas[0]].add(i)\n",
    "    return _peaks\n",
    "\n",
    "def get_hit_indicators(significants, peaks):\n",
    "    distance = np.zeros(attentions*2-1)\n",
    "    \n",
    "    for sig in significants:\n",
    "        x, y = int(sig[0]), int(sig[1])\n",
    "        for i in range(attentions):\n",
    "            if (x+i) in peaks or (y+i) in peaks:\n",
    "                distance[center-i] += 1\n",
    "            if i != 0 and((x-i) in peaks or (y-i) in peaks):\n",
    "                distance[center+i] += 1\n",
    "            if (x+i) in peaks or (x-i) in peaks or (y+i) in peaks or (y-i) in peaks:\n",
    "                break\n",
    "    return distance\n",
    "\n",
    "def show(x, mine_results: dict, hr_result, colors_map, title):\n",
    "    sns.set_style(\"whitegrid\") \n",
    "    fig, axes = plt.subplots(nrows=1, ncols=1, figsize=(5, 5), sharey=True)\n",
    "    axes.grid(False)\n",
    "    for key in mine_results.keys():\n",
    "        axes.plot(x, mine_results[key], color=colors_map[key], label=key)\n",
    "    axes.plot(x, hr_result, color=colors[3], label='hr')\n",
    "\n",
    "    plt.xlabel('distance')\n",
    "    plt.ylabel('nums')\n",
    "    plt.legend(loc='lower right')\n",
    "    plt.title(title)\n",
    "    plt.show()\n",
    "\n",
    "def figure(chip_seq_path, colors_map, title):\n",
    "    all_enhanced_results = copy.deepcopy(colors_map)\n",
    "    for key in all_enhanced_results.keys():\n",
    "        all_enhanced_results[key] = np.zeros(attentions*2-1)\n",
    "    all_hr_result = np.zeros(attentions*2-1)\n",
    "\n",
    "    _peaks = read_chiqseq_file(chip_seq_path)\n",
    "    for chr in range(1, 23):\n",
    "        if 'chr{}'.format(chr) not in _peaks.keys():\n",
    "            continue\n",
    "        hr_result = get_hit_indicators(all_hr_sig[chr], _peaks['chr{}'.format(chr)])\n",
    "        for key in all_enhanced_results.keys():\n",
    "            enhanced_result = get_hit_indicators(all_enhanced_sig[key][chr], _peaks['chr{}'.format(chr)])\n",
    "            all_enhanced_results[key] += enhanced_result\n",
    "        all_hr_result += hr_result\n",
    "\n",
    "    show(list(range(-attentions+1, attentions)), all_enhanced_results, all_hr_result, colors_map, title)"
   ]
  },
  {
   "cell_type": "code",
   "execution_count": 4,
   "id": "8cbdc68a",
   "metadata": {},
   "outputs": [],
   "source": [
    "all_enhanced_sig = dict(\n",
    "    H3K27ac_H3K4me3=GM12878_ATAC_H3K27ac_H3K4me3_2_100_all_enhanced_sig,\n",
    "    H3K27ac=GM12878_ATAC_H3K27ac_2_100_all_enhanced_sig,\n",
    "    H3K4me3=GM12878_ATAC_H3K4me3_2_100_all_enhanced_sig\n",
    ")\n",
    "auxiliary_files_path = '/data1/lmh_data/MINE/source/GM12878'"
   ]
  },
  {
   "cell_type": "code",
   "execution_count": 5,
   "id": "c41a4d7f",
   "metadata": {},
   "outputs": [],
   "source": [
    "colors_map = dict(\n",
    "    H3K27ac_H3K4me3=colors[0],\n",
    "    H3K27ac=colors[1],\n",
    "    H3K4me3=colors[2]\n",
    ")"
   ]
  },
  {
   "cell_type": "code",
   "execution_count": 6,
   "id": "70354be8",
   "metadata": {
    "scrolled": true
   },
   "outputs": [
    {
     "ename": "NameError",
     "evalue": "name 'auxiliary_files_path' is not defined",
     "output_type": "error",
     "traceback": [
      "\u001b[0;31m---------------------------------------------------------------------------\u001b[0m",
      "\u001b[0;31mNameError\u001b[0m                                 Traceback (most recent call last)",
      "\u001b[0;32m<ipython-input-6-be37276e907a>\u001b[0m in \u001b[0;36m<module>\u001b[0;34m\u001b[0m\n\u001b[0;32m----> 1\u001b[0;31m \u001b[0mchip_seq_path\u001b[0m \u001b[0;34m=\u001b[0m \u001b[0mos\u001b[0m\u001b[0;34m.\u001b[0m\u001b[0mpath\u001b[0m\u001b[0;34m.\u001b[0m\u001b[0mjoin\u001b[0m\u001b[0;34m(\u001b[0m\u001b[0mauxiliary_files_path\u001b[0m\u001b[0;34m,\u001b[0m \u001b[0;34m'CTCF_peaks.bed'\u001b[0m\u001b[0;34m)\u001b[0m\u001b[0;34m\u001b[0m\u001b[0;34m\u001b[0m\u001b[0m\n\u001b[0m\u001b[1;32m      2\u001b[0m \u001b[0mfigure\u001b[0m\u001b[0;34m(\u001b[0m\u001b[0mchip_seq_path\u001b[0m\u001b[0;34m,\u001b[0m \u001b[0mcolors_map\u001b[0m\u001b[0;34m,\u001b[0m \u001b[0;34m'CTCF overlap in 100KB'\u001b[0m\u001b[0;34m)\u001b[0m\u001b[0;34m\u001b[0m\u001b[0;34m\u001b[0m\u001b[0m\n",
      "\u001b[0;31mNameError\u001b[0m: name 'auxiliary_files_path' is not defined"
     ]
    }
   ],
   "source": [
    "chip_seq_path = os.path.join(auxiliary_files_path, 'CTCF_peaks.bed')\n",
    "figure(chip_seq_path, colors_map, 'CTCF overlap in 100KB')"
   ]
  },
  {
   "cell_type": "code",
   "execution_count": null,
   "id": "c46e5635",
   "metadata": {},
   "outputs": [],
   "source": [
    "chip_seq_path = os.path.join(auxiliary_files_path, 'RAD21_peaks.bed')\n",
    "figure(chip_seq_path, colors_map, 'RAD21 overlap in 100KB')"
   ]
  },
  {
   "cell_type": "code",
   "execution_count": null,
   "id": "620920d0",
   "metadata": {},
   "outputs": [],
   "source": [
    "chip_seq_path = os.path.join(auxiliary_files_path, 'SMC3_peaks.bed')\n",
    "figure(chip_seq_path, colors_map, 'SMC3 overlap in 100KB')"
   ]
  },
  {
   "cell_type": "code",
   "execution_count": null,
   "id": "1d02b4c5",
   "metadata": {
    "scrolled": true
   },
   "outputs": [],
   "source": [
    "chip_seq_path = os.path.join(auxiliary_files_path, 'POLR2A_peaks.bed')\n",
    "figure(chip_seq_path, colors_map, 'POLR2A overlap in 100KB')"
   ]
  },
  {
   "cell_type": "code",
   "execution_count": null,
   "id": "4365c7d5",
   "metadata": {},
   "outputs": [],
   "source": []
  },
  {
   "cell_type": "code",
   "execution_count": null,
   "id": "bd136312",
   "metadata": {},
   "outputs": [],
   "source": [
    "all_enhanced_sig = dict(\n",
    "    H3K27ac_H3K4me3=GM12878_ATAC_H3K27ac_H3K4me3_2_300_all_enhanced_sig,\n",
    "    H3K27ac=GM12878_ATAC_H3K27ac_2_300_all_enhanced_sig,\n",
    "    H3K4me3=GM12878_ATAC_H3K4me3_2_300_all_enhanced_sig\n",
    ")"
   ]
  },
  {
   "cell_type": "code",
   "execution_count": null,
   "id": "955112a1",
   "metadata": {},
   "outputs": [],
   "source": [
    "chip_seq_path = os.path.join(auxiliary_files_path, 'CTCF_peaks.bed')\n",
    "figure(chip_seq_path, colors_map, 'CTCF overlap in 300KB')"
   ]
  },
  {
   "cell_type": "code",
   "execution_count": null,
   "id": "8988e6ca",
   "metadata": {},
   "outputs": [],
   "source": [
    "chip_seq_path = os.path.join(auxiliary_files_path, 'RAD21_peaks.bed')\n",
    "figure(chip_seq_path, colors_map, 'RAD21 overlap in 300KB')"
   ]
  },
  {
   "cell_type": "code",
   "execution_count": null,
   "id": "097807d3",
   "metadata": {},
   "outputs": [],
   "source": [
    "chip_seq_path = os.path.join(auxiliary_files_path, 'SMC3_peaks.bed')\n",
    "figure(chip_seq_path, colors_map, 'SMC3 overlap in 300KB')"
   ]
  },
  {
   "cell_type": "code",
   "execution_count": null,
   "id": "5f9661f6",
   "metadata": {},
   "outputs": [],
   "source": [
    "chip_seq_path = os.path.join(auxiliary_files_path, 'POLR2A_peaks.bed')\n",
    "figure(chip_seq_path, colors_map, 'POLR2A overlap in 300KB')"
   ]
  },
  {
   "cell_type": "code",
   "execution_count": null,
   "id": "f8ef52f5",
   "metadata": {},
   "outputs": [],
   "source": []
  },
  {
   "cell_type": "code",
   "execution_count": null,
   "id": "b24b69d2",
   "metadata": {},
   "outputs": [],
   "source": [
    "GM12878_H3K9me3_H3K27me3_2_100_all_enhanced_sig = np.load('represses/temp/GM12878_H3K9me3_H3K27me3_2_100_all_enhanced_sig.npy', allow_pickle=True).item()\n",
    "all_enhanced_sig = dict(\n",
    "    H3K27ac_H3K4me3=GM12878_ATAC_H3K27ac_H3K4me3_2_100_all_enhanced_sig,\n",
    "    H3K9me3_H3K27me3=GM12878_H3K9me3_H3K27me3_2_100_all_enhanced_sig\n",
    ")\n",
    "\n",
    "colors_map = dict(\n",
    "    H3K27ac_H3K4me3=colors[0],\n",
    "    H3K9me3_H3K27me3=colors[1]\n",
    ")"
   ]
  },
  {
   "cell_type": "code",
   "execution_count": null,
   "id": "caab617d",
   "metadata": {},
   "outputs": [],
   "source": [
    "chip_seq_path = os.path.join(auxiliary_files_path, 'POLR2A_peaks.bed')\n",
    "figure(chip_seq_path, colors_map, 'POLR2A overlap in 100KB')"
   ]
  },
  {
   "cell_type": "code",
   "execution_count": null,
   "id": "7c65bb7c",
   "metadata": {},
   "outputs": [],
   "source": [
    "colors_map = dict(\n",
    "    H3K27ac_H3K4me3=colors[0],\n",
    "    H3K9me3_H3K27me3=colors[1]\n",
    ")"
   ]
  },
  {
   "cell_type": "code",
   "execution_count": null,
   "id": "29c81f08",
   "metadata": {},
   "outputs": [],
   "source": [
    "chip_seq_path = os.path.join(auxiliary_files_path, 'EZH2_peaks.bed')\n",
    "figure(chip_seq_path, colors_map, 'EZH2 overlap in 100KB')"
   ]
  }
 ],
 "metadata": {
  "kernelspec": {
   "display_name": "MMSR",
   "language": "python",
   "name": "mmsr"
  },
  "language_info": {
   "codemirror_mode": {
    "name": "ipython",
    "version": 3
   },
   "file_extension": ".py",
   "mimetype": "text/x-python",
   "name": "python",
   "nbconvert_exporter": "python",
   "pygments_lexer": "ipython3",
   "version": "3.6.13"
  }
 },
 "nbformat": 4,
 "nbformat_minor": 5
}
