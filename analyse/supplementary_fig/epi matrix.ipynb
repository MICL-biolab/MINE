{
 "cells": [
  {
   "cell_type": "code",
   "execution_count": 1,
   "id": "c6569c47",
   "metadata": {},
   "outputs": [],
   "source": [
    "import os\n",
    "import numpy as np"
   ]
  },
  {
   "cell_type": "code",
   "execution_count": 2,
   "id": "f20cea44",
   "metadata": {},
   "outputs": [],
   "source": [
    "row_hic_path = '/data1/lmh_data/MINE/use_data/GM12878/hr'\n",
    "epi_path = '/data1/lmh_data/MINE/use_data/GM12878/ATAC_H3K27ac_H3K4me3/epi'"
   ]
  },
  {
   "cell_type": "code",
   "execution_count": 3,
   "id": "25b89115",
   "metadata": {},
   "outputs": [],
   "source": [
    "tss_file_path = '/data1/lmh_data/MINE/source/GM12878/Homo_sapiens.GRCh38.104.chr.gff3'\n",
    "\n",
    "def get_tss_gene_info(gene_biotype='protein_coding'):\n",
    "    gene_info = []\n",
    "    with open(tss_file_path, \"r\") as f:\n",
    "        datas = f.readlines()\n",
    "        for data in datas[9:]:\n",
    "            data = data.split('\\t')\n",
    "            if len(data) < 9:\n",
    "                continue\n",
    "            if data[2] != 'gene' or data[8].find(gene_biotype) == -1:\n",
    "                continue\n",
    "            if int(data[4]) - int(data[3]) <= 3000:\n",
    "                continue\n",
    "            if not data[0].isdigit():\n",
    "                continue\n",
    "            chromosome = int(data[0])\n",
    "            start, end = int(int(data[3])/1000), int(int(data[4])/1000)\n",
    "            gene_info.append((chromosome, start, end))\n",
    "    return gene_info\n",
    "\n",
    "gene_info = get_tss_gene_info()"
   ]
  },
  {
   "cell_type": "code",
   "execution_count": 4,
   "id": "6ac741a0",
   "metadata": {},
   "outputs": [],
   "source": [
    "hic, epi = dict(), dict()\n",
    "for chrom in range(1, 23):\n",
    "    filename = 'chr{}_1000b.npz'.format(chrom)\n",
    "    hic[chrom] = np.load(os.path.join(row_hic_path, filename))['hic'].astype(np.uint16)\n",
    "    epi[chrom] = np.load(os.path.join(epi_path, filename))['epi'].astype(np.uint16)"
   ]
  },
  {
   "cell_type": "code",
   "execution_count": 5,
   "id": "e233936b",
   "metadata": {},
   "outputs": [
    {
     "data": {
      "text/plain": [
       "array([[6122.3472984 , 7151.49563309, 5689.94482182],\n",
       "       [7680.93518317, 8730.63927502, 7161.29970378],\n",
       "       [6585.14890008, 7653.74790981, 6128.99619967]])"
      ]
     },
     "execution_count": 5,
     "metadata": {},
     "output_type": "execute_result"
    }
   ],
   "source": [
    "_result, nums = None, 0\n",
    "for chrom in range(1, 23):\n",
    "    _hic, _epi = hic[chrom], epi[chrom]\n",
    "    \n",
    "    for info in gene_info:\n",
    "        if info[0] != chrom:\n",
    "            continue\n",
    "        _win = int(info[1]/400)\n",
    "        if _win != int(info[2]/400):\n",
    "            continue\n",
    "        _start, _end = info[1]-400*_win, info[2]-400*_win\n",
    "        if _start==0 or _end==399:\n",
    "            continue\n",
    "        __epi = _epi[_win, 0, _start-1:_start+2, _end-1:_end+2]\n",
    "        if __epi.max() == 0:\n",
    "            continue\n",
    "        __epi = __epi / __epi.max()\n",
    "        if _result is not None:\n",
    "            _result += __epi\n",
    "        else:\n",
    "            _result = __epi\n",
    "        nums += 1\n",
    "_result"
   ]
  },
  {
   "cell_type": "code",
   "execution_count": 7,
   "id": "9093d11a",
   "metadata": {},
   "outputs": [
    {
     "data": {
      "image/png": "[encoded data removed]",
      "text/plain": [
       "<Figure size 432x288 with 2 Axes>"
      ]
     },
     "metadata": {
      "needs_background": "light"
     },
     "output_type": "display_data"
    }
   ],
   "source": [
    "import matplotlib.pyplot as plt\n",
    "import pandas as pd\n",
    "import seaborn as sns\n",
    "df = pd.DataFrame(_result/nums, columns=['end-1k', 'end', 'end+1k'], index=['start-1k', 'start', 'start+1k'])\n",
    "sns.heatmap(df)\n",
    "plt.savefig('figure_file/epi_matrix.pdf', format='pdf', bbox_inches='tight')\n",
    "plt.show()"
   ]
  }
 ],
 "metadata": {
  "kernelspec": {
   "display_name": "Python 3",
   "language": "python",
   "name": "python3"
  },
  "language_info": {
   "codemirror_mode": {
    "name": "ipython",
    "version": 3
   },
   "file_extension": ".py",
   "mimetype": "text/x-python",
   "name": "python",
   "nbconvert_exporter": "python",
   "pygments_lexer": "ipython3",
   "version": "3.8.8"
  }
 },
 "nbformat": 4,
 "nbformat_minor": 5
}
