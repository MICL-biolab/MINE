{
 "cells": [
  {
   "cell_type": "code",
   "execution_count": 4,
   "id": "86f95b10",
   "metadata": {},
   "outputs": [],
   "source": [
    "import numpy as np\n",
    "import matplotlib.pyplot as plt\n",
    "from tools import merge_matrix, hic_norm, clean_matrix"
   ]
  },
  {
   "cell_type": "code",
   "execution_count": 5,
   "id": "17a27cca",
   "metadata": {},
   "outputs": [
    {
     "name": "stdout",
     "output_type": "stream",
     "text": [
      "(147, 5, 400, 400)\n",
      "(147, 5, 400, 400)\n"
     ]
    }
   ],
   "source": [
    "hr_path = '/data1/lmh_data/MMSR_complete/train/hr/chr19_1000b.npz'\n",
    "hr = np.load(hr_path)['hic'].astype(float)\n",
    "print(hr.shape)\n",
    "\n",
    "result_path = 'chr19_1000b.npz'\n",
    "result = np.load(result_path)['out']\n",
    "print(result.shape)\n",
    "\n",
    "hr = merge_matrix(hr)\n",
    "hr = np.triu(hr).T + np.triu(hr)\n",
    "hr = hic_norm(hr)\n",
    "\n",
    "result = merge_matrix(result)\n",
    "result = np.triu(result).T + np.triu(result)"
   ]
  },
  {
   "cell_type": "code",
   "execution_count": 6,
   "id": "dc2805ce",
   "metadata": {},
   "outputs": [
    {
     "name": "stdout",
     "output_type": "stream",
     "text": [
      "681\n"
     ]
    }
   ],
   "source": [
    "chrom = 'chr19'\n",
    "significants = []\n",
    "\n",
    "import csv\n",
    "from enum import Enum\n",
    "\n",
    "\n",
    "class Position(Enum):\n",
    "    enhancer_chrom = 1\n",
    "    enhancer_end = 3\n",
    "    enhancer_start = 5\n",
    "    label = 6\n",
    "    promoter_chrom = 7\n",
    "    promoter_end = 8\n",
    "    promoter_start = 10\n",
    "\n",
    "\n",
    "with open('/data1/lmh_data/MMSR_complete/source/annotation/EPI_DLMH/data/GM12878.csv', 'r') as f:\n",
    "    reader = csv.reader(f)\n",
    "    # print(type(reader))\n",
    "    headers = next(reader)\n",
    "#     print(headers)\n",
    "    \n",
    "    for row in reader:\n",
    "        if row[Position.label.value] == \"0\":\n",
    "            continue\n",
    "        if row[Position.enhancer_chrom.value] != row[Position.promoter_chrom.value]:\n",
    "            continue\n",
    "        if row[Position.enhancer_chrom.value] != chrom:\n",
    "            continue\n",
    "\n",
    "        enhancer_start = int(int(row[Position.enhancer_start.value]) / 1000)\n",
    "        enhancer_end = int(int(row[Position.enhancer_end.value]) / 1000)\n",
    "        promoter_start = int(int(row[Position.promoter_start.value]) / 1000)\n",
    "        promoter_end = int(int(row[Position.promoter_end.value]) / 1000)\n",
    "\n",
    "        for enhancer_position in range(enhancer_start, enhancer_end + 1):\n",
    "            for promoter_position in range(promoter_start, promoter_end + 1):\n",
    "                significants.append((enhancer_position, promoter_position))\n",
    "\n",
    "print(len(significants))"
   ]
  },
  {
   "cell_type": "code",
   "execution_count": 12,
   "id": "54120fa0",
   "metadata": {},
   "outputs": [
    {
     "name": "stdout",
     "output_type": "stream",
     "text": [
      "317\n",
      "246\n"
     ]
    }
   ],
   "source": [
    "hr_significant, result_significant = 0, 0\n",
    "for significant in significants:\n",
    "    if significant[0] >= hr.shape[0] or significant[1] >= hr.shape[1]:\n",
    "        print(str(significant[0]) + \" \" + str(significant[1]))\n",
    "        continue\n",
    "    y, x = significant[0], significant[1]\n",
    "    if hr[y, x] > 0:\n",
    "        hr_significant += 1\n",
    "    if result[y, x] > 0:\n",
    "        result_significant += 1\n",
    "\n",
    "print(hr_significant)\n",
    "print(result_significant)"
   ]
  },
  {
   "cell_type": "code",
   "execution_count": 13,
   "id": "ca744a39",
   "metadata": {},
   "outputs": [
    {
     "name": "stdout",
     "output_type": "stream",
     "text": [
      "317/23235846\n",
      "246/15338690\n"
     ]
    }
   ],
   "source": [
    "print('{}/{}'.format(hr_significant, np.count_nonzero(hr)))\n",
    "print('{}/{}'.format(result_significant, np.count_nonzero(result)))"
   ]
  },
  {
   "cell_type": "code",
   "execution_count": null,
   "id": "d15f3de4",
   "metadata": {},
   "outputs": [],
   "source": [
    "print(significants)"
   ]
  }
 ],
 "metadata": {
  "kernelspec": {
   "display_name": "Python 3",
   "language": "python",
   "name": "python3"
  },
  "language_info": {
   "codemirror_mode": {
    "name": "ipython",
    "version": 3
   },
   "file_extension": ".py",
   "mimetype": "text/x-python",
   "name": "python",
   "nbconvert_exporter": "python",
   "pygments_lexer": "ipython3",
   "version": "3.8.8"
  }
 },
 "nbformat": 4,
 "nbformat_minor": 5
}
